{
 "cells": [
  {
   "cell_type": "markdown",
   "metadata": {},
   "source": [
    "# Explaining a Self-Explaining Neural Network\n",
    "---"
   ]
  },
  {
   "cell_type": "markdown",
   "metadata": {},
   "source": [
    "<img src=\"img/SENN.png\" alt=\"SENN Architecture Diagram (Alvarez-Melis \\& Jaakkola)]\" style=\"width: 640px;\"/>"
   ]
  },
  {
   "cell_type": "markdown",
   "metadata": {},
   "source": [
    "## Import Libraries"
   ]
  },
  {
   "cell_type": "code",
   "execution_count": 1,
   "metadata": {},
   "outputs": [],
   "source": [
    "import torch\n",
    "import torch.nn as nn\n",
    "import torch.optim as optim\n",
    "\n",
    "import numpy as np\n",
    "import matplotlib.pyplot as plt\n",
    "\n",
    "%matplotlib inline"
   ]
  },
  {
   "cell_type": "markdown",
   "metadata": {},
   "source": [
    "## Computing the Jacobian with Pytorch Autograd"
   ]
  },
  {
   "cell_type": "markdown",
   "metadata": {},
   "source": [
    "**How Autograd builds a computation graph?**\n",
    "* Pytorch autograd engine is based on two major classes: ```Tensor``` and ```Function```\n",
    "* Using these together, the autograd engine builds a computation graph\n",
    "* Each ```Tensor``` has a ```.grad_fn``` attribute that records how it was generated\n",
    "* A user-defined ```Tensor``` (a leaf node on the computation graph) has its ```.grad_fn``` set to ```None```\n",
    "* A ```Tensor``` generated from an operation like ```+``` or ```*``` has its ```.grad_fn``` set to that ```Function``` operation"
   ]
  },
  {
   "cell_type": "markdown",
   "metadata": {},
   "source": [
    "**How to compute gradients in the Autograd computation graph?**\n",
    "* If the ```Tensor``` we want to compute the gradient against is a scalar, we simply call ```.backward()``` on it\n",
    "* If the ```Tensor``` we want to compute the gradient against is multi-dimensional, we pass a gradient value to the ```.backward()``` method"
   ]
  },
  {
   "cell_type": "code",
   "execution_count": 2,
   "metadata": {},
   "outputs": [],
   "source": [
    "def jacobian_demo(in_dim, out_dim):\n",
    "    '''\n",
    "    A Jacobian Demo:\n",
    "    Set out_dim = 1 for default behaviour\n",
    "    Set out_dim > 1 for magic\n",
    "    '''\n",
    "    x = torch.ones(in_dim, requires_grad=True)\n",
    "    w = torch.randn((in_dim, out_dim))\n",
    "    y = x@w\n",
    "    print(f\"x= {x}\")\n",
    "    print(f\"W= {w}\")\n",
    "    print(f\"y= {y}\")\n",
    "\n",
    "    if out_dim == 1:\n",
    "        #y.backward() # equivalent to y.backward(torch.tensor(1.))\n",
    "        grad_matrix = torch.tensor([1.])\n",
    "        x_grad = torch.autograd.grad(outputs=y, inputs=x, grad_outputs=grad_matrix,\n",
    "                                     create_graph=True, only_inputs=True)\n",
    "    else:\n",
    "        #y.backward(torch.ones(out_dim))\n",
    "        grad_matrix = torch.ones(out_dim)\n",
    "        x_grad = torch.autograd.grad(outputs=y, inputs=x, grad_outputs=grad_matrix,\n",
    "                                     create_graph=True, only_inputs=True)\n",
    "\n",
    "    #print(f\"dy/dx = {x.grad}\")\n",
    "    print(f\"dy/dx = {x_grad}\")"
   ]
  },
  {
   "cell_type": "code",
   "execution_count": 3,
   "metadata": {},
   "outputs": [
    {
     "name": "stdout",
     "output_type": "stream",
     "text": [
      "x= tensor([1., 1., 1.], requires_grad=True)\n",
      "W= tensor([[-1.2912],\n",
      "        [-1.0276],\n",
      "        [-0.6339]])\n",
      "y= tensor([-2.9527], grad_fn=<SqueezeBackward3>)\n",
      "dy/dx = (tensor([-1.2912, -1.0276, -0.6339]),)\n"
     ]
    }
   ],
   "source": [
    "jacobian_demo(in_dim=3, out_dim=1)"
   ]
  },
  {
   "cell_type": "code",
   "execution_count": 4,
   "metadata": {},
   "outputs": [
    {
     "name": "stdout",
     "output_type": "stream",
     "text": [
      "x= tensor([1., 1., 1.], requires_grad=True)\n",
      "W= tensor([[-1.2833,  1.9759],\n",
      "        [-0.6321,  0.8001],\n",
      "        [-0.8381, -0.9394]])\n",
      "y= tensor([-2.7535,  1.8366], grad_fn=<SqueezeBackward3>)\n",
      "dy/dx = (tensor([ 0.6927,  0.1680, -1.7775]),)\n"
     ]
    }
   ],
   "source": [
    "jacobian_demo(in_dim=3, out_dim=2)"
   ]
  },
  {
   "cell_type": "markdown",
   "metadata": {},
   "source": [
    "**PyTorch Autograd behind the scenes**\n",
    "* Every node in the computation graph recieves the gradient from the node above it\n",
    "* Autograd computes the product of the Jacobian of the current node with the incoming gradient vector\n",
    "* So the grad of a node is computed as: $\\mathbf{v}^{T} \\cdot \\mathbf{J}$\n",
    "* For a scalar node, the incoming gradient vector is just a ```1 x 1``` vector\n",
    "* The nodes after a scalar node then recieve the Jacobian of the scalar node w.r.t. to a vector as a ```out_dim x 1``` vector"
   ]
  },
  {
   "cell_type": "code",
   "execution_count": 5,
   "metadata": {},
   "outputs": [
    {
     "name": "stdout",
     "output_type": "stream",
     "text": [
      "torch.Size([1, 3])\n"
     ]
    }
   ],
   "source": [
    "batch = 1\n",
    "num_features = 3\n",
    "num_outputs = 2\n",
    "x = torch.randn(batch, num_features)\n",
    "print(x.shape)\n",
    "w = nn.Parameter(torch.randn(num_features, num_outputs))\n",
    "net = lambda x: x@w"
   ]
  },
  {
   "cell_type": "code",
   "execution_count": 6,
   "metadata": {},
   "outputs": [
    {
     "name": "stdout",
     "output_type": "stream",
     "text": [
      "torch.Size([2, 3])\n",
      "torch.Size([2, 2])\n"
     ]
    }
   ],
   "source": [
    "x = x.squeeze()\n",
    "n = x.size()[0]\n",
    "x = x.repeat(num_outputs, 1)\n",
    "x.requires_grad_(True)\n",
    "print(x.shape)\n",
    "y = net(x)\n",
    "print(y.shape)\n",
    "# step inside this call to see\n",
    "y.backward(torch.eye(num_outputs))"
   ]
  },
  {
   "cell_type": "markdown",
   "metadata": {},
   "source": [
    "## Jacobian Function"
   ]
  },
  {
   "cell_type": "code",
   "execution_count": 7,
   "metadata": {},
   "outputs": [],
   "source": [
    "def jacobian(f, x, out_dim):\n",
    "    input = x.clone().detach()\n",
    "    bsize = input.size()[0]\n",
    "    # (bs, in_dim) --repeated--> (bs, out_dim, in_dim)\n",
    "    input = input.unsqueeze(1).repeat(1, out_dim, 1)\n",
    "    input.requires_grad_(True)\n",
    "    # can only compute Jacobian of inputs and outputs with 2 dimensions\n",
    "    out = f(input).reshape(bsize, out_dim, out_dim)\n",
    "    # for autograd of non-scalar outputs\n",
    "    grad_matrix = torch.eye(out_dim).reshape(1,out_dim, out_dim).repeat(bsize, 1, 1)\n",
    "\n",
    "#     out.backward(grad_matrix)\n",
    "#     return input.grad.data\n",
    "\n",
    "    jacobian = torch.autograd.grad(outputs=out, inputs=input, grad_outputs=grad_matrix, create_graph=True, only_inputs=True)\n",
    "    return jacobian[0]"
   ]
  },
  {
   "cell_type": "markdown",
   "metadata": {},
   "source": [
    "## Test the Jacobian"
   ]
  },
  {
   "cell_type": "code",
   "execution_count": 8,
   "metadata": {},
   "outputs": [],
   "source": [
    "class Net(torch.nn.Module):\n",
    "    def __init__(self, in_dim, out_dim):\n",
    "        super(Net, self).__init__()\n",
    "        self.fc1 = torch.nn.Linear(in_dim, out_dim)\n",
    "    \n",
    "    def forward(self, x):\n",
    "        return torch.nn.functional.relu(self.fc1(x))"
   ]
  },
  {
   "cell_type": "code",
   "execution_count": 9,
   "metadata": {},
   "outputs": [
    {
     "name": "stdout",
     "output_type": "stream",
     "text": [
      "torch.Size([2, 5])\n"
     ]
    }
   ],
   "source": [
    "batch = 2\n",
    "num_features = 5\n",
    "num_outputs = 2\n",
    "x = torch.randn(batch, num_features)\n",
    "print(x.shape)"
   ]
  },
  {
   "cell_type": "code",
   "execution_count": 10,
   "metadata": {},
   "outputs": [],
   "source": [
    "f = Net(num_features, num_outputs)"
   ]
  },
  {
   "cell_type": "code",
   "execution_count": 11,
   "metadata": {},
   "outputs": [
    {
     "data": {
      "text/plain": [
       "torch.Size([2, 2])"
      ]
     },
     "execution_count": 11,
     "metadata": {},
     "output_type": "execute_result"
    }
   ],
   "source": [
    "f(x).shape"
   ]
  },
  {
   "cell_type": "code",
   "execution_count": 12,
   "metadata": {},
   "outputs": [
    {
     "data": {
      "text/plain": [
       "(tensor([[[-0.2620, -0.2920,  0.4270,  0.3661, -0.0286],\n",
       "          [ 0.1085,  0.2286, -0.4462, -0.1372,  0.3680]],\n",
       " \n",
       "         [[ 0.0000,  0.0000,  0.0000,  0.0000,  0.0000],\n",
       "          [ 0.1085,  0.2286, -0.4462, -0.1372,  0.3680]]],\n",
       "        grad_fn=<AsStridedBackward>), torch.Size([2, 2, 5]))"
      ]
     },
     "execution_count": 12,
     "metadata": {},
     "output_type": "execute_result"
    }
   ],
   "source": [
    "J = jacobian(f, x, num_outputs)\n",
    "J, J.shape"
   ]
  },
  {
   "cell_type": "markdown",
   "metadata": {},
   "source": [
    "## SENN as Linear Regression"
   ]
  },
  {
   "cell_type": "code",
   "execution_count": 13,
   "metadata": {},
   "outputs": [],
   "source": [
    "bsize = 10\n",
    "in_dim = 1\n",
    "h_dim = in_dim # for the identity conceptizer case\n",
    "out_dim = 1"
   ]
  },
  {
   "cell_type": "code",
   "execution_count": 14,
   "metadata": {},
   "outputs": [],
   "source": [
    "def get_sine(bsize):\n",
    "    x = torch.arange(0, 2*np.pi, 2*np.pi/bsize).unsqueeze(-1)\n",
    "    y = torch.sin(x)\n",
    "    return x, y"
   ]
  },
  {
   "cell_type": "code",
   "execution_count": 15,
   "metadata": {},
   "outputs": [],
   "source": [
    "def get_x2(bsize):\n",
    "    x = torch.arange(-1, 1, 2/bsize).unsqueeze(-1)\n",
    "    y = x*x\n",
    "    return x, y"
   ]
  },
  {
   "cell_type": "code",
   "execution_count": 16,
   "metadata": {},
   "outputs": [],
   "source": [
    "def get_line(bsize):\n",
    "    x = torch.arange(-1, 1, 2/bsize).unsqueeze(-1)\n",
    "    y = 2*x\n",
    "    return x, y"
   ]
  },
  {
   "cell_type": "code",
   "execution_count": 17,
   "metadata": {},
   "outputs": [
    {
     "data": {
      "image/png": "[encoded data removed]",
      "text/plain": [
       "<Figure size 432x288 with 1 Axes>"
      ]
     },
     "metadata": {
      "needs_background": "light"
     },
     "output_type": "display_data"
    }
   ],
   "source": [
    "x,y = get_x2(bsize)\n",
    "plt.plot(x, y)\n",
    "plt.show()"
   ]
  },
  {
   "cell_type": "markdown",
   "metadata": {},
   "source": [
    "### Concepts"
   ]
  },
  {
   "cell_type": "code",
   "execution_count": 18,
   "metadata": {},
   "outputs": [
    {
     "data": {
      "text/plain": [
       "torch.Size([10, 1])"
      ]
     },
     "execution_count": 18,
     "metadata": {},
     "output_type": "execute_result"
    }
   ],
   "source": [
    "Conceptualizer = lambda x: x\n",
    "concepts = Conceptualizer(x)\n",
    "concepts.shape"
   ]
  },
  {
   "cell_type": "markdown",
   "metadata": {},
   "source": [
    "### Relevances"
   ]
  },
  {
   "cell_type": "code",
   "execution_count": 19,
   "metadata": {},
   "outputs": [
    {
     "data": {
      "text/plain": [
       "torch.Size([10, 1])"
      ]
     },
     "execution_count": 19,
     "metadata": {},
     "output_type": "execute_result"
    }
   ],
   "source": [
    "w = nn.Parameter(torch.randn(in_dim, out_dim*h_dim))\n",
    "Parameterizer = lambda x: (x@w) \n",
    "relevances = Parameterizer(x)\n",
    "relevances.shape"
   ]
  },
  {
   "cell_type": "markdown",
   "metadata": {},
   "source": [
    "### Aggregates"
   ]
  },
  {
   "cell_type": "code",
   "execution_count": 20,
   "metadata": {},
   "outputs": [
    {
     "data": {
      "text/plain": [
       "torch.Size([10, 1])"
      ]
     },
     "execution_count": 20,
     "metadata": {},
     "output_type": "execute_result"
    }
   ],
   "source": [
    "Aggregator = lambda x: (x[0]*x[1]).sum(1).unsqueeze(-1)\n",
    "aggregates = Aggregator((relevances, concepts))\n",
    "aggregates.shape"
   ]
  },
  {
   "cell_type": "markdown",
   "metadata": {},
   "source": [
    "## SENN"
   ]
  },
  {
   "cell_type": "markdown",
   "metadata": {},
   "source": [
    "### Conceptualizer"
   ]
  },
  {
   "cell_type": "code",
   "execution_count": 21,
   "metadata": {},
   "outputs": [],
   "source": [
    "class Conceptualizer(nn.Module):\n",
    "    \n",
    "    def __init__(self):   super().__init__()\n",
    "    def forward(self, x): return x"
   ]
  },
  {
   "cell_type": "markdown",
   "metadata": {},
   "source": [
    "### Parameterizer"
   ]
  },
  {
   "cell_type": "code",
   "execution_count": 22,
   "metadata": {},
   "outputs": [],
   "source": [
    "class Parameterizer(nn.Module):\n",
    "    \n",
    "    def __init__(self, in_dim, h_dim):\n",
    "        super().__init__()\n",
    "        self.W = nn.Parameter(torch.randn((in_dim, h_dim)))\n",
    "    \n",
    "    def forward(self, x):\n",
    "        return x@self.W"
   ]
  },
  {
   "cell_type": "markdown",
   "metadata": {},
   "source": [
    "### Aggregator"
   ]
  },
  {
   "cell_type": "code",
   "execution_count": 23,
   "metadata": {},
   "outputs": [],
   "source": [
    "class Aggregator(nn.Module):\n",
    "    \n",
    "    def __init__(self):\n",
    "        super().__init__()\n",
    "    \n",
    "    def forward(self, concepts, relevances):\n",
    "        return (concepts * relevances)"
   ]
  },
  {
   "cell_type": "code",
   "execution_count": 24,
   "metadata": {},
   "outputs": [],
   "source": [
    "class SENN(nn.Module):\n",
    "    \n",
    "    def __init__(self, conceptualizer, parameterizer, aggregator):\n",
    "        super().__init__()\n",
    "        self.conceptualizer = conceptualizer\n",
    "        self.parameterizer = parameterizer\n",
    "        self.aggregator = aggregator\n",
    "    \n",
    "    def forward(self, x):\n",
    "        concepts = self.conceptualizer(x)\n",
    "        relevances = self.parameterizer(x)\n",
    "        aggregates = self.aggregator(relevances,concepts)\n",
    "        return aggregates, relevances, concepts"
   ]
  },
  {
   "cell_type": "markdown",
   "metadata": {},
   "source": [
    "### Robustness Loss"
   ]
  },
  {
   "cell_type": "markdown",
   "metadata": {},
   "source": [
    "$$\\mathcal{L}_\\theta := \\| \\nabla_{x} f(x) - \\theta(x)^{T} J_{x}^{h}(x) \\|$$"
   ]
  },
  {
   "cell_type": "code",
   "execution_count": 25,
   "metadata": {},
   "outputs": [],
   "source": [
    "def compute_jacobian(x, fx):\n",
    "    b = x.shape[0]\n",
    "    n = x.shape[-1]\n",
    "    m = fx.shape[-1]\n",
    "    jacobians = []\n",
    "    for i in range(m):\n",
    "        grad_tensor = torch.zeros(b, m)\n",
    "        grad_tensor[:,i] = 1\n",
    "        j = torch.autograd.grad(outputs=fx, inputs=x, grad_outputs=grad_tensor,\n",
    "                                create_graph=True, only_inputs=True)[0]\n",
    "        jacobians.append(j.view(bsize,-1).unsqueeze(-1)) # b x m x n\n",
    "    J = torch.cat(jacobians,dim=2)\n",
    "    return J"
   ]
  },
  {
   "cell_type": "code",
   "execution_count": 26,
   "metadata": {},
   "outputs": [],
   "source": [
    "def get_robustness_loss(x, aggregates, concepts, relevances):\n",
    "    relevances = relevances.reshape(-1,num_classes,num_concepts)\n",
    "    J_yx = compute_jacobian(x, aggregates)\n",
    "    J_hx = compute_jacobian(x, concepts)\n",
    "    robustness_loss = (J_yx - torch.bmm(relevances, J_hx))\n",
    "    return robustness_loss.norm(p='fro')"
   ]
  },
  {
   "cell_type": "markdown",
   "metadata": {},
   "source": [
    "### Regression Loss"
   ]
  },
  {
   "cell_type": "code",
   "execution_count": 27,
   "metadata": {},
   "outputs": [],
   "source": [
    "mse_loss = nn.MSELoss()"
   ]
  },
  {
   "cell_type": "markdown",
   "metadata": {},
   "source": [
    "### Reconstruction Loss"
   ]
  },
  {
   "cell_type": "code",
   "execution_count": 28,
   "metadata": {},
   "outputs": [],
   "source": [
    "recon_loss = 0."
   ]
  },
  {
   "cell_type": "markdown",
   "metadata": {},
   "source": [
    "## Training"
   ]
  },
  {
   "cell_type": "markdown",
   "metadata": {},
   "source": [
    "**Loss=** $\\mathcal{L}_y (f(x), y) + \\lambda \\mathcal{L}_\\theta (f) + \\xi \\mathcal{L}_h (x, \\hat{x})$"
   ]
  },
  {
   "cell_type": "code",
   "execution_count": 29,
   "metadata": {},
   "outputs": [],
   "source": [
    "num_epochs = 20\n",
    "num_features = in_dim\n",
    "num_classes = out_dim\n",
    "num_concepts = h_dim\n",
    "robust_lambda = 0.01"
   ]
  },
  {
   "cell_type": "code",
   "execution_count": 30,
   "metadata": {},
   "outputs": [],
   "source": [
    "conceptualizer = Conceptualizer()\n",
    "parameterizer = Parameterizer(num_features, num_concepts)\n",
    "aggregator = Aggregator()\n",
    "senn = SENN(conceptualizer, parameterizer, aggregator)"
   ]
  },
  {
   "cell_type": "code",
   "execution_count": 31,
   "metadata": {},
   "outputs": [],
   "source": [
    "opt = optim.SGD(senn.parameters(), lr=0.3)"
   ]
  },
  {
   "cell_type": "code",
   "execution_count": 32,
   "metadata": {},
   "outputs": [
    {
     "name": "stdout",
     "output_type": "stream",
     "text": [
      "EPOCH#1\tLoss:0.282 Regression:0.244 Robustness: 3.814\n",
      "EPOCH#2\tLoss:0.219 Regression:0.183 Robustness: 3.552\n",
      "EPOCH#3\tLoss:0.171 Regression:0.137 Robustness: 3.323\n",
      "EPOCH#4\tLoss:0.134 Regression:0.103 Robustness: 3.124\n",
      "EPOCH#5\tLoss:0.106 Regression:0.077 Robustness: 2.950\n",
      "EPOCH#6\tLoss:0.085 Regression:0.057 Robustness: 2.798\n",
      "EPOCH#7\tLoss:0.069 Regression:0.042 Robustness: 2.666\n",
      "EPOCH#8\tLoss:0.057 Regression:0.031 Robustness: 2.550\n",
      "EPOCH#9\tLoss:0.048 Regression:0.023 Robustness: 2.450\n",
      "EPOCH#10\tLoss:0.040 Regression:0.017 Robustness: 2.362\n",
      "EPOCH#11\tLoss:0.035 Regression:0.012 Robustness: 2.286\n",
      "EPOCH#12\tLoss:0.031 Regression:0.009 Robustness: 2.219\n",
      "EPOCH#13\tLoss:0.028 Regression:0.006 Robustness: 2.161\n",
      "EPOCH#14\tLoss:0.026 Regression:0.004 Robustness: 2.110\n",
      "EPOCH#15\tLoss:0.024 Regression:0.003 Robustness: 2.066\n",
      "EPOCH#16\tLoss:0.022 Regression:0.002 Robustness: 2.027\n",
      "EPOCH#17\tLoss:0.021 Regression:0.001 Robustness: 1.993\n",
      "EPOCH#18\tLoss:0.021 Regression:0.001 Robustness: 1.964\n",
      "EPOCH#19\tLoss:0.020 Regression:0.001 Robustness: 1.939\n",
      "EPOCH#20\tLoss:0.019 Regression:0.000 Robustness: 1.916\n"
     ]
    }
   ],
   "source": [
    "for epoch in range(num_epochs):\n",
    "    # enable tracing to compute jacobian for robustness loss\n",
    "    x.requires_grad_(True)\n",
    "    aggregates, relevances, concepts = senn(x)\n",
    "    \n",
    "    regression_loss = mse_loss(aggregates, y) \n",
    "    robustness_loss = get_robustness_loss(x, aggregates, relevances, concepts)\n",
    "    loss = regression_loss + robust_lambda*robustness_loss + recon_loss\n",
    "    \n",
    "    print(f\"EPOCH#{epoch+1}\\t\"\n",
    "          f\"Loss:{loss:.3f} \"\n",
    "          f\"Regression:{regression_loss:.3f} \"\n",
    "          f\"Robustness: {robustness_loss:.3f}\")\n",
    "    loss.backward()\n",
    "    opt.step()\n",
    "    opt.zero_grad()"
   ]
  },
  {
   "cell_type": "code",
   "execution_count": 36,
   "metadata": {},
   "outputs": [
    {
     "data": {
      "image/png": "[encoded data removed]",
      "text/plain": [
       "<Figure size 432x288 with 1 Axes>"
      ]
     },
     "metadata": {
      "needs_background": "light"
     },
     "output_type": "display_data"
    }
   ],
   "source": [
    "with torch.no_grad():\n",
    "    aggregates, relevances, concepts = senn(x)\n",
    "    plt.plot(x, aggregates, \"b.\")\n",
    "    plt.plot(x, y)"
   ]
  },
  {
   "cell_type": "code",
   "execution_count": 34,
   "metadata": {},
   "outputs": [
    {
     "data": {
      "text/plain": [
       "1.028669834136963"
      ]
     },
     "execution_count": 34,
     "metadata": {},
     "output_type": "execute_result"
    }
   ],
   "source": [
    "senn.parameterizer.W.item()"
   ]
  },
  {
   "cell_type": "markdown",
   "metadata": {},
   "source": [
    "#"
   ]
  }
 ],
 "metadata": {
  "kernelspec": {
   "display_name": "Python 3",
   "language": "python",
   "name": "python3"
  },
  "language_info": {
   "codemirror_mode": {
    "name": "ipython",
    "version": 3
   },
   "file_extension": ".py",
   "mimetype": "text/x-python",
   "name": "python",
   "nbconvert_exporter": "python",
   "pygments_lexer": "ipython3",
   "version": "3.7.5"
  }
 },
 "nbformat": 4,
 "nbformat_minor": 4
}
