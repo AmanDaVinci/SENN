{
 "cells": [
  {
   "cell_type": "markdown",
   "metadata": {},
   "source": [
    "# Self-Explaining Neural Networks with Disentanglement\n",
    "---"
   ]
  },
  {
   "cell_type": "markdown",
   "metadata": {},
   "source": [
    "## Import libraries"
   ]
  },
  {
   "cell_type": "code",
   "execution_count": 1,
   "metadata": {},
   "outputs": [],
   "source": [
    "import sys\n",
    "sys.path.append('..')"
   ]
  },
  {
   "cell_type": "code",
   "execution_count": 2,
   "metadata": {},
   "outputs": [],
   "source": [
    "import torch\n",
    "import torch.nn as nn\n",
    "from torchvision.utils import make_grid\n",
    "import numpy as np\n",
    "from pathlib import Path\n",
    "from types import SimpleNamespace\n",
    "import matplotlib.pyplot as plt\n",
    "\n",
    "%matplotlib inline"
   ]
  },
  {
   "cell_type": "code",
   "execution_count": 3,
   "metadata": {},
   "outputs": [],
   "source": [
    "from models.losses import *\n",
    "from models.parameterizer import ConvParameterizer\n",
    "from models.conceptizer import ConvConceptizer, VaeConceptizer\n",
    "from models.aggregator import SumAggregator"
   ]
  },
  {
   "cell_type": "markdown",
   "metadata": {},
   "source": [
    "## Configuration"
   ]
  },
  {
   "cell_type": "code",
   "execution_count": 4,
   "metadata": {},
   "outputs": [],
   "source": [
    "plt.style.use('seaborn-paper')"
   ]
  },
  {
   "cell_type": "code",
   "execution_count": 5,
   "metadata": {},
   "outputs": [],
   "source": [
    "config = {\n",
    "  \"model_class\": \"DiSENN\",\n",
    "  \"conceptizer\": \"VaeConceptizer\",\n",
    "  \"pretrain_epochs\": 1,\n",
    "  \"beta\": 4.0,\n",
    "  \"concept_loss\": \"BVAE_loss\",\n",
    "  \"robustness_loss\": \"mnist_robustness_loss\",\n",
    "  \"train\": True,\n",
    "  \"image_size\": 28,\n",
    "  \"concept_dim\": 1,\n",
    "  \"concept_visualization\": None,\n",
    "  \"parameterizer\": \"ConvParameterizer\",\n",
    "  \"cl_sizes\": [1, 10, 20],\n",
    "  \"hidden_sizes\": [320, 50],\n",
    "  \"num_concepts\": 5,\n",
    "  \"num_classes\": 10,\n",
    "  \"dropout\": 0.5,\n",
    "  \"aggregator\": \"SumAggregator\",\n",
    "  \"device\": \"cpu\",\n",
    "  \"lr\": 1e-3,\n",
    "  \"epochs\": 5,\n",
    "  \"robust_reg\": 1e-3,\n",
    "  \"concept_reg\": 1,\n",
    "  \"print_freq\": 50,\n",
    "  \"exp_name\": \"test_mnist_bvae\",\n",
    "  \"dataloader\": \"mnist\",\n",
    "  \"data_path\": \"datasets/data/mnist_data\",\n",
    "  \"batch_size\" : 128,\n",
    "  \"eval_freq\" : 100\n",
    "}\n",
    "config = SimpleNamespace(**config)"
   ]
  },
  {
   "cell_type": "markdown",
   "metadata": {},
   "source": [
    "config = {\n",
    "  \"model_class\": \"DiSENN\",\n",
    "  \"conceptizer\": \"VaeConceptizer\",\n",
    "  \"pretrain_epochs\": 3,\n",
    "  \"beta\": 4.0,\n",
    "  \"concept_loss\": \"BVAE_loss\",\n",
    "  \"robustness_loss\": \"mnist_robustness_loss\",\n",
    "  \"train\": True,\n",
    "  \"image_size\": 28,\n",
    "  \"concept_dim\": 1,\n",
    "  \"concept_visualization\": None,\n",
    "  \"parameterizer\": \"ConvParameterizer\",\n",
    "  \"cl_sizes\": [1, 10, 20],\n",
    "  \"hidden_sizes\": [320, 50],\n",
    "  \"num_concepts\": 5,\n",
    "  \"num_classes\": 10,\n",
    "  \"dropout\": 0.5,\n",
    "  \"aggregator\": \"SumAggregator\",\n",
    "  \"device\": \"cuda:0\",\n",
    "  \"lr\": 1e-3,\n",
    "  \"epochs\": 5,\n",
    "  \"robust_reg\": 1e-3,\n",
    "  \"concept_reg\": 1,\n",
    "  \"print_freq\": 50,\n",
    "  \"exp_name\": \"mnist_bvae_default\",\n",
    "  \"dataloader\": \"mnist\",\n",
    "  \"data_path\": \"datasets/data/mnist_data\",\n",
    "  \"batch_size\" : 128,\n",
    "  \"eval_freq\" : 100\n",
    "}\n",
    "config = SimpleNamespace(**config)"
   ]
  },
  {
   "cell_type": "markdown",
   "metadata": {},
   "source": [
    "config = {\n",
    "  \"model_class\": \"DiSENN\",\n",
    "  \"conceptizer\": \"VaeConceptizer\",\n",
    "  \"pretrain_epochs\": 3,\n",
    "  \"beta\": 4.0,\n",
    "  \"concept_loss\": \"BVAE_loss\",\n",
    "  \"robustness_loss\": \"mnist_robustness_loss\",\n",
    "  \"train\": True,\n",
    "  \"image_size\": 28,\n",
    "  \"concept_dim\": 1,\n",
    "  \"concept_visualization\": None,\n",
    "  \"parameterizer\": \"ConvParameterizer\",\n",
    "  \"hidden_sizes\": [320, 100],\n",
    "  \"num_concepts\": 10,\n",
    "  \"num_classes\": 10,\n",
    "  \"dropout\": 0.5,\n",
    "  \"aggregator\": \"SumAggregator\",\n",
    "  \"device\": \"cuda:0\",\n",
    "  \"lr\": 1e-3,\n",
    "  \"epochs\": 5,\n",
    "  \"robust_reg\": 1e-3,\n",
    "  \"concept_reg\": 1,\n",
    "  \"print_freq\": 50,\n",
    "  \"exp_name\": \"mnist_bvae_concepts10\",\n",
    "  \"dataloader\": \"mnist\",\n",
    "  \"data_path\": \"datasets/data/mnist_data\",\n",
    "  \"batch_size\" : 128,\n",
    "  \"eval_freq\" : 100\n",
    "}\n",
    "config = SimpleNamespace(**config)"
   ]
  },
  {
   "cell_type": "markdown",
   "metadata": {},
   "source": [
    "config = {\n",
    "  \"model_class\": \"DiSENN\",\n",
    "  \"conceptizer\": \"VaeConceptizer\",\n",
    "  \"pretrain_epochs\": 3,\n",
    "  \"beta\": 4.0,\n",
    "  \"concept_loss\": \"BVAE_loss\",\n",
    "  \"robustness_loss\": \"mnist_robustness_loss\",\n",
    "  \"train\": True,\n",
    "  \"image_size\": 28,\n",
    "  \"concept_dim\": 1,\n",
    "  \"concept_visualization\": None,\n",
    "  \"parameterizer\": \"ConvParameterizer\",\n",
    "  \"hidden_sizes\": [320, 200],\n",
    "  \"num_concepts\": 20,\n",
    "  \"num_classes\": 10,\n",
    "  \"dropout\": 0.5,\n",
    "  \"aggregator\": \"SumAggregator\",\n",
    "  \"device\": \"cpu\",\n",
    "  \"lr\": 1e-3,\n",
    "  \"epochs\": 5,\n",
    "  \"robust_reg\": 1e-3,\n",
    "  \"concept_reg\": 1,\n",
    "  \"print_freq\": 50,\n",
    "  \"exp_name\": \"mnist_bvae_concepts20\",\n",
    "  \"dataloader\": \"mnist\",\n",
    "  \"data_path\": \"datasets/data/mnist_data\",\n",
    "  \"batch_size\" : 128,\n",
    "  \"eval_freq\" : 100\n",
    "}\n",
    "config = SimpleNamespace(**config)"
   ]
  },
  {
   "cell_type": "markdown",
   "metadata": {},
   "source": [
    "# DiSENN\n",
    "DiSENN (Self-Explaining Neural Networks with Disentanglement) is an extension of the Self-Explaining Neural Network proposed by [1]  "
   ]
  },
  {
   "cell_type": "markdown",
   "metadata": {},
   "source": [
    "DiSENN incorporates a constrained variational inference framework on a \n",
    "SENN Concept Encoder to learn disentangled representations of the \n",
    "basis concepts as in [2]. The basis concepts are then independently\n",
    "sensitive to single generative factors leading to better interpretability \n",
    "and lesser overlap with other basis concepts. Such a strong constraint \n",
    "better fulfills the \"diversity\" desiderata for basis concepts\n",
    "in a Self-Explaining Neural Network.\n",
    "\n",
    "\n",
    "References  \n",
    "[1] Alvarez Melis, et al.\n",
    "\"Towards Robust Interpretability with Self-Explaining Neural Networks\" NIPS 2018  \n",
    "[2] Irina Higgins, et al. \n",
    "”β-VAE: Learning basic visual concepts with a constrained variational framework.” ICLR 2017. "
   ]
  },
  {
   "cell_type": "code",
   "execution_count": 6,
   "metadata": {},
   "outputs": [],
   "source": [
    "from models.senn import DiSENN"
   ]
  },
  {
   "cell_type": "markdown",
   "metadata": {},
   "source": [
    "## Load Data"
   ]
  },
  {
   "cell_type": "code",
   "execution_count": 7,
   "metadata": {},
   "outputs": [],
   "source": [
    "from datasets.dataloaders import get_dataloader\n",
    "train_dl, val_dl, _ = get_dataloader(config)"
   ]
  },
  {
   "cell_type": "markdown",
   "metadata": {},
   "source": [
    "## Training"
   ]
  },
  {
   "cell_type": "code",
   "execution_count": 8,
   "metadata": {},
   "outputs": [],
   "source": [
    "from trainer import DiSENNTrainer"
   ]
  },
  {
   "cell_type": "code",
   "execution_count": 9,
   "metadata": {},
   "outputs": [
    {
     "name": "stdout",
     "output_type": "stream",
     "text": [
      "Using device cpu\n",
      "Loading data ...\n",
      "SENN(\n",
      "  (conceptizer): VaeConceptizer(\n",
      "    (encoder): VaeEncoder(\n",
      "      (FC): Sequential(\n",
      "        (0): Flatten()\n",
      "        (1): Linear(in_features=784, out_features=512, bias=True)\n",
      "        (2): ReLU()\n",
      "        (3): Linear(in_features=512, out_features=256, bias=True)\n",
      "        (4): ReLU()\n",
      "        (5): Linear(in_features=256, out_features=100, bias=True)\n",
      "        (6): ReLU()\n",
      "      )\n",
      "      (mean_layer): Linear(in_features=100, out_features=5, bias=True)\n",
      "      (logvar_layer): Linear(in_features=100, out_features=5, bias=True)\n",
      "    )\n",
      "    (decoder): VaeDecoder(\n",
      "      (FC): Sequential(\n",
      "        (0): Linear(in_features=5, out_features=100, bias=True)\n",
      "        (1): ReLU()\n",
      "        (2): Linear(in_features=100, out_features=256, bias=True)\n",
      "        (3): ReLU()\n",
      "        (4): Linear(in_features=256, out_features=512, bias=True)\n",
      "        (5): ReLU()\n",
      "        (6): Linear(in_features=512, out_features=784, bias=True)\n",
      "      )\n",
      "    )\n",
      "  )\n",
      "  (parameterizer): ConvParameterizer(\n",
      "    (cl_layers): Sequential(\n",
      "      (0): Conv2d(1, 10, kernel_size=(5, 5), stride=(1, 1))\n",
      "      (1): MaxPool2d(kernel_size=2, stride=2, padding=0, dilation=1, ceil_mode=False)\n",
      "      (2): ReLU()\n",
      "      (3): Conv2d(10, 20, kernel_size=(5, 5), stride=(1, 1))\n",
      "      (4): Dropout2d(p=0.5, inplace=False)\n",
      "      (5): MaxPool2d(kernel_size=2, stride=2, padding=0, dilation=1, ceil_mode=False)\n",
      "      (6): ReLU()\n",
      "    )\n",
      "    (fc_layers): Sequential(\n",
      "      (0): Linear(in_features=320, out_features=50, bias=True)\n",
      "      (1): Dropout(p=0.5, inplace=False)\n",
      "      (2): Tanh()\n",
      "    )\n",
      "  )\n",
      "  (aggregator): SumAggregator()\n",
      ")\n",
      "Trainable Parameters: 1141520\n",
      "\n",
      "Reinstantiating for DiSENN ...\n",
      "DiSENN(\n",
      "  (vae_conceptizer): VaeConceptizer(\n",
      "    (encoder): VaeEncoder(\n",
      "      (FC): Sequential(\n",
      "        (0): Flatten()\n",
      "        (1): Linear(in_features=784, out_features=512, bias=True)\n",
      "        (2): ReLU()\n",
      "        (3): Linear(in_features=512, out_features=256, bias=True)\n",
      "        (4): ReLU()\n",
      "        (5): Linear(in_features=256, out_features=100, bias=True)\n",
      "        (6): ReLU()\n",
      "      )\n",
      "      (mean_layer): Linear(in_features=100, out_features=5, bias=True)\n",
      "      (logvar_layer): Linear(in_features=100, out_features=5, bias=True)\n",
      "    )\n",
      "    (decoder): VaeDecoder(\n",
      "      (FC): Sequential(\n",
      "        (0): Linear(in_features=5, out_features=100, bias=True)\n",
      "        (1): ReLU()\n",
      "        (2): Linear(in_features=100, out_features=256, bias=True)\n",
      "        (3): ReLU()\n",
      "        (4): Linear(in_features=256, out_features=512, bias=True)\n",
      "        (5): ReLU()\n",
      "        (6): Linear(in_features=512, out_features=784, bias=True)\n",
      "      )\n",
      "    )\n",
      "  )\n",
      "  (parameterizer): ConvParameterizer(\n",
      "    (cl_layers): Sequential(\n",
      "      (0): Conv2d(1, 10, kernel_size=(5, 5), stride=(1, 1))\n",
      "      (1): MaxPool2d(kernel_size=2, stride=2, padding=0, dilation=1, ceil_mode=False)\n",
      "      (2): ReLU()\n",
      "      (3): Conv2d(10, 20, kernel_size=(5, 5), stride=(1, 1))\n",
      "      (4): Dropout2d(p=0.5, inplace=False)\n",
      "      (5): MaxPool2d(kernel_size=2, stride=2, padding=0, dilation=1, ceil_mode=False)\n",
      "      (6): ReLU()\n",
      "    )\n",
      "    (fc_layers): Sequential(\n",
      "      (0): Linear(in_features=320, out_features=50, bias=True)\n",
      "      (1): Dropout(p=0.5, inplace=False)\n",
      "      (2): Tanh()\n",
      "    )\n",
      "  )\n",
      "  (aggregator): SumAggregator()\n",
      ")\n",
      "Trainable Parameters: 1141520\n",
      "\n",
      "Pre-training the Conceptizer... \n",
      "EPOCH:0 STEP:0 \tConcept Loss: 1.324 Recon Loss: 1.239 KL Div: 0.021\n",
      "EPOCH:0 STEP:50 \tConcept Loss: 0.803 Recon Loss: 0.803 KL Div: 0.000\n",
      "EPOCH:0 STEP:100 \tConcept Loss: 0.792 Recon Loss: 0.792 KL Div: 0.000\n",
      "EPOCH:0 STEP:150 \tConcept Loss: 0.816 Recon Loss: 0.816 KL Div: 0.000\n",
      "EPOCH:0 STEP:200 \tConcept Loss: 0.798 Recon Loss: 0.798 KL Div: 0.000\n",
      "EPOCH:0 STEP:250 \tConcept Loss: 0.794 Recon Loss: 0.794 KL Div: 0.000\n",
      "EPOCH:0 STEP:300 \tConcept Loss: 0.828 Recon Loss: 0.828 KL Div: 0.000\n",
      "EPOCH:0 STEP:350 \tConcept Loss: 0.818 Recon Loss: 0.818 KL Div: 0.000\n",
      "EPOCH:0 STEP:400 \tConcept Loss: 0.820 Recon Loss: 0.820 KL Div: 0.000\n",
      "Training begins...\n",
      "EPOCH:0 STEP:0\n",
      "Total Loss:3.115 Accuracy:0.156 Classification Loss:2.302 Robustness Loss:0.041 Concept Loss:0.812 Recon Loss: 0.812 KL Div: 0.000 \n",
      "EPOCH:0 STEP:50\n",
      "Total Loss:3.012 Accuracy:0.406 Classification Loss:2.139 Robustness Loss:0.347 Concept Loss:0.873 Recon Loss: 0.796 KL Div: 0.019 \n",
      "\n",
      "\u001b[93m-------- Validation --------\n",
      "Total Loss:2.752 Accuracy:0.853 Classification Loss:1.843 Robustness Loss:0.000 Concept Loss:0.909 Recon Loss: 0.796 KL Div: 0.028 \n",
      "----------------------------\u001b[0m\n",
      "\u001b[92mCongratulations! Saving a new best model...\u001b[00m\n",
      "Checkpoint saved @ results/test_mnist_bvae/checkpoints/best_model.pt\n",
      "\n"
     ]
    },
    {
     "ename": "NameError",
     "evalue": "name 'max_traversal' is not defined",
     "output_type": "error",
     "traceback": [
      "\u001b[0;31m---------------------------------------------------------------------------\u001b[0m",
      "\u001b[0;31mNameError\u001b[0m                                 Traceback (most recent call last)",
      "\u001b[0;32m<ipython-input-9-3626112cebe8>\u001b[0m in \u001b[0;36m<module>\u001b[0;34m()\u001b[0m\n\u001b[1;32m      1\u001b[0m \u001b[0mtrainer\u001b[0m \u001b[0;34m=\u001b[0m \u001b[0mDiSENNTrainer\u001b[0m\u001b[0;34m(\u001b[0m\u001b[0mconfig\u001b[0m\u001b[0;34m)\u001b[0m\u001b[0;34m\u001b[0m\u001b[0;34m\u001b[0m\u001b[0m\n\u001b[0;32m----> 2\u001b[0;31m \u001b[0mtrainer\u001b[0m\u001b[0;34m.\u001b[0m\u001b[0mrun\u001b[0m\u001b[0;34m(\u001b[0m\u001b[0;34m)\u001b[0m\u001b[0;34m\u001b[0m\u001b[0;34m\u001b[0m\u001b[0m\n\u001b[0m\u001b[1;32m      3\u001b[0m \u001b[0mtrainer\u001b[0m\u001b[0;34m.\u001b[0m\u001b[0mfinalize\u001b[0m\u001b[0;34m(\u001b[0m\u001b[0;34m)\u001b[0m\u001b[0;34m\u001b[0m\u001b[0;34m\u001b[0m\u001b[0m\n",
      "\u001b[0;32m/mnt/Workspace/Masters/Academics/first-sem/FACT/repo/trainer.py\u001b[0m in \u001b[0;36mrun\u001b[0;34m(self)\u001b[0m\n\u001b[1;32m    128\u001b[0m             \u001b[0;32mif\u001b[0m \u001b[0mself\u001b[0m\u001b[0;34m.\u001b[0m\u001b[0mconfig\u001b[0m\u001b[0;34m.\u001b[0m\u001b[0mtrain\u001b[0m\u001b[0;34m:\u001b[0m\u001b[0;34m\u001b[0m\u001b[0;34m\u001b[0m\u001b[0m\n\u001b[1;32m    129\u001b[0m                 \u001b[0mprint\u001b[0m\u001b[0;34m(\u001b[0m\u001b[0;34m\"Training begins...\"\u001b[0m\u001b[0;34m)\u001b[0m\u001b[0;34m\u001b[0m\u001b[0;34m\u001b[0m\u001b[0m\n\u001b[0;32m--> 130\u001b[0;31m                 \u001b[0mself\u001b[0m\u001b[0;34m.\u001b[0m\u001b[0mtrain\u001b[0m\u001b[0;34m(\u001b[0m\u001b[0;34m)\u001b[0m\u001b[0;34m\u001b[0m\u001b[0;34m\u001b[0m\u001b[0m\n\u001b[0m\u001b[1;32m    131\u001b[0m             \u001b[0mself\u001b[0m\u001b[0;34m.\u001b[0m\u001b[0mvisualize\u001b[0m\u001b[0;34m(\u001b[0m\u001b[0msave_dir\u001b[0m\u001b[0;34m=\u001b[0m\u001b[0mself\u001b[0m\u001b[0;34m.\u001b[0m\u001b[0mexperiment_dir\u001b[0m\u001b[0;34m)\u001b[0m\u001b[0;34m\u001b[0m\u001b[0;34m\u001b[0m\u001b[0m\n\u001b[1;32m    132\u001b[0m         \u001b[0;32mexcept\u001b[0m \u001b[0mKeyboardInterrupt\u001b[0m\u001b[0;34m:\u001b[0m\u001b[0;34m\u001b[0m\u001b[0;34m\u001b[0m\u001b[0m\n",
      "\u001b[0;32m/mnt/Workspace/Masters/Academics/first-sem/FACT/repo/trainer.py\u001b[0m in \u001b[0;36mtrain\u001b[0;34m(self)\u001b[0m\n\u001b[1;32m    137\u001b[0m         \u001b[0;32mfor\u001b[0m \u001b[0mepoch\u001b[0m \u001b[0;32min\u001b[0m \u001b[0mrange\u001b[0m\u001b[0;34m(\u001b[0m\u001b[0mself\u001b[0m\u001b[0;34m.\u001b[0m\u001b[0mcurrent_epoch\u001b[0m\u001b[0;34m,\u001b[0m \u001b[0mself\u001b[0m\u001b[0;34m.\u001b[0m\u001b[0mconfig\u001b[0m\u001b[0;34m.\u001b[0m\u001b[0mepochs\u001b[0m\u001b[0;34m)\u001b[0m\u001b[0;34m:\u001b[0m\u001b[0;34m\u001b[0m\u001b[0;34m\u001b[0m\u001b[0m\n\u001b[1;32m    138\u001b[0m             \u001b[0mself\u001b[0m\u001b[0;34m.\u001b[0m\u001b[0mcurrent_epoch\u001b[0m \u001b[0;34m=\u001b[0m \u001b[0mepoch\u001b[0m\u001b[0;34m\u001b[0m\u001b[0;34m\u001b[0m\u001b[0m\n\u001b[0;32m--> 139\u001b[0;31m             \u001b[0mself\u001b[0m\u001b[0;34m.\u001b[0m\u001b[0mtrain_one_epoch\u001b[0m\u001b[0;34m(\u001b[0m\u001b[0mself\u001b[0m\u001b[0;34m.\u001b[0m\u001b[0mcurrent_epoch\u001b[0m\u001b[0;34m)\u001b[0m\u001b[0;34m\u001b[0m\u001b[0;34m\u001b[0m\u001b[0m\n\u001b[0m\u001b[1;32m    140\u001b[0m             \u001b[0mself\u001b[0m\u001b[0;34m.\u001b[0m\u001b[0msave_checkpoint\u001b[0m\u001b[0;34m(\u001b[0m\u001b[0;34m)\u001b[0m\u001b[0;34m\u001b[0m\u001b[0;34m\u001b[0m\u001b[0m\n\u001b[1;32m    141\u001b[0m \u001b[0;34m\u001b[0m\u001b[0m\n",
      "\u001b[0;32m/mnt/Workspace/Masters/Academics/first-sem/FACT/repo/trainer.py\u001b[0m in \u001b[0;36mtrain_one_epoch\u001b[0;34m(self, epoch)\u001b[0m\n\u001b[1;32m    521\u001b[0m \u001b[0;34m\u001b[0m\u001b[0m\n\u001b[1;32m    522\u001b[0m             \u001b[0;32mif\u001b[0m \u001b[0mself\u001b[0m\u001b[0;34m.\u001b[0m\u001b[0mcurrent_iter\u001b[0m \u001b[0;34m%\u001b[0m \u001b[0mself\u001b[0m\u001b[0;34m.\u001b[0m\u001b[0mconfig\u001b[0m\u001b[0;34m.\u001b[0m\u001b[0meval_freq\u001b[0m \u001b[0;34m==\u001b[0m \u001b[0;36m0\u001b[0m\u001b[0;34m:\u001b[0m\u001b[0;34m\u001b[0m\u001b[0;34m\u001b[0m\u001b[0m\n\u001b[0;32m--> 523\u001b[0;31m                 \u001b[0mself\u001b[0m\u001b[0;34m.\u001b[0m\u001b[0mvalidate\u001b[0m\u001b[0;34m(\u001b[0m\u001b[0;34m)\u001b[0m\u001b[0;34m\u001b[0m\u001b[0;34m\u001b[0m\u001b[0m\n\u001b[0m\u001b[1;32m    524\u001b[0m \u001b[0;34m\u001b[0m\u001b[0m\n\u001b[1;32m    525\u001b[0m     \u001b[0;32mdef\u001b[0m \u001b[0mvalidate\u001b[0m\u001b[0;34m(\u001b[0m\u001b[0mself\u001b[0m\u001b[0;34m)\u001b[0m\u001b[0;34m:\u001b[0m\u001b[0;34m\u001b[0m\u001b[0;34m\u001b[0m\u001b[0m\n",
      "\u001b[0;32m/mnt/Workspace/Masters/Academics/first-sem/FACT/repo/trainer.py\u001b[0m in \u001b[0;36mvalidate\u001b[0;34m(self)\u001b[0m\n\u001b[1;32m    595\u001b[0m \u001b[0;34m\u001b[0m\u001b[0m\n\u001b[1;32m    596\u001b[0m             \u001b[0;31m# TODO: organize this block\u001b[0m\u001b[0;34m\u001b[0m\u001b[0;34m\u001b[0m\u001b[0;34m\u001b[0m\u001b[0m\n\u001b[0;32m--> 597\u001b[0;31m             \u001b[0mself\u001b[0m\u001b[0;34m.\u001b[0m\u001b[0mvisualize\u001b[0m\u001b[0;34m(\u001b[0m\u001b[0;34m\"dummy.png\"\u001b[0m\u001b[0;34m)\u001b[0m\u001b[0;34m\u001b[0m\u001b[0;34m\u001b[0m\u001b[0m\n\u001b[0m\u001b[1;32m    598\u001b[0m             \u001b[0mprint\u001b[0m\u001b[0;34m(\u001b[0m\u001b[0;34m\"Saving model ...\"\u001b[0m\u001b[0;34m)\u001b[0m\u001b[0;34m\u001b[0m\u001b[0;34m\u001b[0m\u001b[0m\n\u001b[1;32m    599\u001b[0m             \u001b[0mself\u001b[0m\u001b[0;34m.\u001b[0m\u001b[0msave_checkpoint\u001b[0m\u001b[0;34m(\u001b[0m\u001b[0;34m)\u001b[0m\u001b[0;34m\u001b[0m\u001b[0;34m\u001b[0m\u001b[0m\n",
      "\u001b[0;32m/mnt/Workspace/Masters/Academics/first-sem/FACT/repo/trainer.py\u001b[0m in \u001b[0;36mvisualize\u001b[0;34m(self, fname, num)\u001b[0m\n\u001b[1;32m    615\u001b[0m             \u001b[0mfile_path\u001b[0m \u001b[0;34m=\u001b[0m \u001b[0mPath\u001b[0m\u001b[0;34m(\u001b[0m\u001b[0;34m\"results\"\u001b[0m\u001b[0;34m)\u001b[0m\u001b[0;34m\u001b[0m\u001b[0;34m\u001b[0m\u001b[0m\n\u001b[1;32m    616\u001b[0m             \u001b[0mfile_name\u001b[0m \u001b[0;34m=\u001b[0m \u001b[0mfile_path\u001b[0m \u001b[0;34m/\u001b[0m \u001b[0mself\u001b[0m\u001b[0;34m.\u001b[0m\u001b[0mconfig\u001b[0m\u001b[0;34m.\u001b[0m\u001b[0mexp_name\u001b[0m \u001b[0;34m/\u001b[0m \u001b[0;34m\"explanations.png\"\u001b[0m\u001b[0;34m\u001b[0m\u001b[0;34m\u001b[0m\u001b[0m\n\u001b[0;32m--> 617\u001b[0;31m             \u001b[0mself\u001b[0m\u001b[0;34m.\u001b[0m\u001b[0mmodel\u001b[0m\u001b[0;34m.\u001b[0m\u001b[0mexplain\u001b[0m\u001b[0;34m(\u001b[0m\u001b[0mtest_batch\u001b[0m\u001b[0;34m[\u001b[0m\u001b[0mi\u001b[0m\u001b[0;34m]\u001b[0m\u001b[0;34m,\u001b[0m \u001b[0msave_as\u001b[0m\u001b[0;34m=\u001b[0m\u001b[0mfile_name\u001b[0m\u001b[0;34m)\u001b[0m\u001b[0;34m\u001b[0m\u001b[0;34m\u001b[0m\u001b[0m\n\u001b[0m\u001b[1;32m    618\u001b[0m \u001b[0;34m\u001b[0m\u001b[0m\n\u001b[1;32m    619\u001b[0m     def print_n_save_metrics(self, filename, total_loss,\n",
      "\u001b[0;32m/mnt/Workspace/Masters/Academics/first-sem/FACT/repo/models/senn.py\u001b[0m in \u001b[0;36mexplain\u001b[0;34m(self, x, num_prototypes, traversal_range, show, save_as, gridsize, col_span, figure_size)\u001b[0m\n\u001b[1;32m    226\u001b[0m         \u001b[0mconcepts_sample\u001b[0m \u001b[0;34m=\u001b[0m \u001b[0mconcepts_sample\u001b[0m\u001b[0;34m.\u001b[0m\u001b[0mrepeat\u001b[0m\u001b[0;34m(\u001b[0m\u001b[0mnum_prototypes\u001b[0m\u001b[0;34m,\u001b[0m \u001b[0;36m1\u001b[0m\u001b[0;34m)\u001b[0m\u001b[0;34m\u001b[0m\u001b[0;34m\u001b[0m\u001b[0m\n\u001b[1;32m    227\u001b[0m         concepts_traversals = [self.traverse(concepts_sample, dim, traversal_range, num_prototypes) \n\u001b[0;32m--> 228\u001b[0;31m                                for dim in range(num_concepts)]\n\u001b[0m\u001b[1;32m    229\u001b[0m         \u001b[0mconcepts_traversals\u001b[0m \u001b[0;34m=\u001b[0m \u001b[0mtorch\u001b[0m\u001b[0;34m.\u001b[0m\u001b[0mcat\u001b[0m\u001b[0;34m(\u001b[0m\u001b[0mconcepts_traversals\u001b[0m\u001b[0;34m,\u001b[0m \u001b[0mdim\u001b[0m\u001b[0;34m=\u001b[0m\u001b[0;36m0\u001b[0m\u001b[0;34m)\u001b[0m\u001b[0;34m\u001b[0m\u001b[0;34m\u001b[0m\u001b[0m\n\u001b[1;32m    230\u001b[0m         \u001b[0mprototypes\u001b[0m \u001b[0;34m=\u001b[0m \u001b[0mself\u001b[0m\u001b[0;34m.\u001b[0m\u001b[0mvae_conceptizer\u001b[0m\u001b[0;34m.\u001b[0m\u001b[0mdecoder\u001b[0m\u001b[0;34m(\u001b[0m\u001b[0mconcepts_traversals\u001b[0m\u001b[0;34m)\u001b[0m\u001b[0;34m\u001b[0m\u001b[0;34m\u001b[0m\u001b[0m\n",
      "\u001b[0;32m/mnt/Workspace/Masters/Academics/first-sem/FACT/repo/models/senn.py\u001b[0m in \u001b[0;36m<listcomp>\u001b[0;34m(.0)\u001b[0m\n\u001b[1;32m    226\u001b[0m         \u001b[0mconcepts_sample\u001b[0m \u001b[0;34m=\u001b[0m \u001b[0mconcepts_sample\u001b[0m\u001b[0;34m.\u001b[0m\u001b[0mrepeat\u001b[0m\u001b[0;34m(\u001b[0m\u001b[0mnum_prototypes\u001b[0m\u001b[0;34m,\u001b[0m \u001b[0;36m1\u001b[0m\u001b[0;34m)\u001b[0m\u001b[0;34m\u001b[0m\u001b[0;34m\u001b[0m\u001b[0m\n\u001b[1;32m    227\u001b[0m         concepts_traversals = [self.traverse(concepts_sample, dim, traversal_range, num_prototypes) \n\u001b[0;32m--> 228\u001b[0;31m                                for dim in range(num_concepts)]\n\u001b[0m\u001b[1;32m    229\u001b[0m         \u001b[0mconcepts_traversals\u001b[0m \u001b[0;34m=\u001b[0m \u001b[0mtorch\u001b[0m\u001b[0;34m.\u001b[0m\u001b[0mcat\u001b[0m\u001b[0;34m(\u001b[0m\u001b[0mconcepts_traversals\u001b[0m\u001b[0;34m,\u001b[0m \u001b[0mdim\u001b[0m\u001b[0;34m=\u001b[0m\u001b[0;36m0\u001b[0m\u001b[0;34m)\u001b[0m\u001b[0;34m\u001b[0m\u001b[0;34m\u001b[0m\u001b[0m\n\u001b[1;32m    230\u001b[0m         \u001b[0mprototypes\u001b[0m \u001b[0;34m=\u001b[0m \u001b[0mself\u001b[0m\u001b[0;34m.\u001b[0m\u001b[0mvae_conceptizer\u001b[0m\u001b[0;34m.\u001b[0m\u001b[0mdecoder\u001b[0m\u001b[0;34m(\u001b[0m\u001b[0mconcepts_traversals\u001b[0m\u001b[0;34m)\u001b[0m\u001b[0;34m\u001b[0m\u001b[0;34m\u001b[0m\u001b[0m\n",
      "\u001b[0;32m/mnt/Workspace/Masters/Academics/first-sem/FACT/repo/models/senn.py\u001b[0m in \u001b[0;36mtraverse\u001b[0;34m(self, matrix, dim, traversal_range, steps, use_cdf)\u001b[0m\n\u001b[1;32m    281\u001b[0m                 \u001b[0;34m\"If CDF is to be used, the traversal range must represent probability range of -0.5 < p < +0.5\"\u001b[0m\u001b[0;34m\u001b[0m\u001b[0;34m\u001b[0m\u001b[0m\n\u001b[1;32m    282\u001b[0m             \u001b[0mprob_traversal\u001b[0m \u001b[0;34m=\u001b[0m \u001b[0;34m(\u001b[0m\u001b[0;36m1\u001b[0m \u001b[0;34m-\u001b[0m \u001b[0;36m2\u001b[0m \u001b[0;34m*\u001b[0m \u001b[0mtraversal_range\u001b[0m\u001b[0;34m)\u001b[0m \u001b[0;34m/\u001b[0m \u001b[0;36m2\u001b[0m  \u001b[0;31m# from 0.45 to 0.05\u001b[0m\u001b[0;34m\u001b[0m\u001b[0;34m\u001b[0m\u001b[0m\n\u001b[0;32m--> 283\u001b[0;31m             \u001b[0mmatrix_traversal\u001b[0m \u001b[0;34m=\u001b[0m \u001b[0mstats\u001b[0m\u001b[0;34m.\u001b[0m\u001b[0mnorm\u001b[0m\u001b[0;34m.\u001b[0m\u001b[0mppf\u001b[0m\u001b[0;34m(\u001b[0m\u001b[0mmax_traversal\u001b[0m\u001b[0;34m,\u001b[0m \u001b[0mloc\u001b[0m\u001b[0;34m=\u001b[0m\u001b[0mmean\u001b[0m\u001b[0;34m,\u001b[0m \u001b[0mscale\u001b[0m\u001b[0;34m=\u001b[0m\u001b[0mstd\u001b[0m\u001b[0;34m)\u001b[0m  \u001b[0;31m# from 0.05 to -1.645\u001b[0m\u001b[0;34m\u001b[0m\u001b[0;34m\u001b[0m\u001b[0m\n\u001b[0m\u001b[1;32m    284\u001b[0m         \u001b[0;32melse\u001b[0m\u001b[0;34m:\u001b[0m\u001b[0;34m\u001b[0m\u001b[0;34m\u001b[0m\u001b[0m\n\u001b[1;32m    285\u001b[0m             \u001b[0mtraversal\u001b[0m \u001b[0;34m=\u001b[0m \u001b[0mtorch\u001b[0m\u001b[0;34m.\u001b[0m\u001b[0mlinspace\u001b[0m\u001b[0;34m(\u001b[0m\u001b[0;34m-\u001b[0m\u001b[0;36m1\u001b[0m \u001b[0;34m*\u001b[0m \u001b[0mtraversal_range\u001b[0m\u001b[0;34m,\u001b[0m \u001b[0mtraversal_range\u001b[0m\u001b[0;34m,\u001b[0m \u001b[0msteps\u001b[0m\u001b[0;34m)\u001b[0m\u001b[0;34m\u001b[0m\u001b[0;34m\u001b[0m\u001b[0m\n",
      "\u001b[0;31mNameError\u001b[0m: name 'max_traversal' is not defined"
     ]
    }
   ],
   "source": [
    "trainer = DiSENNTrainer(config)\n",
    "trainer.run()\n",
    "trainer.finalize()"
   ]
  },
  {
   "cell_type": "markdown",
   "metadata": {},
   "source": [
    "## Load Trained Model"
   ]
  },
  {
   "cell_type": "code",
   "execution_count": 8,
   "metadata": {},
   "outputs": [],
   "source": [
    "conceptizer = eval(config.conceptizer)(**config.__dict__)\n",
    "parameterizer = eval(config.parameterizer)(**config.__dict__)\n",
    "aggregator = eval(config.aggregator)(**config.__dict__)"
   ]
  },
  {
   "cell_type": "code",
   "execution_count": 9,
   "metadata": {},
   "outputs": [],
   "source": [
    "model = DiSENN(conceptizer, parameterizer, aggregator)"
   ]
  },
  {
   "cell_type": "code",
   "execution_count": 10,
   "metadata": {},
   "outputs": [
    {
     "name": "stdout",
     "output_type": "stream",
     "text": [
      "Loading trained model: results/test_mnist_bvae/checkpoints/best_model.pt\n"
     ]
    }
   ],
   "source": [
    "checkpoint_path = Path('results')\n",
    "model_file = checkpoint_path / config.exp_name / \"checkpoints\" / \"best_model.pt\" \n",
    "checkpoint = torch.load(model_file, config.device)\n",
    "print(f\"Loading trained model: {model_file}\")"
   ]
  },
  {
   "cell_type": "code",
   "execution_count": 11,
   "metadata": {},
   "outputs": [
    {
     "data": {
      "text/plain": [
       "<All keys matched successfully>"
      ]
     },
     "execution_count": 11,
     "metadata": {},
     "output_type": "execute_result"
    }
   ],
   "source": [
    "model.load_state_dict(checkpoint['model_state'])"
   ]
  },
  {
   "cell_type": "markdown",
   "metadata": {},
   "source": [
    "# Classification"
   ]
  },
  {
   "cell_type": "code",
   "execution_count": 12,
   "metadata": {},
   "outputs": [],
   "source": [
    "xb, yb = next(iter(val_dl))\n",
    "y_pred, explanations, x_reconstruct = model(xb)"
   ]
  },
  {
   "cell_type": "code",
   "execution_count": 13,
   "metadata": {},
   "outputs": [
    {
     "data": {
      "text/plain": [
       "<matplotlib.image.AxesImage at 0x7f44686fe190>"
      ]
     },
     "execution_count": 13,
     "metadata": {},
     "output_type": "execute_result"
    },
    {
     "data": {
      "image/png": "[encoded data removed]",
      "text/plain": [
       "<Figure size 144x144 with 1 Axes>"
      ]
     },
     "metadata": {
      "needs_background": "light"
     },
     "output_type": "display_data"
    }
   ],
   "source": [
    "plt.rcParams['figure.figsize'] = (2, 2)\n",
    "plt.imshow(xb[-1][0], cmap='gray')"
   ]
  },
  {
   "cell_type": "code",
   "execution_count": 14,
   "metadata": {},
   "outputs": [
    {
     "data": {
      "text/plain": [
       "(tensor([7, 8, 2, 9, 1, 0, 1, 3, 0, 7, 4, 3, 9, 7, 4, 7, 7, 1, 9, 4, 5, 3, 1, 2,\n",
       "         9, 1, 2, 5, 5, 9, 1, 6, 5, 0, 9, 4, 9, 9, 0, 4, 5, 1, 2, 2, 8, 6, 8, 2,\n",
       "         1, 0, 2, 2, 5, 3, 6, 8, 9, 7, 2, 3, 2, 4, 2, 7, 6, 5, 1, 3, 8, 5, 7, 1,\n",
       "         3, 6, 1, 7, 4, 2, 8, 9, 7, 0, 4, 8, 2, 7, 2, 7, 2, 6, 7, 1, 4, 6, 1, 8,\n",
       "         9, 3, 1, 5, 0, 6, 2, 1, 9, 5, 4, 2, 8, 4, 6, 2, 5, 3, 1, 6, 5, 7, 6, 1,\n",
       "         8, 2, 2, 9, 1, 4, 1, 0]),\n",
       " tensor([1, 8, 6, 4, 8, 8, 1, 3, 0, 7, 4, 3, 4, 8, 4, 7, 9, 1, 9, 6, 9, 8, 1, 2,\n",
       "         9, 1, 2, 5, 5, 9, 1, 6, 8, 0, 9, 4, 7, 4, 0, 4, 5, 1, 2, 6, 6, 6, 4, 6,\n",
       "         7, 0, 2, 4, 5, 3, 6, 8, 9, 7, 2, 5, 1, 8, 6, 7, 0, 5, 1, 3, 5, 5, 9, 6,\n",
       "         8, 2, 1, 7, 4, 1, 8, 9, 7, 0, 5, 3, 1, 8, 6, 8, 4, 6, 7, 1, 4, 6, 2, 8,\n",
       "         9, 1, 3, 5, 0, 6, 6, 1, 7, 5, 9, 3, 8, 4, 2, 6, 8, 3, 1, 6, 0, 5, 6, 6,\n",
       "         5, 2, 2, 9, 1, 4, 6, 0]))"
      ]
     },
     "execution_count": 14,
     "metadata": {},
     "output_type": "execute_result"
    }
   ],
   "source": [
    "y_pred.argmax(1), yb"
   ]
  },
  {
   "cell_type": "code",
   "execution_count": 15,
   "metadata": {},
   "outputs": [
    {
     "data": {
      "text/plain": [
       "<matplotlib.image.AxesImage at 0x7f444fe90410>"
      ]
     },
     "execution_count": 15,
     "metadata": {},
     "output_type": "execute_result"
    },
    {
     "data": {
      "image/png": "[encoded data removed]",
      "text/plain": [
       "<Figure size 144x144 with 1 Axes>"
      ]
     },
     "metadata": {
      "needs_background": "light"
     },
     "output_type": "display_data"
    }
   ],
   "source": [
    "plt.imshow(x_reconstruct[-1][0].detach().numpy(), cmap='gray')"
   ]
  },
  {
   "cell_type": "code",
   "execution_count": 16,
   "metadata": {},
   "outputs": [],
   "source": [
    "model = model.to(config.device)"
   ]
  },
  {
   "cell_type": "code",
   "execution_count": 17,
   "metadata": {},
   "outputs": [
    {
     "name": "stdout",
     "output_type": "stream",
     "text": [
      "Test Mean Accuracy: 87.083 %\n"
     ]
    }
   ],
   "source": [
    "accuracy = 0.\n",
    "model.eval()\n",
    "with torch.no_grad():\n",
    "    for i, (x, labels) in enumerate(val_dl):\n",
    "        x = x.float().to(config.device)\n",
    "        labels = labels.long().to(config.device)\n",
    "        y_pred, explanations, x_reconstructed = model(x)\n",
    "        accuracy += (y_pred.argmax(axis=1) == labels).float().mean().item()\n",
    "print(f\"Test Mean Accuracy: {accuracy/i*100:.3f} %\")"
   ]
  },
  {
   "cell_type": "code",
   "execution_count": 18,
   "metadata": {},
   "outputs": [],
   "source": [
    "model = model.to(torch.device('cpu'))"
   ]
  },
  {
   "cell_type": "markdown",
   "metadata": {},
   "source": [
    "# Explanation"
   ]
  },
  {
   "cell_type": "markdown",
   "metadata": {},
   "source": [
    "## Generate Prototypes from Disentangled Concepts"
   ]
  },
  {
   "cell_type": "code",
   "execution_count": 34,
   "metadata": {},
   "outputs": [
    {
     "data": {
      "image/png": "[encoded data removed]",
      "text/plain": [
       "<Figure size 1296x216 with 4 Axes>"
      ]
     },
     "metadata": {
      "needs_background": "light"
     },
     "output_type": "display_data"
    }
   ],
   "source": [
    "model.explain(xb[0], traversal_range=2,\n",
    "              gridsize=(1,6), col_span=3, figure_size=(18,3),\n",
    "              save_as=\"concepts_equal_classes.png\", use_cdf=False)"
   ]
  },
  {
   "cell_type": "code",
   "execution_count": null,
   "metadata": {},
   "outputs": [],
   "source": [
    "            "
   ]
  }
 ],
 "metadata": {
  "kernelspec": {
   "display_name": "Python 3",
   "language": "python",
   "name": "python3"
  },
  "language_info": {
   "codemirror_mode": {
    "name": "ipython",
    "version": 3
   },
   "file_extension": ".py",
   "mimetype": "text/x-python",
   "name": "python",
   "nbconvert_exporter": "python",
   "pygments_lexer": "ipython3",
   "version": "3.7.5"
  }
 },
 "nbformat": 4,
 "nbformat_minor": 4
}
