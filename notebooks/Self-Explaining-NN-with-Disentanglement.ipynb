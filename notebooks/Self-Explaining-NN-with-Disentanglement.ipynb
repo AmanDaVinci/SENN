{
 "cells": [
  {
   "cell_type": "markdown",
   "metadata": {},
   "source": [
    "# Self-Explaining Neural Networks with Disentanglement\n",
    "---"
   ]
  },
  {
   "cell_type": "markdown",
   "metadata": {},
   "source": [
    "## Import libraries"
   ]
  },
  {
   "cell_type": "code",
   "execution_count": 1,
   "metadata": {},
   "outputs": [],
   "source": [
    "import sys\n",
    "sys.path.append('..')"
   ]
  },
  {
   "cell_type": "code",
   "execution_count": 2,
   "metadata": {},
   "outputs": [],
   "source": [
    "import torch\n",
    "import torch.nn as nn\n",
    "from torchvision.utils import make_grid\n",
    "import numpy as np\n",
    "from pathlib import Path\n",
    "from types import SimpleNamespace\n",
    "import matplotlib.pyplot as plt\n",
    "\n",
    "%matplotlib inline"
   ]
  },
  {
   "cell_type": "code",
   "execution_count": 3,
   "metadata": {},
   "outputs": [],
   "source": [
    "from models.losses import *\n",
    "from models.parameterizer import ConvParameterizer\n",
    "from models.conceptizer import ConvConceptizer, VaeConceptizer\n",
    "from models.aggregator import SumAggregator"
   ]
  },
  {
   "cell_type": "markdown",
   "metadata": {},
   "source": [
    "## Configuration"
   ]
  },
  {
   "cell_type": "code",
   "execution_count": 4,
   "metadata": {},
   "outputs": [],
   "source": [
    "plt.style.use('seaborn-paper')"
   ]
  },
  {
   "cell_type": "markdown",
   "metadata": {},
   "source": [
    "config = {\n",
    "  \"model_class\": \"DiSENN\",\n",
    "  \"conceptizer\": \"VaeConceptizer\",\n",
    "  \"pretrain_epochs\": 3,\n",
    "  \"beta\": 4.0,\n",
    "  \"concept_loss\": \"BVAE_loss\",\n",
    "  \"robustness_loss\": \"mnist_robustness_loss\",\n",
    "  \"train\": True,\n",
    "  \"image_size\": 28,\n",
    "  \"concept_dim\": 1,\n",
    "  \"concept_visualization\": None,\n",
    "  \"parameterizer\": \"ConvParameterizer\",\n",
    "  \"cl_sizes\": [1, 10, 20],\n",
    "  \"hidden_sizes\": [320, 50],\n",
    "  \"num_concepts\": 5,\n",
    "  \"num_classes\": 10,\n",
    "  \"dropout\": 0.5,\n",
    "  \"aggregator\": \"SumAggregator\",\n",
    "  \"device\": \"cuda:0\",\n",
    "  \"lr\": 1e-3,\n",
    "  \"epochs\": 5,\n",
    "  \"robust_reg\": 1e-3,\n",
    "  \"concept_reg\": 1,\n",
    "  \"print_freq\": 50,\n",
    "  \"exp_name\": \"mnist_bvae_default\",\n",
    "  \"dataloader\": \"mnist\",\n",
    "  \"data_path\": \"datasets/data/mnist_data\",\n",
    "  \"batch_size\" : 128,\n",
    "  \"eval_freq\" : 100\n",
    "}\n",
    "config = SimpleNamespace(**config)"
   ]
  },
  {
   "cell_type": "code",
   "execution_count": 5,
   "metadata": {},
   "outputs": [],
   "source": [
    "config = {\n",
    "  \"model_class\": \"DiSENN\",\n",
    "  \"conceptizer\": \"VaeConceptizer\",\n",
    "  \"pretrain_epochs\": 3,\n",
    "  \"beta\": 4.0,\n",
    "  \"concept_loss\": \"BVAE_loss\",\n",
    "  \"robustness_loss\": \"mnist_robustness_loss\",\n",
    "  \"train\": True,\n",
    "  \"image_size\": 28,\n",
    "  \"concept_dim\": 1,\n",
    "  \"concept_visualization\": None,\n",
    "  \"parameterizer\": \"ConvParameterizer\",\n",
    "  \"hidden_sizes\": [320, 100],\n",
    "  \"num_concepts\": 10,\n",
    "  \"num_classes\": 10,\n",
    "  \"dropout\": 0.5,\n",
    "  \"aggregator\": \"SumAggregator\",\n",
    "  \"device\": \"cuda:0\",\n",
    "  \"lr\": 1e-3,\n",
    "  \"epochs\": 5,\n",
    "  \"robust_reg\": 1e-3,\n",
    "  \"concept_reg\": 1,\n",
    "  \"print_freq\": 50,\n",
    "  \"exp_name\": \"mnist_bvae_concepts10\",\n",
    "  \"dataloader\": \"mnist\",\n",
    "  \"data_path\": \"datasets/data/mnist_data\",\n",
    "  \"batch_size\" : 128,\n",
    "  \"eval_freq\" : 100\n",
    "}\n",
    "config = SimpleNamespace(**config)"
   ]
  },
  {
   "cell_type": "markdown",
   "metadata": {},
   "source": [
    "config = {\n",
    "  \"model_class\": \"DiSENN\",\n",
    "  \"conceptizer\": \"VaeConceptizer\",\n",
    "  \"pretrain_epochs\": 3,\n",
    "  \"beta\": 4.0,\n",
    "  \"concept_loss\": \"BVAE_loss\",\n",
    "  \"robustness_loss\": \"mnist_robustness_loss\",\n",
    "  \"train\": True,\n",
    "  \"image_size\": 28,\n",
    "  \"concept_dim\": 1,\n",
    "  \"concept_visualization\": None,\n",
    "  \"parameterizer\": \"ConvParameterizer\",\n",
    "  \"hidden_sizes\": [320, 200],\n",
    "  \"num_concepts\": 20,\n",
    "  \"num_classes\": 10,\n",
    "  \"dropout\": 0.5,\n",
    "  \"aggregator\": \"SumAggregator\",\n",
    "  \"device\": \"cpu\",\n",
    "  \"lr\": 1e-3,\n",
    "  \"epochs\": 5,\n",
    "  \"robust_reg\": 1e-3,\n",
    "  \"concept_reg\": 1,\n",
    "  \"print_freq\": 50,\n",
    "  \"exp_name\": \"mnist_bvae_concepts20\",\n",
    "  \"dataloader\": \"mnist\",\n",
    "  \"data_path\": \"datasets/data/mnist_data\",\n",
    "  \"batch_size\" : 128,\n",
    "  \"eval_freq\" : 100\n",
    "}\n",
    "config = SimpleNamespace(**config)"
   ]
  },
  {
   "cell_type": "markdown",
   "metadata": {},
   "source": [
    "# DiSENN\n",
    "DiSENN (Self-Explaining Neural Networks with Disentanglement) is an extension of the Self-Explaining Neural Network proposed by [1]  "
   ]
  },
  {
   "cell_type": "markdown",
   "metadata": {},
   "source": [
    "DiSENN incorporates a constrained variational inference framework on a \n",
    "SENN Concept Encoder to learn disentangled representations of the \n",
    "basis concepts as in [2]. The basis concepts are then independently\n",
    "sensitive to single generative factors leading to better interpretability \n",
    "and lesser overlap with other basis concepts. Such a strong constraint \n",
    "better fulfills the \"diversity\" desiderata for basis concepts\n",
    "in a Self-Explaining Neural Network.\n",
    "\n",
    "\n",
    "References  \n",
    "[1] Alvarez Melis, et al.\n",
    "\"Towards Robust Interpretability with Self-Explaining Neural Networks\" NIPS 2018  \n",
    "[2] Irina Higgins, et al. \n",
    "”β-VAE: Learning basic visual concepts with a constrained variational framework.” ICLR 2017. "
   ]
  },
  {
   "cell_type": "code",
   "execution_count": 6,
   "metadata": {},
   "outputs": [],
   "source": [
    "class DiSENN(nn.Module):\n",
    "    \"\"\"Self-Explaining Neural Network with Disentanglement \"\"\"\n",
    "    \n",
    "    def __init__(self, vae_conceptizer, parameterizer, aggregator):\n",
    "        \"\"\"Instantiates the SENDD with a variational conceptizer, parameterizer and aggregator\"\"\"\n",
    "        super().__init__()\n",
    "        self.vae_conceptizer = vae_conceptizer\n",
    "        self.parameterizer = parameterizer\n",
    "        self.aggregator = aggregator\n",
    "\n",
    "    def forward(self, x):\n",
    "        \"\"\"Forward pass of a DiSENN model\n",
    "        \n",
    "        The forward pass computes a distribution over basis concepts\n",
    "        and the corresponding relevance scores. The mean concepts \n",
    "        and relevance scores are aggregated to generate a prediction.\n",
    "        \"\"\"\n",
    "        concept_mean, concept_logvar, x_reconstruct = self.vae_conceptizer(x)\n",
    "        relevances = self.parameterizer(x)\n",
    "        predictions = self.aggregator(concept_mean, relevances)\n",
    "        explanations = ((concept_mean, concept_logvar), relevances)\n",
    "        return predictions, explanations, x_reconstruct\n",
    "    \n",
    "    def explain(self, x, num_prototypes=20, traversal_range=1,\n",
    "                save_as=None, gridsize=(1,6), figure_size=(18,3), proto_span=3):\n",
    "        \"\"\"Explains the model predictions of input x\"\"\"\n",
    "\n",
    "        assert len(x.shape) == 4, \\\n",
    "        \"input x must be a rank 4 tensor of shape batch_size x channel x width x height\"\n",
    "        \n",
    "        y_pred, explanations, x_reconstruct = model(x)\n",
    "        (x_posterior_mean, x_posterior_logvar), relevances = explanations\n",
    "        x_posterior_mean = x_posterior_mean.squeeze(-1)\n",
    "        x_posterior_logvar = x_posterior_logvar.squeeze(-1)\n",
    "        \n",
    "        concepts = x_posterior_mean.detach().numpy()\n",
    "        num_concepts = concepts.shape[1]\n",
    "        concepts_sample = model.vae_conceptizer.sample(x_posterior_mean,\n",
    "                                                    x_posterior_logvar).detach()\n",
    "        # generate new concept vector for each prototype\n",
    "        # by traversing independently in each dimension\n",
    "        concepts_sample = concepts_sample.repeat(num_prototypes, 1)\n",
    "        concepts_traversals = [independent_traversal(concepts_sample, dim,\\\n",
    "                                                    traversal_range, num_prototypes) \n",
    "                            for dim in range(num_concepts)]\n",
    "        concepts_traversals = torch.cat(concepts_traversals, dim=0)\n",
    "        prototypes = model.vae_conceptizer.decoder(concepts_traversals)\n",
    "        prototype_imgs = prototypes.view(-1, x.shape[1], x.shape[2], x.shape[3])\n",
    "        \n",
    "        # nrow is number of images in a row which must be the number of prototypes\n",
    "        prototype_grid_img = make_grid(prototype_imgs, nrow=num_prototypes).detach().numpy()\n",
    "        \n",
    "        # prepare to plot\n",
    "        relevances = relevances.squeeze(0).detach().numpy()\n",
    "        relevances = relevances[:,y_pred.argmax(1)]\n",
    "        concepts = concepts.squeeze(0)\n",
    "        relevances_colors = ['g' if r > 0 else 'r' for r in relevances]\n",
    "        concepts_colors = ['g' if c > 0 else 'r' for c in concepts]\n",
    "        \n",
    "        # plot input image, relevances, concepts, prototypes side by side\n",
    "        plt.style.use('seaborn-paper')\n",
    "        fig = plt.figure(figsize=figure_size)\n",
    "        ax1 = plt.subplot2grid(gridsize, (0,0))\n",
    "        ax2 = plt.subplot2grid(gridsize, (0,1))\n",
    "        ax3 = plt.subplot2grid(gridsize, (0,2))\n",
    "        ax4 = plt.subplot2grid(gridsize, (0,3), colspan=proto_span)\n",
    "\n",
    "        ax1.imshow(x.numpy().squeeze(), cmap='gray')\n",
    "        ax1.set_axis_off()\n",
    "        ax1.set_title(f'Input Prediction: {y_pred.argmax(1).item()}', fontsize=18)\n",
    "\n",
    "        ax2.barh(range(num_concepts), relevances, color=relevances_colors)\n",
    "        ax2.set_xlabel('Relevance Scores', fontsize=18)\n",
    "        ax2.xaxis.set_label_position('top')\n",
    "        ax2.tick_params(axis='x', which='major', labelsize=12)\n",
    "        ax2.set_yticks([])\n",
    "\n",
    "        ax3.barh(range(num_concepts), concepts, color=concepts_colors)\n",
    "        ax3.set_xlabel('Concepts', fontsize=18)\n",
    "        ax3.xaxis.set_label_position('top')\n",
    "        ax3.tick_params(axis='x', which='major', labelsize=12)\n",
    "        ax3.set_yticks([])\n",
    "\n",
    "        ax4.imshow(prototype_grid_img.transpose(1,2,0))\n",
    "        ax4.set_title('Prototypes', fontsize=18)\n",
    "        ax4.set_axis_off()\n",
    "\n",
    "        fig.tight_layout()\n",
    "\n",
    "        if save_as is not None:\n",
    "            plt.savefig(save_as)\n",
    "        plt.show()"
   ]
  },
  {
   "cell_type": "code",
   "execution_count": 7,
   "metadata": {},
   "outputs": [],
   "source": [
    "def independent_traversal(matrix, dim, traversal_range, steps):\n",
    "    \"\"\"Linearly traverses through one dimension of a matrix independently\"\"\"\n",
    "    traversal = torch.linspace(-1 * traversal_range, traversal_range, steps)\n",
    "    matrix_traversal = matrix.clone() # to avoid changing the matrix\n",
    "    matrix_traversal[:, dim] = traversal\n",
    "    return matrix_traversal"
   ]
  },
  {
   "cell_type": "markdown",
   "metadata": {},
   "source": [
    "## Load Data"
   ]
  },
  {
   "cell_type": "code",
   "execution_count": 8,
   "metadata": {},
   "outputs": [],
   "source": [
    "from datasets.dataloaders import get_dataloader\n",
    "train_dl, val_dl, _ = get_dataloader(config)"
   ]
  },
  {
   "cell_type": "markdown",
   "metadata": {},
   "source": [
    "## Training"
   ]
  },
  {
   "cell_type": "code",
   "execution_count": 9,
   "metadata": {},
   "outputs": [],
   "source": [
    "from trainer import Trainer"
   ]
  },
  {
   "cell_type": "code",
   "execution_count": 10,
   "metadata": {},
   "outputs": [
    {
     "name": "stdout",
     "output_type": "stream",
     "text": [
      "Using device cuda:0\n",
      "Loading data ...\n",
      "Pre-training the Conceptizer... \n",
      "EPOCH:0 STEP:0 \tConcept Loss: 1.263\n",
      "EPOCH:0 STEP:50 \tConcept Loss: 0.799\n",
      "EPOCH:0 STEP:100 \tConcept Loss: 0.781\n",
      "EPOCH:0 STEP:150 \tConcept Loss: 0.808\n",
      "EPOCH:0 STEP:200 \tConcept Loss: 0.778\n",
      "EPOCH:0 STEP:250 \tConcept Loss: 0.783\n",
      "EPOCH:0 STEP:300 \tConcept Loss: 0.831\n",
      "EPOCH:0 STEP:350 \tConcept Loss: 0.806\n",
      "EPOCH:0 STEP:400 \tConcept Loss: 0.796\n",
      "EPOCH:1 STEP:0 \tConcept Loss: 0.827\n",
      "EPOCH:1 STEP:50 \tConcept Loss: 0.817\n",
      "EPOCH:1 STEP:100 \tConcept Loss: 0.806\n",
      "EPOCH:1 STEP:150 \tConcept Loss: 0.787\n",
      "EPOCH:1 STEP:200 \tConcept Loss: 0.792\n",
      "EPOCH:1 STEP:250 \tConcept Loss: 0.791\n",
      "EPOCH:1 STEP:300 \tConcept Loss: 0.781\n",
      "EPOCH:1 STEP:350 \tConcept Loss: 0.780\n",
      "EPOCH:1 STEP:400 \tConcept Loss: 0.788\n",
      "EPOCH:2 STEP:0 \tConcept Loss: 0.803\n",
      "EPOCH:2 STEP:50 \tConcept Loss: 0.805\n",
      "EPOCH:2 STEP:100 \tConcept Loss: 0.819\n",
      "EPOCH:2 STEP:150 \tConcept Loss: 0.800\n",
      "EPOCH:2 STEP:200 \tConcept Loss: 0.806\n",
      "EPOCH:2 STEP:250 \tConcept Loss: 0.816\n",
      "EPOCH:2 STEP:300 \tConcept Loss: 0.802\n",
      "EPOCH:2 STEP:350 \tConcept Loss: 0.809\n",
      "EPOCH:2 STEP:400 \tConcept Loss: 0.804\n",
      "DiSENN(\n",
      "  (vae_conceptizer): VaeConceptizer(\n",
      "    (encoder): VaeEncoder(\n",
      "      (FC): Sequential(\n",
      "        (0): Flatten()\n",
      "        (1): Linear(in_features=784, out_features=512, bias=True)\n",
      "        (2): ReLU()\n",
      "        (3): Linear(in_features=512, out_features=256, bias=True)\n",
      "        (4): ReLU()\n",
      "        (5): Linear(in_features=256, out_features=100, bias=True)\n",
      "        (6): ReLU()\n",
      "      )\n",
      "      (mean_layer): Linear(in_features=100, out_features=10, bias=True)\n",
      "      (logvar_layer): Linear(in_features=100, out_features=10, bias=True)\n",
      "    )\n",
      "    (decoder): VaeDecoder(\n",
      "      (FC): Sequential(\n",
      "        (0): Linear(in_features=10, out_features=100, bias=True)\n",
      "        (1): ReLU()\n",
      "        (2): Linear(in_features=100, out_features=256, bias=True)\n",
      "        (3): ReLU()\n",
      "        (4): Linear(in_features=256, out_features=512, bias=True)\n",
      "        (5): ReLU()\n",
      "        (6): Linear(in_features=512, out_features=784, bias=True)\n",
      "      )\n",
      "    )\n",
      "  )\n",
      "  (parameterizer): ConvParameterizer(\n",
      "    (cl_layers): Sequential(\n",
      "      (0): Conv2d(1, 10, kernel_size=(5, 5), stride=(1, 1))\n",
      "      (1): MaxPool2d(kernel_size=2, stride=2, padding=0, dilation=1, ceil_mode=False)\n",
      "      (2): ReLU()\n",
      "      (3): Conv2d(10, 20, kernel_size=(5, 5), stride=(1, 1))\n",
      "      (4): Dropout2d(p=0.5, inplace=False)\n",
      "      (5): MaxPool2d(kernel_size=2, stride=2, padding=0, dilation=1, ceil_mode=False)\n",
      "      (6): ReLU()\n",
      "    )\n",
      "    (fc_layers): Sequential(\n",
      "      (0): Linear(in_features=320, out_features=100, bias=True)\n",
      "      (1): Dropout(p=0.5, inplace=False)\n",
      "      (2): Tanh()\n",
      "    )\n",
      "  )\n",
      "  (aggregator): SumAggregator()\n",
      ")\n",
      "Trainable Parameters: 1159080\n",
      "\n",
      "Training begins...\n",
      "EPOCH:0 STEP:0\n",
      "Total Loss:3.114 \tClassification Loss:2.303 \tRobustness Loss:0.082 \tConcept Loss:0.812 \tAccuracy:0.117 \t\n",
      "EPOCH:0 STEP:50\n",
      "Total Loss:2.929 \tClassification Loss:1.986 \tRobustness Loss:0.892 \tConcept Loss:0.942 \tAccuracy:0.398 \t\n",
      "\n",
      "\u001b[93m-------- Validation --------\n",
      "Total Loss:2.439 \tClassification Loss:1.408 \tRobustness Loss:0.000 \tConcept Loss:1.031 \tAccuracy:0.711 \t\n",
      "----------------------------\u001b[0m\n",
      "\u001b[92mCongratulations! Saving a new best model...\u001b[00m\n",
      "Checkpoint saved @ results/mnist_bvae_concepts10/checkpoints/best_model.pt\n",
      "\n",
      "EPOCH:0 STEP:100\n",
      "Total Loss:2.511 \tClassification Loss:1.477 \tRobustness Loss:2.459 \tConcept Loss:1.032 \tAccuracy:0.703 \t\n",
      "EPOCH:0 STEP:150\n",
      "Total Loss:2.072 \tClassification Loss:0.927 \tRobustness Loss:3.890 \tConcept Loss:1.141 \tAccuracy:0.938 \t\n",
      "\n",
      "\u001b[93m-------- Validation --------\n",
      "Total Loss:2.023 \tClassification Loss:0.856 \tRobustness Loss:0.000 \tConcept Loss:1.167 \tAccuracy:0.946 \t\n",
      "----------------------------\u001b[0m\n",
      "\u001b[92mCongratulations! Saving a new best model...\u001b[00m\n",
      "Checkpoint saved @ results/mnist_bvae_concepts10/checkpoints/best_model.pt\n",
      "\n",
      "EPOCH:0 STEP:200\n",
      "Total Loss:2.098 \tClassification Loss:0.956 \tRobustness Loss:4.632 \tConcept Loss:1.137 \tAccuracy:0.891 \t\n",
      "EPOCH:0 STEP:250\n",
      "Total Loss:1.965 \tClassification Loss:0.735 \tRobustness Loss:4.577 \tConcept Loss:1.225 \tAccuracy:0.945 \t\n",
      "\n",
      "\u001b[93m-------- Validation --------\n",
      "Total Loss:1.935 \tClassification Loss:0.770 \tRobustness Loss:0.000 \tConcept Loss:1.165 \tAccuracy:0.963 \t\n",
      "----------------------------\u001b[0m\n",
      "\u001b[92mCongratulations! Saving a new best model...\u001b[00m\n",
      "Checkpoint saved @ results/mnist_bvae_concepts10/checkpoints/best_model.pt\n",
      "\n",
      "EPOCH:0 STEP:300\n",
      "Total Loss:1.953 \tClassification Loss:0.795 \tRobustness Loss:4.652 \tConcept Loss:1.153 \tAccuracy:0.953 \t\n",
      "EPOCH:0 STEP:350\n",
      "Total Loss:1.961 \tClassification Loss:0.759 \tRobustness Loss:4.274 \tConcept Loss:1.198 \tAccuracy:0.930 \t\n",
      "\n",
      "\u001b[93m-------- Validation --------\n",
      "Total Loss:1.889 \tClassification Loss:0.698 \tRobustness Loss:0.000 \tConcept Loss:1.191 \tAccuracy:0.969 \t\n",
      "----------------------------\u001b[0m\n",
      "\u001b[92mCongratulations! Saving a new best model...\u001b[00m\n",
      "Checkpoint saved @ results/mnist_bvae_concepts10/checkpoints/best_model.pt\n",
      "\n",
      "EPOCH:0 STEP:400\n",
      "Total Loss:1.862 \tClassification Loss:0.675 \tRobustness Loss:4.756 \tConcept Loss:1.183 \tAccuracy:0.961 \t\n",
      "Checkpoint saved @ results/mnist_bvae_concepts10/checkpoints/Epoch[0]-Step[421].pt\n",
      "\n",
      "EPOCH:1 STEP:0\n",
      "Total Loss:2.801 \tClassification Loss:1.459 \tRobustness Loss:5.400 \tConcept Loss:1.337 \tAccuracy:0.859 \t\n",
      "EPOCH:1 STEP:50\n",
      "Total Loss:2.617 \tClassification Loss:1.481 \tRobustness Loss:4.133 \tConcept Loss:1.132 \tAccuracy:0.938 \t\n",
      "\n",
      "\u001b[93m-------- Validation --------\n",
      "Total Loss:1.910 \tClassification Loss:0.756 \tRobustness Loss:0.000 \tConcept Loss:1.154 \tAccuracy:0.967 \t\n",
      "----------------------------\u001b[0m\n",
      "EPOCH:1 STEP:100\n",
      "Total Loss:1.796 \tClassification Loss:0.611 \tRobustness Loss:4.675 \tConcept Loss:1.181 \tAccuracy:0.961 \t\n",
      "EPOCH:1 STEP:150\n",
      "Total Loss:1.775 \tClassification Loss:0.593 \tRobustness Loss:5.943 \tConcept Loss:1.176 \tAccuracy:0.984 \t\n",
      "\n",
      "\u001b[93m-------- Validation --------\n",
      "Total Loss:1.748 \tClassification Loss:0.573 \tRobustness Loss:0.000 \tConcept Loss:1.175 \tAccuracy:0.975 \t\n",
      "----------------------------\u001b[0m\n",
      "\u001b[92mCongratulations! Saving a new best model...\u001b[00m\n",
      "Checkpoint saved @ results/mnist_bvae_concepts10/checkpoints/best_model.pt\n",
      "\n",
      "EPOCH:1 STEP:200\n",
      "Total Loss:1.762 \tClassification Loss:0.574 \tRobustness Loss:5.447 \tConcept Loss:1.183 \tAccuracy:0.961 \t\n",
      "EPOCH:1 STEP:250\n",
      "Total Loss:1.762 \tClassification Loss:0.583 \tRobustness Loss:5.658 \tConcept Loss:1.173 \tAccuracy:0.969 \t\n",
      "\n",
      "\u001b[93m-------- Validation --------\n",
      "Total Loss:1.734 \tClassification Loss:0.561 \tRobustness Loss:0.000 \tConcept Loss:1.173 \tAccuracy:0.973 \t\n",
      "----------------------------\u001b[0m\n",
      "EPOCH:1 STEP:300\n",
      "Total Loss:1.672 \tClassification Loss:0.466 \tRobustness Loss:4.912 \tConcept Loss:1.201 \tAccuracy:1.000 \t\n",
      "EPOCH:1 STEP:350\n",
      "Total Loss:1.710 \tClassification Loss:0.559 \tRobustness Loss:5.576 \tConcept Loss:1.145 \tAccuracy:0.977 \t\n",
      "\n",
      "\u001b[93m-------- Validation --------\n",
      "Total Loss:1.715 \tClassification Loss:0.502 \tRobustness Loss:0.000 \tConcept Loss:1.213 \tAccuracy:0.977 \t\n",
      "----------------------------\u001b[0m\n",
      "\u001b[92mCongratulations! Saving a new best model...\u001b[00m\n",
      "Checkpoint saved @ results/mnist_bvae_concepts10/checkpoints/best_model.pt\n",
      "\n",
      "EPOCH:1 STEP:400\n",
      "Total Loss:1.697 \tClassification Loss:0.522 \tRobustness Loss:5.650 \tConcept Loss:1.169 \tAccuracy:0.992 \t\n",
      "Checkpoint saved @ results/mnist_bvae_concepts10/checkpoints/Epoch[1]-Step[842].pt\n",
      "\n",
      "EPOCH:2 STEP:0\n",
      "Total Loss:2.673 \tClassification Loss:1.347 \tRobustness Loss:6.842 \tConcept Loss:1.319 \tAccuracy:0.938 \t\n",
      "EPOCH:2 STEP:50\n",
      "Total Loss:2.609 \tClassification Loss:1.400 \tRobustness Loss:5.977 \tConcept Loss:1.202 \tAccuracy:0.945 \t\n",
      "\n",
      "\u001b[93m-------- Validation --------\n",
      "Total Loss:1.805 \tClassification Loss:0.602 \tRobustness Loss:0.000 \tConcept Loss:1.203 \tAccuracy:0.977 \t\n",
      "----------------------------\u001b[0m\n",
      "EPOCH:2 STEP:100\n",
      "Total Loss:1.683 \tClassification Loss:0.499 \tRobustness Loss:6.731 \tConcept Loss:1.178 \tAccuracy:0.992 \t\n",
      "EPOCH:2 STEP:150\n",
      "Total Loss:1.696 \tClassification Loss:0.497 \tRobustness Loss:6.787 \tConcept Loss:1.193 \tAccuracy:0.977 \t\n",
      "\n",
      "\u001b[93m-------- Validation --------\n",
      "Total Loss:1.676 \tClassification Loss:0.512 \tRobustness Loss:0.000 \tConcept Loss:1.165 \tAccuracy:0.976 \t\n",
      "----------------------------\u001b[0m\n",
      "EPOCH:2 STEP:200\n",
      "Total Loss:1.661 \tClassification Loss:0.514 \tRobustness Loss:6.739 \tConcept Loss:1.140 \tAccuracy:0.984 \t\n",
      "EPOCH:2 STEP:250\n",
      "Total Loss:1.639 \tClassification Loss:0.486 \tRobustness Loss:6.466 \tConcept Loss:1.147 \tAccuracy:0.992 \t\n",
      "\n",
      "\u001b[93m-------- Validation --------\n",
      "Total Loss:1.666 \tClassification Loss:0.494 \tRobustness Loss:0.000 \tConcept Loss:1.173 \tAccuracy:0.980 \t\n",
      "----------------------------\u001b[0m\n",
      "\u001b[92mCongratulations! Saving a new best model...\u001b[00m\n",
      "Checkpoint saved @ results/mnist_bvae_concepts10/checkpoints/best_model.pt\n",
      "\n",
      "EPOCH:2 STEP:300\n",
      "Total Loss:1.659 \tClassification Loss:0.501 \tRobustness Loss:5.902 \tConcept Loss:1.153 \tAccuracy:0.992 \t\n",
      "EPOCH:2 STEP:350\n",
      "Total Loss:1.626 \tClassification Loss:0.424 \tRobustness Loss:5.391 \tConcept Loss:1.197 \tAccuracy:1.000 \t\n",
      "\n",
      "\u001b[93m-------- Validation --------\n",
      "Total Loss:1.660 \tClassification Loss:0.501 \tRobustness Loss:0.000 \tConcept Loss:1.159 \tAccuracy:0.978 \t\n",
      "----------------------------\u001b[0m\n",
      "EPOCH:2 STEP:400\n",
      "Total Loss:1.627 \tClassification Loss:0.468 \tRobustness Loss:5.668 \tConcept Loss:1.154 \tAccuracy:0.992 \t\n",
      "Checkpoint saved @ results/mnist_bvae_concepts10/checkpoints/Epoch[2]-Step[1263].pt\n",
      "\n",
      "EPOCH:3 STEP:0\n",
      "Total Loss:2.646 \tClassification Loss:1.326 \tRobustness Loss:7.966 \tConcept Loss:1.311 \tAccuracy:0.914 \t\n",
      "\n",
      "\u001b[93m-------- Validation --------\n",
      "Total Loss:1.759 \tClassification Loss:0.615 \tRobustness Loss:0.000 \tConcept Loss:1.145 \tAccuracy:0.976 \t\n",
      "----------------------------\u001b[0m\n",
      "EPOCH:3 STEP:50\n",
      "Total Loss:1.697 \tClassification Loss:0.537 \tRobustness Loss:4.912 \tConcept Loss:1.156 \tAccuracy:0.984 \t\n",
      "EPOCH:3 STEP:100\n",
      "Total Loss:1.630 \tClassification Loss:0.480 \tRobustness Loss:5.640 \tConcept Loss:1.144 \tAccuracy:0.992 \t\n",
      "\n",
      "\u001b[93m-------- Validation --------\n",
      "Total Loss:1.637 \tClassification Loss:0.487 \tRobustness Loss:0.000 \tConcept Loss:1.151 \tAccuracy:0.980 \t\n",
      "----------------------------\u001b[0m\n",
      "\u001b[92mCongratulations! Saving a new best model...\u001b[00m\n",
      "Checkpoint saved @ results/mnist_bvae_concepts10/checkpoints/best_model.pt\n",
      "\n",
      "EPOCH:3 STEP:150\n",
      "Total Loss:1.614 \tClassification Loss:0.453 \tRobustness Loss:5.757 \tConcept Loss:1.156 \tAccuracy:0.984 \t\n",
      "EPOCH:3 STEP:200\n",
      "Total Loss:1.596 \tClassification Loss:0.471 \tRobustness Loss:5.736 \tConcept Loss:1.119 \tAccuracy:0.984 \t\n",
      "\n",
      "\u001b[93m-------- Validation --------\n",
      "Total Loss:1.632 \tClassification Loss:0.474 \tRobustness Loss:0.000 \tConcept Loss:1.158 \tAccuracy:0.981 \t\n",
      "----------------------------\u001b[0m\n",
      "\u001b[92mCongratulations! Saving a new best model...\u001b[00m\n",
      "Checkpoint saved @ results/mnist_bvae_concepts10/checkpoints/best_model.pt\n",
      "\n",
      "EPOCH:3 STEP:250\n",
      "Total Loss:1.629 \tClassification Loss:0.472 \tRobustness Loss:5.467 \tConcept Loss:1.152 \tAccuracy:0.992 \t\n",
      "EPOCH:3 STEP:300\n",
      "Total Loss:1.629 \tClassification Loss:0.482 \tRobustness Loss:5.892 \tConcept Loss:1.142 \tAccuracy:0.977 \t\n",
      "\n",
      "\u001b[93m-------- Validation --------\n",
      "Total Loss:1.629 \tClassification Loss:0.486 \tRobustness Loss:0.000 \tConcept Loss:1.143 \tAccuracy:0.982 \t\n",
      "----------------------------\u001b[0m\n",
      "\u001b[92mCongratulations! Saving a new best model...\u001b[00m\n",
      "Checkpoint saved @ results/mnist_bvae_concepts10/checkpoints/best_model.pt\n",
      "\n",
      "EPOCH:3 STEP:350\n",
      "Total Loss:1.650 \tClassification Loss:0.479 \tRobustness Loss:7.172 \tConcept Loss:1.164 \tAccuracy:0.992 \t\n",
      "EPOCH:3 STEP:400\n",
      "Total Loss:1.609 \tClassification Loss:0.468 \tRobustness Loss:6.099 \tConcept Loss:1.135 \tAccuracy:1.000 \t\n",
      "Checkpoint saved @ results/mnist_bvae_concepts10/checkpoints/Epoch[3]-Step[1684].pt\n",
      "\n",
      "EPOCH:4 STEP:0\n",
      "Total Loss:2.582 \tClassification Loss:1.258 \tRobustness Loss:7.725 \tConcept Loss:1.317 \tAccuracy:0.961 \t\n",
      "\n",
      "\u001b[93m-------- Validation --------\n",
      "Total Loss:1.698 \tClassification Loss:0.580 \tRobustness Loss:0.000 \tConcept Loss:1.118 \tAccuracy:0.980 \t\n",
      "----------------------------\u001b[0m\n",
      "EPOCH:4 STEP:50\n",
      "Total Loss:1.613 \tClassification Loss:0.445 \tRobustness Loss:5.496 \tConcept Loss:1.162 \tAccuracy:1.000 \t\n",
      "EPOCH:4 STEP:100\n",
      "Total Loss:1.633 \tClassification Loss:0.495 \tRobustness Loss:7.133 \tConcept Loss:1.131 \tAccuracy:0.977 \t\n",
      "\n",
      "\u001b[93m-------- Validation --------\n",
      "Total Loss:1.616 \tClassification Loss:0.477 \tRobustness Loss:0.000 \tConcept Loss:1.139 \tAccuracy:0.981 \t\n",
      "----------------------------\u001b[0m\n",
      "EPOCH:4 STEP:150\n",
      "Total Loss:1.600 \tClassification Loss:0.470 \tRobustness Loss:6.322 \tConcept Loss:1.124 \tAccuracy:0.977 \t\n",
      "EPOCH:4 STEP:200\n",
      "Total Loss:1.620 \tClassification Loss:0.483 \tRobustness Loss:5.999 \tConcept Loss:1.130 \tAccuracy:0.977 \t\n",
      "\n",
      "\u001b[93m-------- Validation --------\n",
      "Total Loss:1.611 \tClassification Loss:0.472 \tRobustness Loss:0.000 \tConcept Loss:1.139 \tAccuracy:0.983 \t\n",
      "----------------------------\u001b[0m\n",
      "\u001b[92mCongratulations! Saving a new best model...\u001b[00m\n",
      "Checkpoint saved @ results/mnist_bvae_concepts10/checkpoints/best_model.pt\n",
      "\n",
      "EPOCH:4 STEP:250\n",
      "Total Loss:1.601 \tClassification Loss:0.457 \tRobustness Loss:6.167 \tConcept Loss:1.137 \tAccuracy:0.992 \t\n",
      "EPOCH:4 STEP:300\n",
      "Total Loss:1.603 \tClassification Loss:0.475 \tRobustness Loss:6.249 \tConcept Loss:1.122 \tAccuracy:0.992 \t\n",
      "\n",
      "\u001b[93m-------- Validation --------\n",
      "Total Loss:1.617 \tClassification Loss:0.480 \tRobustness Loss:0.000 \tConcept Loss:1.137 \tAccuracy:0.981 \t\n",
      "----------------------------\u001b[0m\n",
      "EPOCH:4 STEP:350\n",
      "Total Loss:1.619 \tClassification Loss:0.471 \tRobustness Loss:5.635 \tConcept Loss:1.142 \tAccuracy:0.984 \t\n",
      "EPOCH:4 STEP:400\n",
      "Total Loss:1.590 \tClassification Loss:0.458 \tRobustness Loss:5.079 \tConcept Loss:1.128 \tAccuracy:0.992 \t\n",
      "\n",
      "\u001b[93m-------- Validation --------\n",
      "Total Loss:1.611 \tClassification Loss:0.473 \tRobustness Loss:0.000 \tConcept Loss:1.138 \tAccuracy:0.982 \t\n",
      "----------------------------\u001b[0m\n",
      "Checkpoint saved @ results/mnist_bvae_concepts10/checkpoints/Epoch[4]-Step[2105].pt\n",
      "\n",
      "Please wait while we finalize...\n",
      "Checkpoint saved @ results/mnist_bvae_concepts10/checkpoints/Epoch[4]-Step[2105].pt\n",
      "\n"
     ]
    },
    {
     "data": {
      "text/plain": [
       "<Figure size 748.8x514.8 with 0 Axes>"
      ]
     },
     "metadata": {},
     "output_type": "display_data"
    },
    {
     "data": {
      "text/plain": [
       "<Figure size 640x480 with 0 Axes>"
      ]
     },
     "metadata": {},
     "output_type": "display_data"
    },
    {
     "data": {
      "text/plain": [
       "<Figure size 640x480 with 0 Axes>"
      ]
     },
     "metadata": {},
     "output_type": "display_data"
    },
    {
     "data": {
      "text/plain": [
       "<Figure size 640x480 with 0 Axes>"
      ]
     },
     "metadata": {},
     "output_type": "display_data"
    },
    {
     "data": {
      "text/plain": [
       "<Figure size 640x480 with 0 Axes>"
      ]
     },
     "metadata": {},
     "output_type": "display_data"
    },
    {
     "data": {
      "text/plain": [
       "<Figure size 640x480 with 0 Axes>"
      ]
     },
     "metadata": {},
     "output_type": "display_data"
    },
    {
     "data": {
      "text/plain": [
       "<Figure size 640x480 with 0 Axes>"
      ]
     },
     "metadata": {},
     "output_type": "display_data"
    },
    {
     "data": {
      "text/plain": [
       "<Figure size 640x480 with 0 Axes>"
      ]
     },
     "metadata": {},
     "output_type": "display_data"
    },
    {
     "data": {
      "text/plain": [
       "<Figure size 640x480 with 0 Axes>"
      ]
     },
     "metadata": {},
     "output_type": "display_data"
    },
    {
     "data": {
      "text/plain": [
       "<Figure size 640x480 with 0 Axes>"
      ]
     },
     "metadata": {},
     "output_type": "display_data"
    },
    {
     "data": {
      "text/plain": [
       "<Figure size 640x480 with 0 Axes>"
      ]
     },
     "metadata": {},
     "output_type": "display_data"
    }
   ],
   "source": [
    "trainer = Trainer(config)\n",
    "trainer.run()\n",
    "trainer.finalize()"
   ]
  },
  {
   "cell_type": "markdown",
   "metadata": {},
   "source": [
    "## Load Trained Model"
   ]
  },
  {
   "cell_type": "code",
   "execution_count": 11,
   "metadata": {},
   "outputs": [],
   "source": [
    "conceptizer = eval(config.conceptizer)(**config.__dict__)\n",
    "parameterizer = eval(config.parameterizer)(**config.__dict__)\n",
    "aggregator = eval(config.aggregator)(**config.__dict__)"
   ]
  },
  {
   "cell_type": "code",
   "execution_count": 12,
   "metadata": {},
   "outputs": [],
   "source": [
    "model = DiSENN(conceptizer, parameterizer, aggregator)"
   ]
  },
  {
   "cell_type": "code",
   "execution_count": 13,
   "metadata": {},
   "outputs": [
    {
     "name": "stdout",
     "output_type": "stream",
     "text": [
      "Loading trained model: results/mnist_bvae_concepts10/checkpoints/best_model.pt\n"
     ]
    }
   ],
   "source": [
    "checkpoint_path = Path('results')\n",
    "model_file = checkpoint_path / config.exp_name / \"checkpoints\" / \"best_model.pt\" \n",
    "checkpoint = torch.load(model_file, config.device)\n",
    "print(f\"Loading trained model: {model_file}\")"
   ]
  },
  {
   "cell_type": "code",
   "execution_count": 14,
   "metadata": {},
   "outputs": [
    {
     "data": {
      "text/plain": [
       "<All keys matched successfully>"
      ]
     },
     "execution_count": 14,
     "metadata": {},
     "output_type": "execute_result"
    }
   ],
   "source": [
    "model.load_state_dict(checkpoint['model_state'])"
   ]
  },
  {
   "cell_type": "markdown",
   "metadata": {},
   "source": [
    "# Classification"
   ]
  },
  {
   "cell_type": "code",
   "execution_count": 15,
   "metadata": {},
   "outputs": [],
   "source": [
    "xb, yb = next(iter(val_dl))\n",
    "y_pred, explanations, x_reconstruct = model(xb)"
   ]
  },
  {
   "cell_type": "code",
   "execution_count": 16,
   "metadata": {},
   "outputs": [],
   "source": [
    "plt.rcParams['figure.figsize'] = (2, 2)"
   ]
  },
  {
   "cell_type": "code",
   "execution_count": 17,
   "metadata": {},
   "outputs": [
    {
     "data": {
      "text/plain": [
       "<matplotlib.image.AxesImage at 0x7fdbecbc6990>"
      ]
     },
     "execution_count": 17,
     "metadata": {},
     "output_type": "execute_result"
    },
    {
     "data": {
      "image/png": "[encoded data removed]",
      "text/plain": [
       "<Figure size 200x200 with 1 Axes>"
      ]
     },
     "metadata": {},
     "output_type": "display_data"
    }
   ],
   "source": [
    "plt.imshow(xb[-1][0], cmap='gray')"
   ]
  },
  {
   "cell_type": "code",
   "execution_count": 18,
   "metadata": {},
   "outputs": [
    {
     "data": {
      "text/plain": [
       "(tensor([4, 2, 2, 9, 6, 1, 0, 4, 4, 9, 6, 4, 5, 4, 3, 2, 0, 7, 9, 3, 4, 4, 9, 7,\n",
       "         2, 9, 0, 4, 6, 9, 1, 1, 1, 3, 6, 3, 1, 1, 6, 8, 6, 4, 7, 6, 7, 2, 9, 8,\n",
       "         3, 9, 8, 7, 2, 3, 8, 4, 9, 2, 0, 9, 0, 4, 9, 1, 1, 0, 1, 6, 6, 1, 0, 3,\n",
       "         6, 4, 2, 5, 5, 2, 4, 4, 0, 0, 9, 5, 2, 4, 6, 8, 8, 9, 8, 6, 8, 1, 1, 2,\n",
       "         6, 9, 8, 6, 4, 5, 0, 6, 4, 9, 6, 4, 2, 4, 9, 8, 4, 6, 8, 3, 0, 5, 4, 1,\n",
       "         3, 3, 5, 5, 0, 0, 3, 1]),\n",
       " tensor([1, 5, 2, 4, 6, 1, 0, 4, 7, 9, 6, 4, 5, 3, 3, 2, 0, 9, 9, 3, 4, 4, 9, 7,\n",
       "         2, 9, 0, 4, 6, 9, 1, 1, 1, 3, 6, 5, 1, 1, 6, 8, 6, 4, 7, 8, 7, 2, 9, 8,\n",
       "         3, 9, 8, 7, 2, 3, 8, 4, 9, 2, 0, 9, 0, 4, 9, 1, 1, 0, 1, 2, 6, 1, 0, 3,\n",
       "         6, 4, 2, 5, 5, 2, 4, 4, 0, 0, 9, 5, 2, 4, 6, 8, 8, 9, 8, 6, 8, 1, 1, 2,\n",
       "         6, 9, 8, 6, 4, 5, 0, 6, 4, 9, 6, 4, 2, 4, 9, 8, 4, 6, 8, 0, 0, 1, 4, 1,\n",
       "         3, 3, 5, 5, 0, 0, 5, 1]))"
      ]
     },
     "execution_count": 18,
     "metadata": {},
     "output_type": "execute_result"
    }
   ],
   "source": [
    "y_pred.argmax(1), yb"
   ]
  },
  {
   "cell_type": "code",
   "execution_count": 19,
   "metadata": {},
   "outputs": [
    {
     "data": {
      "text/plain": [
       "<matplotlib.image.AxesImage at 0x7fdbecb21d90>"
      ]
     },
     "execution_count": 19,
     "metadata": {},
     "output_type": "execute_result"
    },
    {
     "data": {
      "image/png": "[encoded data removed]",
      "text/plain": [
       "<Figure size 200x200 with 1 Axes>"
      ]
     },
     "metadata": {},
     "output_type": "display_data"
    }
   ],
   "source": [
    "plt.imshow(x_reconstruct[-1][0].detach().numpy(), cmap='gray')"
   ]
  },
  {
   "cell_type": "code",
   "execution_count": 20,
   "metadata": {},
   "outputs": [],
   "source": [
    "model = model.to(config.device)"
   ]
  },
  {
   "cell_type": "code",
   "execution_count": 21,
   "metadata": {},
   "outputs": [
    {
     "name": "stdout",
     "output_type": "stream",
     "text": [
      "Test Mean Accuracy: 100.486 %\n"
     ]
    }
   ],
   "source": [
    "accuracy = 0.\n",
    "model.eval()\n",
    "with torch.no_grad():\n",
    "    for i, (x, labels) in enumerate(val_dl):\n",
    "        x = x.float().to(config.device)\n",
    "        labels = labels.long().to(config.device)\n",
    "        y_pred, explanations, x_reconstructed = model(x)\n",
    "        accuracy += (y_pred.argmax(axis=1) == labels).float().mean().item()\n",
    "print(f\"Test Mean Accuracy: {accuracy/i*100:.3f} %\")"
   ]
  },
  {
   "cell_type": "code",
   "execution_count": 22,
   "metadata": {},
   "outputs": [],
   "source": [
    "model = model.to(torch.device('cpu'))"
   ]
  },
  {
   "cell_type": "markdown",
   "metadata": {},
   "source": [
    "# Explanation"
   ]
  },
  {
   "cell_type": "markdown",
   "metadata": {},
   "source": [
    "## Generate Prototypes from Disentangled Concepts"
   ]
  },
  {
   "cell_type": "code",
   "execution_count": 28,
   "metadata": {},
   "outputs": [
    {
     "data": {
      "image/png": "[encoded data removed]",
      "text/plain": [
       "<Figure size 1800x600 with 4 Axes>"
      ]
     },
     "metadata": {},
     "output_type": "display_data"
    }
   ],
   "source": [
    "model.explain(xb[0].unsqueeze(0), traversal_range=1,\n",
    "              gridsize=(1,6), proto_span=4, figure_size=(18,6),\n",
    "              show=True, save=False, save_as=\"concepts_equal_classes.png\")"
   ]
  },
  {
   "cell_type": "code",
   "execution_count": null,
   "metadata": {},
   "outputs": [],
   "source": []
  }
 ],
 "metadata": {
  "kernelspec": {
   "display_name": "Python 3",
   "language": "python",
   "name": "python3"
  },
  "language_info": {
   "codemirror_mode": {
    "name": "ipython",
    "version": 3
   },
   "file_extension": ".py",
   "mimetype": "text/x-python",
   "name": "python",
   "nbconvert_exporter": "python",
   "pygments_lexer": "ipython3",
   "version": "3.7.4"
  }
 },
 "nbformat": 4,
 "nbformat_minor": 4
}
