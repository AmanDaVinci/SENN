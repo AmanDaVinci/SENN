{
 "cells": [
  {
   "cell_type": "markdown",
   "metadata": {},
   "source": [
    "# Self-Explaining Neural Networks with Disentanglement\n",
    "---"
   ]
  },
  {
   "cell_type": "markdown",
   "metadata": {},
   "source": [
    "## Import libraries"
   ]
  },
  {
   "cell_type": "code",
   "execution_count": 1,
   "metadata": {},
   "outputs": [],
   "source": [
    "import sys\n",
    "sys.path.append('..')"
   ]
  },
  {
   "cell_type": "code",
   "execution_count": 2,
   "metadata": {},
   "outputs": [],
   "source": [
    "import torch\n",
    "import torch.nn as nn\n",
    "import numpy as np\n",
    "from pathlib import Path\n",
    "from types import SimpleNamespace\n",
    "import matplotlib.pyplot as plt\n",
    "\n",
    "%matplotlib inline"
   ]
  },
  {
   "cell_type": "code",
   "execution_count": 3,
   "metadata": {},
   "outputs": [],
   "source": [
    "from models.losses import *\n",
    "from models.parameterizer import ConvParameterizer\n",
    "from models.conceptizer import ConvConceptizer, VaeConceptizer\n",
    "from models.aggregator import SumAggregator"
   ]
  },
  {
   "cell_type": "markdown",
   "metadata": {},
   "source": [
    "## Configuration"
   ]
  },
  {
   "cell_type": "code",
   "execution_count": 4,
   "metadata": {},
   "outputs": [],
   "source": [
    "plt.style.use('seaborn-paper')"
   ]
  },
  {
   "cell_type": "code",
   "execution_count": 5,
   "metadata": {},
   "outputs": [],
   "source": [
    "config = {\n",
    "  \"model_class\": \"DiSENN\",\n",
    "  \"conceptizer\": \"VaeConceptizer\",\n",
    "  \"pretrain_epochs\": 3,\n",
    "  \"beta\": 4.0,\n",
    "  \"concept_loss\": \"BVAE_loss\",\n",
    "  \"robustness_loss\": \"mnist_robustness_loss\",\n",
    "  \"train\": True,\n",
    "  \"image_size\": 28,\n",
    "  \"concept_dim\": 1,\n",
    "  \"concept_visualization\": None,\n",
    "  \"parameterizer\": \"ConvParameterizer\",\n",
    "  \"cl_sizes\": [1, 10, 20],\n",
    "  \"hidden_sizes\": [320, 50],\n",
    "  \"num_concepts\": 5,\n",
    "  \"num_classes\": 10,\n",
    "  \"dropout\": 0.5,\n",
    "  \"aggregator\": \"SumAggregator\",\n",
    "  \"device\": \"cuda:0\",\n",
    "  \"lr\": 2e-3,\n",
    "  \"epochs\": 5,\n",
    "  \"robust_reg\": 1e-3,\n",
    "  \"concept_reg\": 1,\n",
    "  \"print_freq\": 50,\n",
    "  \"exp_name\": \"mnist_bvae_concepts10\",\n",
    "  \"dataloader\": \"mnist\",\n",
    "  \"data_path\": \"datasets/data/mnist_data\",\n",
    "  \"batch_size\" : 128,\n",
    "  \"eval_freq\" : 100\n",
    "}\n",
    "config = SimpleNamespace(**config)"
   ]
  },
  {
   "cell_type": "markdown",
   "metadata": {},
   "source": [
    "# DiSENN\n",
    "DiSENN (Self-Explaining Neural Networks with Disentanglement) is an extension of the Self-Explaining Neural Network proposed by [1]  "
   ]
  },
  {
   "cell_type": "markdown",
   "metadata": {},
   "source": [
    "DiSENN incorporates a constrained variational inference framework on a \n",
    "SENN Concept Encoder to learn disentangled representations of the \n",
    "basis concepts as in [2]. The basis concepts are then independently\n",
    "sensitive to single generative factors leading to better interpretability \n",
    "and lesser overlap with other basis concepts. Such a strong constraint \n",
    "better fulfills the \"diversity\" desiderata for basis concepts\n",
    "in a Self-Explaining Neural Network.\n",
    "\n",
    "\n",
    "References  \n",
    "[1] Alvarez Melis, et al.\n",
    "\"Towards Robust Interpretability with Self-Explaining Neural Networks\" NIPS 2018  \n",
    "[2] Irina Higgins, et al. \n",
    "”β-VAE: Learning basic visual concepts with a constrained variational framework.” ICLR 2017. "
   ]
  },
  {
   "cell_type": "code",
   "execution_count": 6,
   "metadata": {},
   "outputs": [],
   "source": [
    "class DiSENN(nn.Module):\n",
    "    \"\"\"Self-Explaining Neural Network with Disentanglement \"\"\"\n",
    "    \n",
    "    def __init__(self, vae_conceptizer, parameterizer, aggregator):\n",
    "        \"\"\"Instantiates the SENDD with a variational conceptizer, parameterizer and aggregator\"\"\"\n",
    "        super().__init__()\n",
    "        self.vae_conceptizer = vae_conceptizer\n",
    "        self.parameterizer = parameterizer\n",
    "        self.aggregator = aggregator\n",
    "\n",
    "    def forward(self, x):\n",
    "        \"\"\"Forward pass of a DiSENN model\n",
    "        \n",
    "        The forward pass computes a distribution over basis concepts\n",
    "        and the corresponding relevance scores. The mean concepts \n",
    "        and relevance scores are aggregated to generate a prediction.\n",
    "        \"\"\"\n",
    "        concept_mean, concept_logvar, x_reconstruct = self.vae_conceptizer(x)\n",
    "        relevances = self.parameterizer(x)\n",
    "        predictions = self.aggregator(concept_mean, relevances)\n",
    "        explanations = ((concept_mean, concept_logvar), relevances)\n",
    "        return predictions, explanations, x_reconstruct"
   ]
  },
  {
   "cell_type": "markdown",
   "metadata": {},
   "source": [
    "## Load Data"
   ]
  },
  {
   "cell_type": "code",
   "execution_count": 7,
   "metadata": {},
   "outputs": [],
   "source": [
    "from datasets.dataloaders import get_dataloader\n",
    "train_dl, val_dl, _ = get_dataloader(config)"
   ]
  },
  {
   "cell_type": "markdown",
   "metadata": {},
   "source": [
    "## Training"
   ]
  },
  {
   "cell_type": "code",
   "execution_count": 8,
   "metadata": {},
   "outputs": [],
   "source": [
    "from trainer import Trainer"
   ]
  },
  {
   "cell_type": "code",
   "execution_count": 9,
   "metadata": {},
   "outputs": [
    {
     "name": "stdout",
     "output_type": "stream",
     "text": [
      "Using device cuda:0\n",
      "Loading data ...\n",
      "Pre-training the Conceptizer... \n",
      "EPOCH:0 STEP:0 \tConcept Loss: 1.257\n",
      "EPOCH:0 STEP:50 \tConcept Loss: 0.835\n",
      "EPOCH:0 STEP:100 \tConcept Loss: 0.817\n",
      "EPOCH:0 STEP:150 \tConcept Loss: 0.818\n",
      "EPOCH:0 STEP:200 \tConcept Loss: 0.796\n",
      "EPOCH:0 STEP:250 \tConcept Loss: 0.819\n",
      "EPOCH:0 STEP:300 \tConcept Loss: 0.810\n",
      "EPOCH:0 STEP:350 \tConcept Loss: 0.802\n",
      "EPOCH:0 STEP:400 \tConcept Loss: 0.826\n",
      "EPOCH:1 STEP:0 \tConcept Loss: 0.788\n",
      "EPOCH:1 STEP:50 \tConcept Loss: 0.803\n",
      "EPOCH:1 STEP:100 \tConcept Loss: 0.851\n",
      "EPOCH:1 STEP:150 \tConcept Loss: 0.821\n",
      "EPOCH:1 STEP:200 \tConcept Loss: 0.804\n",
      "EPOCH:1 STEP:250 \tConcept Loss: 0.778\n",
      "EPOCH:1 STEP:300 \tConcept Loss: 0.765\n",
      "EPOCH:1 STEP:350 \tConcept Loss: 0.800\n",
      "EPOCH:1 STEP:400 \tConcept Loss: 0.771\n",
      "EPOCH:2 STEP:0 \tConcept Loss: 0.773\n",
      "EPOCH:2 STEP:50 \tConcept Loss: 0.782\n",
      "EPOCH:2 STEP:100 \tConcept Loss: 0.818\n",
      "EPOCH:2 STEP:150 \tConcept Loss: 0.822\n",
      "EPOCH:2 STEP:200 \tConcept Loss: 0.800\n",
      "EPOCH:2 STEP:250 \tConcept Loss: 0.806\n",
      "EPOCH:2 STEP:300 \tConcept Loss: 0.788\n",
      "EPOCH:2 STEP:350 \tConcept Loss: 0.785\n",
      "EPOCH:2 STEP:400 \tConcept Loss: 0.790\n",
      "DiSENN(\n",
      "  (vae_conceptizer): VaeConceptizer(\n",
      "    (encoder): VaeEncoder(\n",
      "      (FC): Sequential(\n",
      "        (0): Flatten()\n",
      "        (1): Linear(in_features=784, out_features=512, bias=True)\n",
      "        (2): ReLU()\n",
      "        (3): Linear(in_features=512, out_features=256, bias=True)\n",
      "        (4): ReLU()\n",
      "        (5): Linear(in_features=256, out_features=100, bias=True)\n",
      "        (6): ReLU()\n",
      "      )\n",
      "      (mean_layer): Linear(in_features=100, out_features=5, bias=True)\n",
      "      (logvar_layer): Linear(in_features=100, out_features=5, bias=True)\n",
      "    )\n",
      "    (decoder): VaeDecoder(\n",
      "      (FC): Sequential(\n",
      "        (0): Linear(in_features=5, out_features=100, bias=True)\n",
      "        (1): ReLU()\n",
      "        (2): Linear(in_features=100, out_features=256, bias=True)\n",
      "        (3): ReLU()\n",
      "        (4): Linear(in_features=256, out_features=512, bias=True)\n",
      "        (5): ReLU()\n",
      "        (6): Linear(in_features=512, out_features=784, bias=True)\n",
      "      )\n",
      "    )\n",
      "  )\n",
      "  (parameterizer): ConvParameterizer(\n",
      "    (cl_layers): Sequential(\n",
      "      (0): Conv2d(1, 10, kernel_size=(5, 5), stride=(1, 1))\n",
      "      (1): MaxPool2d(kernel_size=2, stride=2, padding=0, dilation=1, ceil_mode=False)\n",
      "      (2): ReLU()\n",
      "      (3): Conv2d(10, 20, kernel_size=(5, 5), stride=(1, 1))\n",
      "      (4): Dropout2d(p=0.5, inplace=False)\n",
      "      (5): MaxPool2d(kernel_size=2, stride=2, padding=0, dilation=1, ceil_mode=False)\n",
      "      (6): ReLU()\n",
      "    )\n",
      "    (fc_layers): Sequential(\n",
      "      (0): Linear(in_features=320, out_features=50, bias=True)\n",
      "      (1): Dropout(p=0.5, inplace=False)\n",
      "      (2): Tanh()\n",
      "    )\n",
      "  )\n",
      "  (aggregator): SumAggregator()\n",
      ")\n",
      "Trainable Parameters: 1141520\n",
      "\n",
      "Training begins...\n",
      "EPOCH:0 STEP:0\n",
      "Total Loss:3.108 \tClassification Loss:2.303 \tRobustness Loss:0.045 \tConcept Loss:0.805 \tAccuracy:0.070 \t\n",
      "EPOCH:0 STEP:50\n",
      "Total Loss:2.996 \tClassification Loss:2.118 \tRobustness Loss:0.678 \tConcept Loss:0.878 \tAccuracy:0.344 \t\n",
      "\n",
      "\u001b[93m-------- Validation --------\n",
      "Total Loss:2.668 \tClassification Loss:1.739 \tRobustness Loss:0.000 \tConcept Loss:0.930 \tAccuracy:0.801 \t\n",
      "----------------------------\u001b[0m\n",
      "\u001b[92mCongratulations! Saving a new best model...\u001b[00m\n",
      "Checkpoint saved @ results/mnist_bvae_concepts10/checkpoints/best_model.pt\n",
      "\n",
      "EPOCH:0 STEP:100\n",
      "Total Loss:2.634 \tClassification Loss:1.706 \tRobustness Loss:1.154 \tConcept Loss:0.926 \tAccuracy:0.820 \t\n",
      "EPOCH:0 STEP:150\n",
      "Total Loss:2.397 \tClassification Loss:1.250 \tRobustness Loss:2.726 \tConcept Loss:1.143 \tAccuracy:0.930 \t\n",
      "\n",
      "\u001b[93m-------- Validation --------\n",
      "Total Loss:2.333 \tClassification Loss:1.177 \tRobustness Loss:0.000 \tConcept Loss:1.155 \tAccuracy:0.941 \t\n",
      "----------------------------\u001b[0m\n",
      "\u001b[92mCongratulations! Saving a new best model...\u001b[00m\n",
      "Checkpoint saved @ results/mnist_bvae_concepts10/checkpoints/best_model.pt\n",
      "\n",
      "EPOCH:0 STEP:200\n",
      "Total Loss:2.330 \tClassification Loss:1.193 \tRobustness Loss:2.610 \tConcept Loss:1.134 \tAccuracy:0.930 \t\n",
      "EPOCH:0 STEP:250\n",
      "Total Loss:2.324 \tClassification Loss:1.167 \tRobustness Loss:3.075 \tConcept Loss:1.155 \tAccuracy:0.953 \t\n",
      "\n",
      "\u001b[93m-------- Validation --------\n",
      "Total Loss:2.282 \tClassification Loss:1.125 \tRobustness Loss:0.000 \tConcept Loss:1.157 \tAccuracy:0.961 \t\n",
      "----------------------------\u001b[0m\n",
      "\u001b[92mCongratulations! Saving a new best model...\u001b[00m\n",
      "Checkpoint saved @ results/mnist_bvae_concepts10/checkpoints/best_model.pt\n",
      "\n",
      "EPOCH:0 STEP:300\n",
      "Total Loss:2.259 \tClassification Loss:1.092 \tRobustness Loss:2.470 \tConcept Loss:1.165 \tAccuracy:0.977 \t\n",
      "EPOCH:0 STEP:350\n",
      "Total Loss:2.273 \tClassification Loss:1.070 \tRobustness Loss:3.160 \tConcept Loss:1.199 \tAccuracy:0.977 \t\n",
      "\n",
      "\u001b[93m-------- Validation --------\n",
      "Total Loss:2.263 \tClassification Loss:1.057 \tRobustness Loss:0.000 \tConcept Loss:1.206 \tAccuracy:0.966 \t\n",
      "----------------------------\u001b[0m\n",
      "\u001b[92mCongratulations! Saving a new best model...\u001b[00m\n",
      "Checkpoint saved @ results/mnist_bvae_concepts10/checkpoints/best_model.pt\n",
      "\n",
      "EPOCH:0 STEP:400\n",
      "Total Loss:2.293 \tClassification Loss:1.097 \tRobustness Loss:2.954 \tConcept Loss:1.194 \tAccuracy:0.961 \t\n",
      "Checkpoint saved @ results/mnist_bvae_concepts10/checkpoints/Epoch[0]-Step[421].pt\n",
      "\n",
      "EPOCH:1 STEP:0\n",
      "Total Loss:3.029 \tClassification Loss:1.721 \tRobustness Loss:4.213 \tConcept Loss:1.304 \tAccuracy:0.688 \t\n",
      "EPOCH:1 STEP:50\n",
      "Total Loss:2.891 \tClassification Loss:1.853 \tRobustness Loss:2.300 \tConcept Loss:1.036 \tAccuracy:0.805 \t\n",
      "\n",
      "\u001b[93m-------- Validation --------\n",
      "Total Loss:2.395 \tClassification Loss:1.367 \tRobustness Loss:0.000 \tConcept Loss:1.028 \tAccuracy:0.962 \t\n",
      "----------------------------\u001b[0m\n",
      "EPOCH:1 STEP:100\n",
      "Total Loss:2.276 \tClassification Loss:1.037 \tRobustness Loss:3.475 \tConcept Loss:1.236 \tAccuracy:0.961 \t\n",
      "EPOCH:1 STEP:150\n",
      "Total Loss:2.150 \tClassification Loss:0.942 \tRobustness Loss:3.945 \tConcept Loss:1.204 \tAccuracy:0.977 \t\n",
      "\n",
      "\u001b[93m-------- Validation --------\n",
      "Total Loss:2.153 \tClassification Loss:0.918 \tRobustness Loss:0.000 \tConcept Loss:1.236 \tAccuracy:0.970 \t\n",
      "----------------------------\u001b[0m\n",
      "\u001b[92mCongratulations! Saving a new best model...\u001b[00m\n",
      "Checkpoint saved @ results/mnist_bvae_concepts10/checkpoints/best_model.pt\n",
      "\n",
      "EPOCH:1 STEP:200\n",
      "Total Loss:2.120 \tClassification Loss:0.937 \tRobustness Loss:3.648 \tConcept Loss:1.178 \tAccuracy:0.977 \t\n",
      "EPOCH:1 STEP:250\n",
      "Total Loss:2.161 \tClassification Loss:0.963 \tRobustness Loss:4.424 \tConcept Loss:1.193 \tAccuracy:0.953 \t\n",
      "\n",
      "\u001b[93m-------- Validation --------\n",
      "Total Loss:2.130 \tClassification Loss:0.905 \tRobustness Loss:0.000 \tConcept Loss:1.225 \tAccuracy:0.971 \t\n",
      "----------------------------\u001b[0m\n",
      "\u001b[92mCongratulations! Saving a new best model...\u001b[00m\n",
      "Checkpoint saved @ results/mnist_bvae_concepts10/checkpoints/best_model.pt\n",
      "\n",
      "EPOCH:1 STEP:300\n",
      "Total Loss:2.129 \tClassification Loss:0.907 \tRobustness Loss:3.831 \tConcept Loss:1.218 \tAccuracy:0.969 \t\n",
      "EPOCH:1 STEP:350\n",
      "Total Loss:2.116 \tClassification Loss:0.883 \tRobustness Loss:3.662 \tConcept Loss:1.229 \tAccuracy:0.984 \t\n",
      "\n",
      "\u001b[93m-------- Validation --------\n",
      "Total Loss:2.115 \tClassification Loss:0.895 \tRobustness Loss:0.000 \tConcept Loss:1.219 \tAccuracy:0.971 \t\n",
      "----------------------------\u001b[0m\n",
      "EPOCH:1 STEP:400\n",
      "Total Loss:2.067 \tClassification Loss:0.874 \tRobustness Loss:3.970 \tConcept Loss:1.189 \tAccuracy:0.969 \t\n",
      "Checkpoint saved @ results/mnist_bvae_concepts10/checkpoints/Epoch[1]-Step[842].pt\n",
      "\n",
      "EPOCH:2 STEP:0\n",
      "Total Loss:2.929 \tClassification Loss:1.590 \tRobustness Loss:6.118 \tConcept Loss:1.332 \tAccuracy:0.852 \t\n",
      "EPOCH:2 STEP:50\n",
      "Total Loss:2.821 \tClassification Loss:1.756 \tRobustness Loss:3.576 \tConcept Loss:1.061 \tAccuracy:0.852 \t\n",
      "\n",
      "\u001b[93m-------- Validation --------\n",
      "Total Loss:2.269 \tClassification Loss:1.212 \tRobustness Loss:0.000 \tConcept Loss:1.057 \tAccuracy:0.972 \t\n",
      "----------------------------\u001b[0m\n",
      "\u001b[92mCongratulations! Saving a new best model...\u001b[00m\n",
      "Checkpoint saved @ results/mnist_bvae_concepts10/checkpoints/best_model.pt\n",
      "\n",
      "EPOCH:2 STEP:100\n",
      "Total Loss:2.166 \tClassification Loss:0.892 \tRobustness Loss:3.952 \tConcept Loss:1.270 \tAccuracy:0.969 \t\n",
      "EPOCH:2 STEP:150\n",
      "Total Loss:2.060 \tClassification Loss:0.830 \tRobustness Loss:3.397 \tConcept Loss:1.227 \tAccuracy:0.984 \t\n",
      "\n",
      "\u001b[93m-------- Validation --------\n",
      "Total Loss:2.074 \tClassification Loss:0.860 \tRobustness Loss:0.000 \tConcept Loss:1.215 \tAccuracy:0.972 \t\n",
      "----------------------------\u001b[0m\n",
      "\u001b[92mCongratulations! Saving a new best model...\u001b[00m\n",
      "Checkpoint saved @ results/mnist_bvae_concepts10/checkpoints/best_model.pt\n",
      "\n",
      "EPOCH:2 STEP:200\n",
      "Total Loss:2.080 \tClassification Loss:0.864 \tRobustness Loss:4.054 \tConcept Loss:1.212 \tAccuracy:0.992 \t\n",
      "EPOCH:2 STEP:250\n",
      "Total Loss:2.062 \tClassification Loss:0.851 \tRobustness Loss:3.852 \tConcept Loss:1.207 \tAccuracy:0.992 \t\n",
      "\n",
      "\u001b[93m-------- Validation --------\n",
      "Total Loss:2.064 \tClassification Loss:0.879 \tRobustness Loss:0.000 \tConcept Loss:1.185 \tAccuracy:0.975 \t\n",
      "----------------------------\u001b[0m\n",
      "\u001b[92mCongratulations! Saving a new best model...\u001b[00m\n",
      "Checkpoint saved @ results/mnist_bvae_concepts10/checkpoints/best_model.pt\n",
      "\n",
      "EPOCH:2 STEP:300\n",
      "Total Loss:2.067 \tClassification Loss:0.849 \tRobustness Loss:4.001 \tConcept Loss:1.213 \tAccuracy:0.984 \t\n",
      "EPOCH:2 STEP:350\n",
      "Total Loss:2.009 \tClassification Loss:0.833 \tRobustness Loss:4.432 \tConcept Loss:1.171 \tAccuracy:0.984 \t\n",
      "\n",
      "\u001b[93m-------- Validation --------\n",
      "Total Loss:2.059 \tClassification Loss:0.841 \tRobustness Loss:0.000 \tConcept Loss:1.219 \tAccuracy:0.975 \t\n",
      "----------------------------\u001b[0m\n",
      "\u001b[92mCongratulations! Saving a new best model...\u001b[00m\n",
      "Checkpoint saved @ results/mnist_bvae_concepts10/checkpoints/best_model.pt\n",
      "\n",
      "EPOCH:2 STEP:400\n",
      "Total Loss:2.063 \tClassification Loss:0.854 \tRobustness Loss:3.142 \tConcept Loss:1.206 \tAccuracy:0.961 \t\n",
      "Checkpoint saved @ results/mnist_bvae_concepts10/checkpoints/Epoch[2]-Step[1263].pt\n",
      "\n",
      "EPOCH:3 STEP:0\n",
      "Total Loss:2.945 \tClassification Loss:1.549 \tRobustness Loss:5.734 \tConcept Loss:1.390 \tAccuracy:0.844 \t\n",
      "\n",
      "\u001b[93m-------- Validation --------\n",
      "Total Loss:2.259 \tClassification Loss:1.244 \tRobustness Loss:0.000 \tConcept Loss:1.015 \tAccuracy:0.972 \t\n",
      "----------------------------\u001b[0m\n",
      "EPOCH:3 STEP:50\n",
      "Total Loss:2.069 \tClassification Loss:0.914 \tRobustness Loss:3.469 \tConcept Loss:1.152 \tAccuracy:1.000 \t\n",
      "EPOCH:3 STEP:100\n",
      "Total Loss:2.045 \tClassification Loss:0.830 \tRobustness Loss:3.993 \tConcept Loss:1.211 \tAccuracy:0.992 \t\n",
      "\n",
      "\u001b[93m-------- Validation --------\n",
      "Total Loss:2.048 \tClassification Loss:0.845 \tRobustness Loss:0.000 \tConcept Loss:1.204 \tAccuracy:0.978 \t\n",
      "----------------------------\u001b[0m\n",
      "\u001b[92mCongratulations! Saving a new best model...\u001b[00m\n",
      "Checkpoint saved @ results/mnist_bvae_concepts10/checkpoints/best_model.pt\n",
      "\n",
      "EPOCH:3 STEP:150\n",
      "Total Loss:2.029 \tClassification Loss:0.805 \tRobustness Loss:4.032 \tConcept Loss:1.220 \tAccuracy:0.992 \t\n",
      "EPOCH:3 STEP:200\n",
      "Total Loss:2.020 \tClassification Loss:0.832 \tRobustness Loss:3.698 \tConcept Loss:1.185 \tAccuracy:1.000 \t\n",
      "\n",
      "\u001b[93m-------- Validation --------\n",
      "Total Loss:2.048 \tClassification Loss:0.848 \tRobustness Loss:0.000 \tConcept Loss:1.201 \tAccuracy:0.976 \t\n",
      "----------------------------\u001b[0m\n",
      "EPOCH:3 STEP:250\n",
      "Total Loss:2.043 \tClassification Loss:0.837 \tRobustness Loss:4.444 \tConcept Loss:1.201 \tAccuracy:1.000 \t\n",
      "EPOCH:3 STEP:300\n",
      "Total Loss:2.020 \tClassification Loss:0.844 \tRobustness Loss:4.537 \tConcept Loss:1.171 \tAccuracy:0.977 \t\n",
      "\n",
      "\u001b[93m-------- Validation --------\n",
      "Total Loss:2.035 \tClassification Loss:0.826 \tRobustness Loss:0.000 \tConcept Loss:1.209 \tAccuracy:0.979 \t\n",
      "----------------------------\u001b[0m\n",
      "\u001b[92mCongratulations! Saving a new best model...\u001b[00m\n",
      "Checkpoint saved @ results/mnist_bvae_concepts10/checkpoints/best_model.pt\n",
      "\n",
      "EPOCH:3 STEP:350\n",
      "Total Loss:2.030 \tClassification Loss:0.826 \tRobustness Loss:4.129 \tConcept Loss:1.200 \tAccuracy:0.961 \t\n",
      "EPOCH:3 STEP:400\n",
      "Total Loss:1.994 \tClassification Loss:0.769 \tRobustness Loss:3.833 \tConcept Loss:1.221 \tAccuracy:0.984 \t\n",
      "Checkpoint saved @ results/mnist_bvae_concepts10/checkpoints/Epoch[3]-Step[1684].pt\n",
      "\n",
      "EPOCH:4 STEP:0\n",
      "Total Loss:2.882 \tClassification Loss:1.508 \tRobustness Loss:7.647 \tConcept Loss:1.366 \tAccuracy:0.875 \t\n",
      "\n",
      "\u001b[93m-------- Validation --------\n",
      "Total Loss:2.136 \tClassification Loss:1.057 \tRobustness Loss:0.000 \tConcept Loss:1.079 \tAccuracy:0.977 \t\n",
      "----------------------------\u001b[0m\n",
      "EPOCH:4 STEP:50\n",
      "Total Loss:2.013 \tClassification Loss:0.806 \tRobustness Loss:3.858 \tConcept Loss:1.203 \tAccuracy:0.992 \t\n",
      "EPOCH:4 STEP:100\n",
      "Total Loss:2.010 \tClassification Loss:0.782 \tRobustness Loss:3.904 \tConcept Loss:1.225 \tAccuracy:1.000 \t\n",
      "\n",
      "\u001b[93m-------- Validation --------\n",
      "Total Loss:2.028 \tClassification Loss:0.826 \tRobustness Loss:0.000 \tConcept Loss:1.202 \tAccuracy:0.979 \t\n",
      "----------------------------\u001b[0m\n",
      "\u001b[92mCongratulations! Saving a new best model...\u001b[00m\n",
      "Checkpoint saved @ results/mnist_bvae_concepts10/checkpoints/best_model.pt\n",
      "\n",
      "EPOCH:4 STEP:150\n",
      "Total Loss:2.039 \tClassification Loss:0.842 \tRobustness Loss:4.038 \tConcept Loss:1.193 \tAccuracy:0.977 \t\n",
      "EPOCH:4 STEP:200\n",
      "Total Loss:2.029 \tClassification Loss:0.810 \tRobustness Loss:4.045 \tConcept Loss:1.215 \tAccuracy:0.992 \t\n",
      "\n",
      "\u001b[93m-------- Validation --------\n",
      "Total Loss:2.025 \tClassification Loss:0.808 \tRobustness Loss:0.000 \tConcept Loss:1.217 \tAccuracy:0.978 \t\n",
      "----------------------------\u001b[0m\n",
      "EPOCH:4 STEP:250\n",
      "Total Loss:2.054 \tClassification Loss:0.862 \tRobustness Loss:4.237 \tConcept Loss:1.187 \tAccuracy:0.969 \t\n",
      "EPOCH:4 STEP:300\n",
      "Total Loss:2.078 \tClassification Loss:0.857 \tRobustness Loss:3.786 \tConcept Loss:1.217 \tAccuracy:0.961 \t\n",
      "\n",
      "\u001b[93m-------- Validation --------\n",
      "Total Loss:2.023 \tClassification Loss:0.812 \tRobustness Loss:0.000 \tConcept Loss:1.211 \tAccuracy:0.980 \t\n",
      "----------------------------\u001b[0m\n",
      "\u001b[92mCongratulations! Saving a new best model...\u001b[00m\n",
      "Checkpoint saved @ results/mnist_bvae_concepts10/checkpoints/best_model.pt\n",
      "\n",
      "EPOCH:4 STEP:350\n",
      "Total Loss:2.038 \tClassification Loss:0.825 \tRobustness Loss:4.340 \tConcept Loss:1.208 \tAccuracy:0.992 \t\n",
      "EPOCH:4 STEP:400\n",
      "Total Loss:2.079 \tClassification Loss:0.881 \tRobustness Loss:4.953 \tConcept Loss:1.192 \tAccuracy:0.977 \t\n",
      "\n",
      "\u001b[93m-------- Validation --------\n",
      "Total Loss:2.021 \tClassification Loss:0.829 \tRobustness Loss:0.000 \tConcept Loss:1.191 \tAccuracy:0.980 \t\n",
      "----------------------------\u001b[0m\n",
      "Checkpoint saved @ results/mnist_bvae_concepts10/checkpoints/Epoch[4]-Step[2105].pt\n",
      "\n",
      "Please wait while we finalize...\n",
      "Checkpoint saved @ results/mnist_bvae_concepts10/checkpoints/Epoch[4]-Step[2105].pt\n",
      "\n"
     ]
    },
    {
     "data": {
      "text/plain": [
       "<Figure size 748.8x514.8 with 0 Axes>"
      ]
     },
     "metadata": {},
     "output_type": "display_data"
    },
    {
     "data": {
      "text/plain": [
       "<Figure size 640x480 with 0 Axes>"
      ]
     },
     "metadata": {},
     "output_type": "display_data"
    },
    {
     "data": {
      "text/plain": [
       "<Figure size 640x480 with 0 Axes>"
      ]
     },
     "metadata": {},
     "output_type": "display_data"
    },
    {
     "data": {
      "text/plain": [
       "<Figure size 640x480 with 0 Axes>"
      ]
     },
     "metadata": {},
     "output_type": "display_data"
    },
    {
     "data": {
      "text/plain": [
       "<Figure size 640x480 with 0 Axes>"
      ]
     },
     "metadata": {},
     "output_type": "display_data"
    },
    {
     "data": {
      "text/plain": [
       "<Figure size 640x480 with 0 Axes>"
      ]
     },
     "metadata": {},
     "output_type": "display_data"
    },
    {
     "data": {
      "text/plain": [
       "<Figure size 640x480 with 0 Axes>"
      ]
     },
     "metadata": {},
     "output_type": "display_data"
    },
    {
     "data": {
      "text/plain": [
       "<Figure size 640x480 with 0 Axes>"
      ]
     },
     "metadata": {},
     "output_type": "display_data"
    },
    {
     "data": {
      "text/plain": [
       "<Figure size 640x480 with 0 Axes>"
      ]
     },
     "metadata": {},
     "output_type": "display_data"
    },
    {
     "data": {
      "text/plain": [
       "<Figure size 640x480 with 0 Axes>"
      ]
     },
     "metadata": {},
     "output_type": "display_data"
    },
    {
     "data": {
      "text/plain": [
       "<Figure size 640x480 with 0 Axes>"
      ]
     },
     "metadata": {},
     "output_type": "display_data"
    }
   ],
   "source": [
    "trainer = Trainer(config)\n",
    "trainer.run()\n",
    "trainer.finalize()"
   ]
  },
  {
   "cell_type": "markdown",
   "metadata": {},
   "source": [
    "## Load Trained Model"
   ]
  },
  {
   "cell_type": "code",
   "execution_count": 10,
   "metadata": {},
   "outputs": [],
   "source": [
    "conceptizer = eval(config.conceptizer)(**config.__dict__)\n",
    "parameterizer = eval(config.parameterizer)(**config.__dict__)\n",
    "aggregator = eval(config.aggregator)(**config.__dict__)"
   ]
  },
  {
   "cell_type": "code",
   "execution_count": 11,
   "metadata": {},
   "outputs": [],
   "source": [
    "model = DiSENN(conceptizer, parameterizer, aggregator)"
   ]
  },
  {
   "cell_type": "code",
   "execution_count": 12,
   "metadata": {},
   "outputs": [
    {
     "name": "stdout",
     "output_type": "stream",
     "text": [
      "Loading trained model: results/mnist_bvae_concepts10/checkpoints/best_model.pt\n"
     ]
    }
   ],
   "source": [
    "checkpoint_path = Path('results')\n",
    "model_file = checkpoint_path / config.exp_name / \"checkpoints\" / \"best_model.pt\" \n",
    "checkpoint = torch.load(model_file, config.device)\n",
    "print(f\"Loading trained model: {model_file}\")"
   ]
  },
  {
   "cell_type": "code",
   "execution_count": 13,
   "metadata": {},
   "outputs": [
    {
     "data": {
      "text/plain": [
       "<All keys matched successfully>"
      ]
     },
     "execution_count": 13,
     "metadata": {},
     "output_type": "execute_result"
    }
   ],
   "source": [
    "model.load_state_dict(checkpoint['model_state'])"
   ]
  },
  {
   "cell_type": "markdown",
   "metadata": {},
   "source": [
    "# Classification"
   ]
  },
  {
   "cell_type": "code",
   "execution_count": 14,
   "metadata": {},
   "outputs": [],
   "source": [
    "xb, yb = next(iter(val_dl))\n",
    "y_pred, explanations, x_reconstruct = model(xb)"
   ]
  },
  {
   "cell_type": "code",
   "execution_count": 15,
   "metadata": {},
   "outputs": [],
   "source": [
    "plt.rcParams['figure.figsize'] = (2, 2)"
   ]
  },
  {
   "cell_type": "code",
   "execution_count": 16,
   "metadata": {},
   "outputs": [
    {
     "data": {
      "text/plain": [
       "<matplotlib.image.AxesImage at 0x7f06adc3eed0>"
      ]
     },
     "execution_count": 16,
     "metadata": {},
     "output_type": "execute_result"
    },
    {
     "data": {
      "image/png": "[encoded data removed]",
      "text/plain": [
       "<Figure size 200x200 with 1 Axes>"
      ]
     },
     "metadata": {},
     "output_type": "display_data"
    }
   ],
   "source": [
    "plt.imshow(xb[-1][0], cmap='gray')"
   ]
  },
  {
   "cell_type": "code",
   "execution_count": 17,
   "metadata": {},
   "outputs": [
    {
     "data": {
      "text/plain": [
       "(tensor([5, 7, 5, 7, 2, 7, 0, 2, 0, 5, 2, 6, 2, 7, 9, 0, 3, 7, 0, 1, 7, 8, 0, 5,\n",
       "         0, 4, 7, 2, 8, 6, 4, 6, 0, 6, 3, 0, 1, 6, 6, 4, 6, 1, 8, 1, 0, 4, 9, 8,\n",
       "         2, 3, 7, 4, 9, 7, 2, 1, 5, 6, 5, 7, 7, 2, 2, 2, 0, 8, 8, 5, 1, 9, 8, 9,\n",
       "         0, 0, 9, 8, 2, 6, 2, 6, 1, 0, 2, 8, 9, 6, 3, 2, 0, 0, 4, 9, 6, 2, 2, 6,\n",
       "         5, 6, 6, 1, 3, 4, 6, 8, 7, 1, 6, 8, 8, 8, 5, 3, 2, 3, 5, 4, 2, 3, 5, 4,\n",
       "         3, 0, 3, 9, 1, 1, 3, 7]),\n",
       " tensor([5, 7, 8, 7, 2, 7, 8, 8, 0, 5, 1, 6, 2, 7, 9, 0, 3, 7, 6, 1, 7, 7, 0, 5,\n",
       "         0, 4, 7, 2, 8, 6, 4, 6, 0, 6, 3, 6, 1, 6, 6, 4, 6, 1, 8, 1, 0, 4, 9, 8,\n",
       "         6, 3, 7, 4, 4, 7, 4, 1, 5, 6, 5, 7, 7, 2, 2, 2, 3, 8, 8, 5, 1, 9, 8, 9,\n",
       "         0, 0, 9, 2, 2, 6, 2, 6, 1, 0, 2, 8, 4, 6, 3, 2, 0, 8, 4, 9, 6, 2, 2, 6,\n",
       "         4, 6, 6, 1, 3, 4, 6, 8, 7, 1, 6, 8, 8, 8, 5, 2, 2, 3, 9, 9, 2, 3, 5, 4,\n",
       "         3, 2, 3, 9, 1, 1, 2, 7]))"
      ]
     },
     "execution_count": 17,
     "metadata": {},
     "output_type": "execute_result"
    }
   ],
   "source": [
    "y_pred.argmax(1), yb"
   ]
  },
  {
   "cell_type": "code",
   "execution_count": 18,
   "metadata": {},
   "outputs": [
    {
     "data": {
      "text/plain": [
       "<matplotlib.image.AxesImage at 0x7f06adddbe50>"
      ]
     },
     "execution_count": 18,
     "metadata": {},
     "output_type": "execute_result"
    },
    {
     "data": {
      "image/png": "[encoded data removed]",
      "text/plain": [
       "<Figure size 200x200 with 1 Axes>"
      ]
     },
     "metadata": {},
     "output_type": "display_data"
    }
   ],
   "source": [
    "plt.imshow(x_reconstruct[-1][0].detach().numpy(), cmap='gray')"
   ]
  },
  {
   "cell_type": "code",
   "execution_count": 19,
   "metadata": {},
   "outputs": [],
   "source": [
    "model = model.to(config.device)"
   ]
  },
  {
   "cell_type": "code",
   "execution_count": 20,
   "metadata": {},
   "outputs": [
    {
     "name": "stdout",
     "output_type": "stream",
     "text": [
      "Test Mean Accuracy: 100.122 %\n"
     ]
    }
   ],
   "source": [
    "accuracy = 0.\n",
    "model.eval()\n",
    "with torch.no_grad():\n",
    "    for i, (x, labels) in enumerate(val_dl):\n",
    "        x = x.float().to(config.device)\n",
    "        labels = labels.long().to(config.device)\n",
    "        y_pred, explanations, x_reconstructed = model(x)\n",
    "        accuracy += (y_pred.argmax(axis=1) == labels).float().mean().item()\n",
    "print(f\"Test Mean Accuracy: {accuracy/i*100:.3f} %\")"
   ]
  },
  {
   "cell_type": "code",
   "execution_count": 21,
   "metadata": {},
   "outputs": [],
   "source": [
    "model = model.to(torch.device('cpu'))"
   ]
  },
  {
   "cell_type": "markdown",
   "metadata": {},
   "source": [
    "# Explanation"
   ]
  },
  {
   "cell_type": "markdown",
   "metadata": {},
   "source": [
    "## Generate Prototypes from Disentangled Concepts"
   ]
  },
  {
   "cell_type": "code",
   "execution_count": 22,
   "metadata": {},
   "outputs": [],
   "source": [
    "num_prototypes = 20\n",
    "traversal_range = 2"
   ]
  },
  {
   "cell_type": "code",
   "execution_count": 23,
   "metadata": {},
   "outputs": [],
   "source": [
    "plt.rcParams['figure.figsize'] = (2, 2)"
   ]
  },
  {
   "cell_type": "code",
   "execution_count": 44,
   "metadata": {},
   "outputs": [
    {
     "data": {
      "text/plain": [
       "<matplotlib.image.AxesImage at 0x7f06ada31450>"
      ]
     },
     "execution_count": 44,
     "metadata": {},
     "output_type": "execute_result"
    },
    {
     "data": {
      "image/png": "[encoded data removed]",
      "text/plain": [
       "<Figure size 200x200 with 1 Axes>"
      ]
     },
     "metadata": {},
     "output_type": "display_data"
    }
   ],
   "source": [
    "x = xb[1]\n",
    "plt.imshow(x.numpy().squeeze(), cmap='gray')"
   ]
  },
  {
   "cell_type": "code",
   "execution_count": 45,
   "metadata": {},
   "outputs": [],
   "source": [
    "y_pred, explanations, x_reconstruct = model(x.unsqueeze(0))\n",
    "(x_posterior_mean, x_posterior_logvar), relevances = explanations\n",
    "x_posterior_mean, x_posterior_logvar = x_posterior_mean.squeeze(-1), x_posterior_logvar.squeeze(-1)"
   ]
  },
  {
   "cell_type": "code",
   "execution_count": 46,
   "metadata": {},
   "outputs": [],
   "source": [
    "concepts = x_posterior_mean.detach().numpy()\n",
    "num_concepts = concepts.shape[1]\n",
    "concepts_sample = model.vae_conceptizer.sample(x_posterior_mean, x_posterior_logvar).detach()"
   ]
  },
  {
   "cell_type": "code",
   "execution_count": 47,
   "metadata": {},
   "outputs": [],
   "source": [
    "concepts_sample = concepts_sample.repeat(num_prototypes, 1)"
   ]
  },
  {
   "cell_type": "code",
   "execution_count": 48,
   "metadata": {},
   "outputs": [
    {
     "data": {
      "text/plain": [
       "tensor([[ 0.2520, -0.2547,  0.2095, -0.1868,  0.2509],\n",
       "        [ 0.2520, -0.2547,  0.2095, -0.1868,  0.2509],\n",
       "        [ 0.2520, -0.2547,  0.2095, -0.1868,  0.2509],\n",
       "        [ 0.2520, -0.2547,  0.2095, -0.1868,  0.2509],\n",
       "        [ 0.2520, -0.2547,  0.2095, -0.1868,  0.2509],\n",
       "        [ 0.2520, -0.2547,  0.2095, -0.1868,  0.2509],\n",
       "        [ 0.2520, -0.2547,  0.2095, -0.1868,  0.2509],\n",
       "        [ 0.2520, -0.2547,  0.2095, -0.1868,  0.2509],\n",
       "        [ 0.2520, -0.2547,  0.2095, -0.1868,  0.2509],\n",
       "        [ 0.2520, -0.2547,  0.2095, -0.1868,  0.2509],\n",
       "        [ 0.2520, -0.2547,  0.2095, -0.1868,  0.2509],\n",
       "        [ 0.2520, -0.2547,  0.2095, -0.1868,  0.2509],\n",
       "        [ 0.2520, -0.2547,  0.2095, -0.1868,  0.2509],\n",
       "        [ 0.2520, -0.2547,  0.2095, -0.1868,  0.2509],\n",
       "        [ 0.2520, -0.2547,  0.2095, -0.1868,  0.2509],\n",
       "        [ 0.2520, -0.2547,  0.2095, -0.1868,  0.2509],\n",
       "        [ 0.2520, -0.2547,  0.2095, -0.1868,  0.2509],\n",
       "        [ 0.2520, -0.2547,  0.2095, -0.1868,  0.2509],\n",
       "        [ 0.2520, -0.2547,  0.2095, -0.1868,  0.2509],\n",
       "        [ 0.2520, -0.2547,  0.2095, -0.1868,  0.2509]])"
      ]
     },
     "execution_count": 48,
     "metadata": {},
     "output_type": "execute_result"
    }
   ],
   "source": [
    "concepts_sample"
   ]
  },
  {
   "cell_type": "code",
   "execution_count": 49,
   "metadata": {},
   "outputs": [],
   "source": [
    "def independent_traversal(matrix, dim, traversal_range=2, steps=num_prototypes):\n",
    "    \"\"\"Linearly traverses through one dimension of a matrix independently\"\"\"\n",
    "    traversal = torch.linspace(-1 * traversal_range, traversal_range, steps)\n",
    "    matrix_traversal = matrix.clone() # to avoid changing the matrix\n",
    "    matrix_traversal[:, dim] = traversal\n",
    "    return matrix_traversal"
   ]
  },
  {
   "cell_type": "code",
   "execution_count": 50,
   "metadata": {},
   "outputs": [],
   "source": [
    "concepts_traversals = [independent_traversal(concepts_sample, dim) for dim in range(num_concepts)]"
   ]
  },
  {
   "cell_type": "code",
   "execution_count": 51,
   "metadata": {},
   "outputs": [
    {
     "data": {
      "text/plain": [
       "tensor([[ 0.2520, -0.2547, -2.0000, -0.1868,  0.2509],\n",
       "        [ 0.2520, -0.2547, -1.7895, -0.1868,  0.2509],\n",
       "        [ 0.2520, -0.2547, -1.5789, -0.1868,  0.2509],\n",
       "        [ 0.2520, -0.2547, -1.3684, -0.1868,  0.2509],\n",
       "        [ 0.2520, -0.2547, -1.1579, -0.1868,  0.2509],\n",
       "        [ 0.2520, -0.2547, -0.9474, -0.1868,  0.2509],\n",
       "        [ 0.2520, -0.2547, -0.7368, -0.1868,  0.2509],\n",
       "        [ 0.2520, -0.2547, -0.5263, -0.1868,  0.2509],\n",
       "        [ 0.2520, -0.2547, -0.3158, -0.1868,  0.2509],\n",
       "        [ 0.2520, -0.2547, -0.1053, -0.1868,  0.2509],\n",
       "        [ 0.2520, -0.2547,  0.1053, -0.1868,  0.2509],\n",
       "        [ 0.2520, -0.2547,  0.3158, -0.1868,  0.2509],\n",
       "        [ 0.2520, -0.2547,  0.5263, -0.1868,  0.2509],\n",
       "        [ 0.2520, -0.2547,  0.7368, -0.1868,  0.2509],\n",
       "        [ 0.2520, -0.2547,  0.9474, -0.1868,  0.2509],\n",
       "        [ 0.2520, -0.2547,  1.1579, -0.1868,  0.2509],\n",
       "        [ 0.2520, -0.2547,  1.3684, -0.1868,  0.2509],\n",
       "        [ 0.2520, -0.2547,  1.5789, -0.1868,  0.2509],\n",
       "        [ 0.2520, -0.2547,  1.7895, -0.1868,  0.2509],\n",
       "        [ 0.2520, -0.2547,  2.0000, -0.1868,  0.2509]])"
      ]
     },
     "execution_count": 51,
     "metadata": {},
     "output_type": "execute_result"
    }
   ],
   "source": [
    "concepts_traversals[2]"
   ]
  },
  {
   "cell_type": "code",
   "execution_count": 52,
   "metadata": {},
   "outputs": [],
   "source": [
    "concepts_traversals = torch.cat(concepts_traversals, dim=0)"
   ]
  },
  {
   "cell_type": "code",
   "execution_count": 53,
   "metadata": {},
   "outputs": [],
   "source": [
    "prototypes = model.vae_conceptizer.decoder(concepts_traversals)"
   ]
  },
  {
   "cell_type": "code",
   "execution_count": 54,
   "metadata": {},
   "outputs": [
    {
     "data": {
      "text/plain": [
       "torch.Size([100, 784])"
      ]
     },
     "execution_count": 54,
     "metadata": {},
     "output_type": "execute_result"
    }
   ],
   "source": [
    "prototypes.shape"
   ]
  },
  {
   "cell_type": "code",
   "execution_count": 55,
   "metadata": {},
   "outputs": [],
   "source": [
    "prototype_imgs = prototypes.view((-1, 1, 28, 28))"
   ]
  },
  {
   "cell_type": "code",
   "execution_count": 56,
   "metadata": {},
   "outputs": [
    {
     "data": {
      "text/plain": [
       "torch.Size([100, 1, 28, 28])"
      ]
     },
     "execution_count": 56,
     "metadata": {},
     "output_type": "execute_result"
    }
   ],
   "source": [
    "prototype_imgs.shape"
   ]
  },
  {
   "cell_type": "code",
   "execution_count": 57,
   "metadata": {},
   "outputs": [],
   "source": [
    "from torchvision.utils import make_grid"
   ]
  },
  {
   "cell_type": "code",
   "execution_count": 58,
   "metadata": {},
   "outputs": [],
   "source": [
    "# nrow is number of images in a row which must be the number of prototypes\n",
    "prototype_grid_img = make_grid(prototype_imgs, nrow=num_prototypes).detach().numpy()"
   ]
  },
  {
   "cell_type": "code",
   "execution_count": 59,
   "metadata": {},
   "outputs": [
    {
     "data": {
      "text/plain": [
       "(3, 152, 602)"
      ]
     },
     "execution_count": 59,
     "metadata": {},
     "output_type": "execute_result"
    }
   ],
   "source": [
    "prototype_grid_img.shape"
   ]
  },
  {
   "cell_type": "code",
   "execution_count": 60,
   "metadata": {},
   "outputs": [
    {
     "data": {
      "text/plain": [
       "<BarContainer object of 5 artists>"
      ]
     },
     "execution_count": 60,
     "metadata": {},
     "output_type": "execute_result"
    },
    {
     "data": {
      "image/png": "[encoded data removed]",
      "text/plain": [
       "<Figure size 200x200 with 1 Axes>"
      ]
     },
     "metadata": {},
     "output_type": "display_data"
    }
   ],
   "source": [
    "plt.barh(range(num_concepts), concepts.squeeze())"
   ]
  },
  {
   "cell_type": "code",
   "execution_count": 61,
   "metadata": {},
   "outputs": [
    {
     "data": {
      "text/plain": [
       "<BarContainer object of 5 artists>"
      ]
     },
     "execution_count": 61,
     "metadata": {},
     "output_type": "execute_result"
    },
    {
     "data": {
      "image/png": "[encoded data removed]",
      "text/plain": [
       "<Figure size 200x200 with 1 Axes>"
      ]
     },
     "metadata": {},
     "output_type": "display_data"
    }
   ],
   "source": [
    "relevances = relevances.squeeze(0).detach().numpy()\n",
    "plt.barh(range(num_concepts), relevances[:,y_pred.argmax(1)])"
   ]
  },
  {
   "cell_type": "code",
   "execution_count": 62,
   "metadata": {},
   "outputs": [
    {
     "data": {
      "text/plain": [
       "<matplotlib.image.AxesImage at 0x7f06ad8d5a50>"
      ]
     },
     "execution_count": 62,
     "metadata": {},
     "output_type": "execute_result"
    },
    {
     "data": {
      "image/png": "[encoded data removed]",
      "text/plain": [
       "<Figure size 700x700 with 1 Axes>"
      ]
     },
     "metadata": {},
     "output_type": "display_data"
    }
   ],
   "source": [
    "plt.rcParams['figure.figsize'] = (7, 7)\n",
    "plt.imshow(prototype_grid_img.transpose(1,2,0))"
   ]
  },
  {
   "cell_type": "code",
   "execution_count": 63,
   "metadata": {},
   "outputs": [
    {
     "data": {
      "text/plain": [
       "<matplotlib.image.AxesImage at 0x7f06ad83c210>"
      ]
     },
     "execution_count": 63,
     "metadata": {},
     "output_type": "execute_result"
    },
    {
     "data": {
      "image/png": "[encoded data removed]",
      "text/plain": [
       "<Figure size 200x200 with 1 Axes>"
      ]
     },
     "metadata": {},
     "output_type": "display_data"
    }
   ],
   "source": [
    "plt.rcParams['figure.figsize'] = (2,2)\n",
    "plt.imshow(x.numpy().squeeze(), cmap='gray')"
   ]
  },
  {
   "cell_type": "code",
   "execution_count": null,
   "metadata": {},
   "outputs": [],
   "source": []
  }
 ],
 "metadata": {
  "kernelspec": {
   "display_name": "Python 3",
   "language": "python",
   "name": "python3"
  },
  "language_info": {
   "codemirror_mode": {
    "name": "ipython",
    "version": 3
   },
   "file_extension": ".py",
   "mimetype": "text/x-python",
   "name": "python",
   "nbconvert_exporter": "python",
   "pygments_lexer": "ipython3",
   "version": "3.7.4"
  }
 },
 "nbformat": 4,
 "nbformat_minor": 4
}
