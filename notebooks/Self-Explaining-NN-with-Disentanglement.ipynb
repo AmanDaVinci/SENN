{
 "cells": [
  {
   "cell_type": "markdown",
   "metadata": {},
   "source": [
    "# Self-Explaining Neural Networks with Disentanglement\n",
    "---"
   ]
  },
  {
   "cell_type": "markdown",
   "metadata": {},
   "source": [
    "## Import libraries"
   ]
  },
  {
   "cell_type": "code",
   "execution_count": 3,
   "metadata": {},
   "outputs": [],
   "source": [
    "import sys\n",
    "sys.path.append('..')"
   ]
  },
  {
   "cell_type": "code",
   "execution_count": 4,
   "metadata": {},
   "outputs": [],
   "source": [
    "import torch\n",
    "import torch.nn as nn\n",
    "import numpy as np\n",
    "from pathlib import Path\n",
    "from types import SimpleNamespace\n",
    "import matplotlib.pyplot as plt\n",
    "\n",
    "%matplotlib inline"
   ]
  },
  {
   "cell_type": "code",
   "execution_count": 5,
   "metadata": {},
   "outputs": [],
   "source": [
    "from models.losses import *\n",
    "from models.parameterizer import ConvParameterizer\n",
    "from models.conceptizer import ConvConceptizer, VaeConceptizer\n",
    "from models.aggregator import SumAggregator"
   ]
  },
  {
   "cell_type": "markdown",
   "metadata": {},
   "source": [
    "## Configuration"
   ]
  },
  {
   "cell_type": "code",
   "execution_count": 6,
   "metadata": {},
   "outputs": [],
   "source": [
    "plt.style.use('seaborn-paper')"
   ]
  },
  {
   "cell_type": "code",
   "execution_count": 7,
   "metadata": {},
   "outputs": [],
   "source": [
    "config = {\"model_class\": \"DiSENN\",\n",
    "          \"conceptizer\": \"VaeConceptizer\",\n",
    "          \"beta\": 1.0,\n",
    "          \"concept_loss\": \"BVAE_loss\",\n",
    "          \"robustness_loss\": \"mnist_robustness_loss\",\n",
    "          \"image_size\": 28,\n",
    "          \"concept_dim\": 1,\n",
    "          \"concept_visualization\": \"activation\",\n",
    "          \"parameterizer\": \"ConvParameterizer\",\n",
    "          \"cl_sizes\": [1, 10, 20],\n",
    "          \"hidden_sizes\": [320, 50],\n",
    "          \"num_concepts\": 5,\n",
    "          \"num_classes\": 10,\n",
    "          \"dropout\": 0.5,\n",
    "          \"aggregator\": \"SumAggregator\",\n",
    "          \"device\": \"cpu\",\n",
    "          \"exp_name\": \"test_mnist_bvae\",\n",
    "          \"dataloader\": \"mnist\",\n",
    "          \"data_path\": \"datasets/data/mnist_data\",\n",
    "          \"batch_size\" : 16}\n",
    "config = SimpleNamespace(**config)"
   ]
  },
  {
   "cell_type": "markdown",
   "metadata": {},
   "source": [
    "## DiSENN\n",
    "DiSENN (Self-Explaining Neural Networks with Disentanglement) is an extension of the Self-Explaining Neural Network proposed by [1]  "
   ]
  },
  {
   "cell_type": "markdown",
   "metadata": {},
   "source": [
    "DiSENN incorporates a constrained variational inference framework on a \n",
    "SENN Concept Encoder to learn disentangled representations of the \n",
    "basis concepts as in [2]. The basis concepts are then independently\n",
    "sensitive to single generative factors leading to better interpretability \n",
    "and lesser overlap with other basis concepts. Such a strong constraint \n",
    "better fulfills the \"diversity\" desiderata for basis concepts\n",
    "in a Self-Explaining Neural Network.\n",
    "\n",
    "\n",
    "References  \n",
    "[1] Alvarez Melis, et al.\n",
    "\"Towards Robust Interpretability with Self-Explaining Neural Networks\" NIPS 2018  \n",
    "[2] Irina Higgins, et al. \n",
    "”β-VAE: Learning basic visual concepts with a constrained variational framework.” ICLR 2017. "
   ]
  },
  {
   "cell_type": "code",
   "execution_count": 11,
   "metadata": {},
   "outputs": [],
   "source": [
    "class DiSENN(nn.Module):\n",
    "    \"\"\"Self-Explaining Neural Network with Disentanglement \"\"\"\n",
    "    \n",
    "    def __init__(self, vae_conceptizer, parameterizer, aggregator):\n",
    "        \"\"\"Instantiates the SENDD with a variational conceptizer, parameterizer and aggregator\"\"\"\n",
    "        super().__init__()\n",
    "        self.vae_conceptizer = vae_conceptizer\n",
    "        self.parameterizer = parameterizer\n",
    "        self.aggregator = aggregator\n",
    "\n",
    "    def forward(self, x):\n",
    "        \"\"\"Forward pass of a DiSENN model\n",
    "        \n",
    "        The forward pass computes a distribution over basis concepts\n",
    "        and the corresponding relevance scores. The mean concepts \n",
    "        and relevance scores are aggregated to generate a prediction.\n",
    "        \"\"\"\n",
    "        concept_mean, concept_logvar, x_reconstruct = self.vae_conceptizer(x)\n",
    "        relevances = self.parameterizer(x)\n",
    "        predictions = self.aggregator(concept_mean, relevances)\n",
    "        explanations = ((concept_mean, concept_logvar), relevances)\n",
    "        return predictions, explanations, x_reconstruct"
   ]
  },
  {
   "cell_type": "markdown",
   "metadata": {},
   "source": [
    "## Load Data"
   ]
  },
  {
   "cell_type": "code",
   "execution_count": 10,
   "metadata": {},
   "outputs": [],
   "source": [
    "from datasets.dataloaders import get_dataloader\n",
    "train_dl, val_dl, _ = get_dataloader(config)"
   ]
  },
  {
   "cell_type": "markdown",
   "metadata": {},
   "source": [
    "## Load Trained Model"
   ]
  },
  {
   "cell_type": "code",
   "execution_count": 12,
   "metadata": {},
   "outputs": [],
   "source": [
    "conceptizer = eval(config.conceptizer)(**config.__dict__)\n",
    "parameterizer = eval(config.parameterizer)(**config.__dict__)\n",
    "aggregator = eval(config.aggregator)(**config.__dict__)"
   ]
  },
  {
   "cell_type": "code",
   "execution_count": 13,
   "metadata": {},
   "outputs": [],
   "source": [
    "model = DiSENN(conceptizer, parameterizer, aggregator)"
   ]
  },
  {
   "cell_type": "code",
   "execution_count": 15,
   "metadata": {},
   "outputs": [
    {
     "name": "stdout",
     "output_type": "stream",
     "text": [
      "Loading trained model: ../results/test_mnist_bvae/checkpoints/best_model.pt\n"
     ]
    }
   ],
   "source": [
    "checkpoint_path = Path('../results')\n",
    "model_file = checkpoint_path / config.exp_name / \"checkpoints\" / \"best_model.pt\" \n",
    "checkpoint = torch.load(model_file, config.device)\n",
    "print(f\"Loading trained model: {model_file}\")"
   ]
  },
  {
   "cell_type": "code",
   "execution_count": 16,
   "metadata": {},
   "outputs": [
    {
     "data": {
      "text/plain": [
       "<All keys matched successfully>"
      ]
     },
     "execution_count": 16,
     "metadata": {},
     "output_type": "execute_result"
    }
   ],
   "source": [
    "model.load_state_dict(checkpoint['model_state'])"
   ]
  },
  {
   "cell_type": "markdown",
   "metadata": {},
   "source": [
    "## Classification"
   ]
  },
  {
   "cell_type": "code",
   "execution_count": 17,
   "metadata": {},
   "outputs": [],
   "source": [
    "xb, yb = next(iter(val_dl))\n",
    "y_pred, explanations, x_reconstruct = model(xb)"
   ]
  },
  {
   "cell_type": "code",
   "execution_count": 18,
   "metadata": {},
   "outputs": [
    {
     "data": {
      "text/plain": [
       "<matplotlib.image.AxesImage at 0x7fc39459df90>"
      ]
     },
     "execution_count": 18,
     "metadata": {},
     "output_type": "execute_result"
    },
    {
     "data": {
      "image/png": "[encoded data removed]",
      "text/plain": [
       "<Figure size 460.8x316.8 with 1 Axes>"
      ]
     },
     "metadata": {
      "needs_background": "light"
     },
     "output_type": "display_data"
    }
   ],
   "source": [
    "plt.imshow(xb[-1][0], cmap='gray')"
   ]
  },
  {
   "cell_type": "code",
   "execution_count": 19,
   "metadata": {},
   "outputs": [
    {
     "data": {
      "text/plain": [
       "(tensor([5, 9, 5, 5, 8, 4, 4, 7, 4, 6, 7, 1, 1, 5, 8, 5]),\n",
       " tensor([5, 9, 9, 5, 8, 4, 8, 0, 8, 6, 7, 1, 1, 5, 5, 5]))"
      ]
     },
     "execution_count": 19,
     "metadata": {},
     "output_type": "execute_result"
    }
   ],
   "source": [
    "y_pred.argmax(1), yb"
   ]
  },
  {
   "cell_type": "code",
   "execution_count": 20,
   "metadata": {},
   "outputs": [
    {
     "data": {
      "text/plain": [
       "<matplotlib.image.AxesImage at 0x7fc3982d8310>"
      ]
     },
     "execution_count": 20,
     "metadata": {},
     "output_type": "execute_result"
    },
    {
     "data": {
      "image/png": "[encoded data removed]",
      "text/plain": [
       "<Figure size 460.8x316.8 with 1 Axes>"
      ]
     },
     "metadata": {
      "needs_background": "light"
     },
     "output_type": "display_data"
    }
   ],
   "source": [
    "plt.imshow(x_reconstruct[-1][0].detach().numpy(), cmap='gray')"
   ]
  },
  {
   "cell_type": "code",
   "execution_count": 21,
   "metadata": {},
   "outputs": [
    {
     "name": "stdout",
     "output_type": "stream",
     "text": [
      "Test Mean Accuracy: 94.552 %\n"
     ]
    }
   ],
   "source": [
    "accuracy = 0.\n",
    "model.eval()\n",
    "with torch.no_grad():\n",
    "    for i, (x, labels) in enumerate(val_dl):\n",
    "        x = x.float().to(config.device)\n",
    "        labels = labels.long().to(config.device)\n",
    "        y_pred, explanations, x_reconstructed = model(x)\n",
    "        accuracy += (y_pred.argmax(axis=1) == labels).float().mean().item()\n",
    "print(f\"Test Mean Accuracy: {accuracy/i*100:.3f} %\")"
   ]
  },
  {
   "cell_type": "markdown",
   "metadata": {},
   "source": [
    "## Explanation"
   ]
  },
  {
   "cell_type": "markdown",
   "metadata": {},
   "source": [
    "### Generate Prototypes from Disentangled Concepts"
   ]
  },
  {
   "cell_type": "code",
   "execution_count": 22,
   "metadata": {},
   "outputs": [],
   "source": [
    "num_prototypes = 10\n",
    "traversal_range = 2"
   ]
  },
  {
   "cell_type": "code",
   "execution_count": 23,
   "metadata": {},
   "outputs": [
    {
     "data": {
      "text/plain": [
       "<matplotlib.image.AxesImage at 0x7fc39823fbd0>"
      ]
     },
     "execution_count": 23,
     "metadata": {},
     "output_type": "execute_result"
    },
    {
     "data": {
      "image/png": "[encoded data removed]",
      "text/plain": [
       "<Figure size 460.8x316.8 with 1 Axes>"
      ]
     },
     "metadata": {
      "needs_background": "light"
     },
     "output_type": "display_data"
    }
   ],
   "source": [
    "x = xb[-1]\n",
    "plt.imshow(x.numpy().squeeze(), cmap='gray')"
   ]
  },
  {
   "cell_type": "code",
   "execution_count": 24,
   "metadata": {},
   "outputs": [],
   "source": [
    "x_posterior_mean, x_posterior_logvar = model.vae_conceptizer.encoder(x)"
   ]
  },
  {
   "cell_type": "code",
   "execution_count": 25,
   "metadata": {},
   "outputs": [],
   "source": [
    "concepts = x_posterior_mean.detach().numpy()\n",
    "num_concepts = concepts.shape[1]\n",
    "concepts_sample = model.vae_conceptizer.sample(x_posterior_mean, x_posterior_logvar).detach()"
   ]
  },
  {
   "cell_type": "code",
   "execution_count": 26,
   "metadata": {},
   "outputs": [],
   "source": [
    "concepts_sample = concepts_sample.repeat(num_prototypes, 1)"
   ]
  },
  {
   "cell_type": "code",
   "execution_count": 27,
   "metadata": {},
   "outputs": [
    {
     "data": {
      "text/plain": [
       "tensor([[-0.3503,  0.3056, -0.0825,  0.1674, -0.5117],\n",
       "        [-0.3503,  0.3056, -0.0825,  0.1674, -0.5117],\n",
       "        [-0.3503,  0.3056, -0.0825,  0.1674, -0.5117],\n",
       "        [-0.3503,  0.3056, -0.0825,  0.1674, -0.5117],\n",
       "        [-0.3503,  0.3056, -0.0825,  0.1674, -0.5117],\n",
       "        [-0.3503,  0.3056, -0.0825,  0.1674, -0.5117],\n",
       "        [-0.3503,  0.3056, -0.0825,  0.1674, -0.5117],\n",
       "        [-0.3503,  0.3056, -0.0825,  0.1674, -0.5117],\n",
       "        [-0.3503,  0.3056, -0.0825,  0.1674, -0.5117],\n",
       "        [-0.3503,  0.3056, -0.0825,  0.1674, -0.5117]])"
      ]
     },
     "execution_count": 27,
     "metadata": {},
     "output_type": "execute_result"
    }
   ],
   "source": [
    "concepts_sample"
   ]
  },
  {
   "cell_type": "code",
   "execution_count": 28,
   "metadata": {},
   "outputs": [],
   "source": [
    "def independent_traversal(matrix, dim, traversal_range=2, steps=num_prototypes):\n",
    "    \"\"\"Linearly traverses through one dimension of a matrix independently\"\"\"\n",
    "    traversal = torch.linspace(-1 * traversal_range, traversal_range, steps)\n",
    "    matrix_traversal = matrix.clone() # to avoid changing the matrix\n",
    "    matrix_traversal[:, dim] = traversal\n",
    "    return matrix_traversal"
   ]
  },
  {
   "cell_type": "code",
   "execution_count": 29,
   "metadata": {},
   "outputs": [],
   "source": [
    "concepts_traversals = [independent_traversal(concepts_sample, dim) for dim in range(num_concepts)]"
   ]
  },
  {
   "cell_type": "code",
   "execution_count": 30,
   "metadata": {},
   "outputs": [
    {
     "data": {
      "text/plain": [
       "tensor([[-0.3503,  0.3056, -2.0000,  0.1674, -0.5117],\n",
       "        [-0.3503,  0.3056, -1.5556,  0.1674, -0.5117],\n",
       "        [-0.3503,  0.3056, -1.1111,  0.1674, -0.5117],\n",
       "        [-0.3503,  0.3056, -0.6667,  0.1674, -0.5117],\n",
       "        [-0.3503,  0.3056, -0.2222,  0.1674, -0.5117],\n",
       "        [-0.3503,  0.3056,  0.2222,  0.1674, -0.5117],\n",
       "        [-0.3503,  0.3056,  0.6667,  0.1674, -0.5117],\n",
       "        [-0.3503,  0.3056,  1.1111,  0.1674, -0.5117],\n",
       "        [-0.3503,  0.3056,  1.5556,  0.1674, -0.5117],\n",
       "        [-0.3503,  0.3056,  2.0000,  0.1674, -0.5117]])"
      ]
     },
     "execution_count": 30,
     "metadata": {},
     "output_type": "execute_result"
    }
   ],
   "source": [
    "concepts_traversals[2]"
   ]
  },
  {
   "cell_type": "code",
   "execution_count": 31,
   "metadata": {},
   "outputs": [],
   "source": [
    "concepts_traversals = torch.cat(concepts_traversals, dim=0)"
   ]
  },
  {
   "cell_type": "code",
   "execution_count": 32,
   "metadata": {},
   "outputs": [],
   "source": [
    "prototypes = model.vae_conceptizer.decoder(concepts_traversals)"
   ]
  },
  {
   "cell_type": "code",
   "execution_count": 33,
   "metadata": {},
   "outputs": [
    {
     "data": {
      "text/plain": [
       "torch.Size([50, 784])"
      ]
     },
     "execution_count": 33,
     "metadata": {},
     "output_type": "execute_result"
    }
   ],
   "source": [
    "prototypes.shape"
   ]
  },
  {
   "cell_type": "code",
   "execution_count": 34,
   "metadata": {},
   "outputs": [],
   "source": [
    "prototype_imgs = prototypes.view((-1, 1, 28, 28))"
   ]
  },
  {
   "cell_type": "code",
   "execution_count": 35,
   "metadata": {},
   "outputs": [
    {
     "data": {
      "text/plain": [
       "torch.Size([50, 1, 28, 28])"
      ]
     },
     "execution_count": 35,
     "metadata": {},
     "output_type": "execute_result"
    }
   ],
   "source": [
    "prototype_imgs.shape"
   ]
  },
  {
   "cell_type": "code",
   "execution_count": 36,
   "metadata": {},
   "outputs": [],
   "source": [
    "from torchvision.utils import make_grid"
   ]
  },
  {
   "cell_type": "code",
   "execution_count": 37,
   "metadata": {},
   "outputs": [],
   "source": [
    "# nrow is number of images in a row which must be the number of prototypes\n",
    "prototype_grid_img = make_grid(prototype_imgs, nrow=num_prototypes).detach().numpy()"
   ]
  },
  {
   "cell_type": "code",
   "execution_count": 38,
   "metadata": {},
   "outputs": [
    {
     "data": {
      "text/plain": [
       "(3, 152, 302)"
      ]
     },
     "execution_count": 38,
     "metadata": {},
     "output_type": "execute_result"
    }
   ],
   "source": [
    "prototype_grid_img.shape"
   ]
  },
  {
   "cell_type": "code",
   "execution_count": 39,
   "metadata": {},
   "outputs": [
    {
     "data": {
      "text/plain": [
       "<BarContainer object of 5 artists>"
      ]
     },
     "execution_count": 39,
     "metadata": {},
     "output_type": "execute_result"
    },
    {
     "data": {
      "image/png": "[encoded data removed]",
      "text/plain": [
       "<Figure size 460.8x316.8 with 1 Axes>"
      ]
     },
     "metadata": {
      "needs_background": "light"
     },
     "output_type": "display_data"
    }
   ],
   "source": [
    "plt.barh(range(num_concepts), concepts.squeeze())"
   ]
  },
  {
   "cell_type": "code",
   "execution_count": 40,
   "metadata": {},
   "outputs": [
    {
     "data": {
      "text/plain": [
       "<matplotlib.image.AxesImage at 0x7fc39819ed90>"
      ]
     },
     "execution_count": 40,
     "metadata": {},
     "output_type": "execute_result"
    },
    {
     "data": {
      "image/png": "[encoded data removed]",
      "text/plain": [
       "<Figure size 460.8x316.8 with 1 Axes>"
      ]
     },
     "metadata": {
      "needs_background": "light"
     },
     "output_type": "display_data"
    }
   ],
   "source": [
    "plt.imshow(prototype_grid_img.transpose(1,2,0))"
   ]
  },
  {
   "cell_type": "code",
   "execution_count": 41,
   "metadata": {},
   "outputs": [
    {
     "data": {
      "text/plain": [
       "<matplotlib.image.AxesImage at 0x7fc398114150>"
      ]
     },
     "execution_count": 41,
     "metadata": {},
     "output_type": "execute_result"
    },
    {
     "data": {
      "image/png": "[encoded data removed]",
      "text/plain": [
       "<Figure size 460.8x316.8 with 1 Axes>"
      ]
     },
     "metadata": {
      "needs_background": "light"
     },
     "output_type": "display_data"
    }
   ],
   "source": [
    "plt.imshow(x.numpy().squeeze(), cmap='gray')"
   ]
  }
 ],
 "metadata": {
  "kernelspec": {
   "display_name": "Python 3",
   "language": "python",
   "name": "python3"
  },
  "language_info": {
   "codemirror_mode": {
    "name": "ipython",
    "version": 3
   },
   "file_extension": ".py",
   "mimetype": "text/x-python",
   "name": "python",
   "nbconvert_exporter": "python",
   "pygments_lexer": "ipython3",
   "version": "3.7.5"
  }
 },
 "nbformat": 4,
 "nbformat_minor": 4
}
