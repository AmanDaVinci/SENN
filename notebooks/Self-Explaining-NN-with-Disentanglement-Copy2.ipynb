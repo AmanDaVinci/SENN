{
 "cells": [
  {
   "cell_type": "markdown",
   "metadata": {},
   "source": [
    "# Self-Explaining Neural Networks with Disentanglement\n",
    "---"
   ]
  },
  {
   "cell_type": "markdown",
   "metadata": {},
   "source": [
    "## Import libraries"
   ]
  },
  {
   "cell_type": "code",
   "execution_count": 1,
   "metadata": {},
   "outputs": [],
   "source": [
    "import sys\n",
    "sys.path.append('..')"
   ]
  },
  {
   "cell_type": "code",
   "execution_count": 2,
   "metadata": {},
   "outputs": [],
   "source": [
    "import torch\n",
    "import torch.nn as nn\n",
    "import numpy as np\n",
    "from pathlib import Path\n",
    "from types import SimpleNamespace\n",
    "import matplotlib.pyplot as plt\n",
    "\n",
    "%matplotlib inline"
   ]
  },
  {
   "cell_type": "code",
   "execution_count": 3,
   "metadata": {},
   "outputs": [],
   "source": [
    "from models.losses import *\n",
    "from models.parameterizer import ConvParameterizer\n",
    "from models.conceptizer import ConvConceptizer, VaeConceptizer\n",
    "from models.aggregator import SumAggregator"
   ]
  },
  {
   "cell_type": "markdown",
   "metadata": {},
   "source": [
    "## Configuration"
   ]
  },
  {
   "cell_type": "code",
   "execution_count": 4,
   "metadata": {},
   "outputs": [],
   "source": [
    "plt.style.use('seaborn-paper')"
   ]
  },
  {
   "cell_type": "code",
   "execution_count": 5,
   "metadata": {},
   "outputs": [],
   "source": [
    "config = {\n",
    "  \"model_class\": \"DiSENN\",\n",
    "  \"conceptizer\": \"VaeConceptizer\",\n",
    "  \"pretrain_epochs\": 3,\n",
    "  \"beta\": 4.0,\n",
    "  \"concept_loss\": \"BVAE_loss\",\n",
    "  \"robustness_loss\": \"mnist_robustness_loss\",\n",
    "  \"train\": True,\n",
    "  \"image_size\": 28,\n",
    "  \"concept_dim\": 1,\n",
    "  \"concept_visualization\": None,\n",
    "  \"parameterizer\": \"ConvParameterizer\",\n",
    "  \"cl_sizes\": [1, 10, 20],\n",
    "  \"hidden_sizes\": [320, 50],\n",
    "  \"num_concepts\": 5,\n",
    "  \"num_classes\": 10,\n",
    "  \"dropout\": 0.5,\n",
    "  \"aggregator\": \"SumAggregator\",\n",
    "  \"device\": \"cuda:0\",\n",
    "  \"lr\": 2e-3,\n",
    "  \"epochs\": 5,\n",
    "  \"robust_reg\": 1e-3,\n",
    "  \"concept_reg\": 1,\n",
    "  \"print_freq\": 50,\n",
    "  \"exp_name\": \"mnist_bvae_default\",\n",
    "  \"dataloader\": \"mnist\",\n",
    "  \"data_path\": \"datasets/data/mnist_data\",\n",
    "  \"batch_size\" : 128,\n",
    "  \"eval_freq\" : 100\n",
    "}\n",
    "config = SimpleNamespace(**config)"
   ]
  },
  {
   "cell_type": "markdown",
   "metadata": {},
   "source": [
    "# DiSENN\n",
    "DiSENN (Self-Explaining Neural Networks with Disentanglement) is an extension of the Self-Explaining Neural Network proposed by [1]  "
   ]
  },
  {
   "cell_type": "markdown",
   "metadata": {},
   "source": [
    "DiSENN incorporates a constrained variational inference framework on a \n",
    "SENN Concept Encoder to learn disentangled representations of the \n",
    "basis concepts as in [2]. The basis concepts are then independently\n",
    "sensitive to single generative factors leading to better interpretability \n",
    "and lesser overlap with other basis concepts. Such a strong constraint \n",
    "better fulfills the \"diversity\" desiderata for basis concepts\n",
    "in a Self-Explaining Neural Network.\n",
    "\n",
    "\n",
    "References  \n",
    "[1] Alvarez Melis, et al.\n",
    "\"Towards Robust Interpretability with Self-Explaining Neural Networks\" NIPS 2018  \n",
    "[2] Irina Higgins, et al. \n",
    "”β-VAE: Learning basic visual concepts with a constrained variational framework.” ICLR 2017. "
   ]
  },
  {
   "cell_type": "code",
   "execution_count": 6,
   "metadata": {},
   "outputs": [],
   "source": [
    "class DiSENN(nn.Module):\n",
    "    \"\"\"Self-Explaining Neural Network with Disentanglement \"\"\"\n",
    "    \n",
    "    def __init__(self, vae_conceptizer, parameterizer, aggregator):\n",
    "        \"\"\"Instantiates the SENDD with a variational conceptizer, parameterizer and aggregator\"\"\"\n",
    "        super().__init__()\n",
    "        self.vae_conceptizer = vae_conceptizer\n",
    "        self.parameterizer = parameterizer\n",
    "        self.aggregator = aggregator\n",
    "\n",
    "    def forward(self, x):\n",
    "        \"\"\"Forward pass of a DiSENN model\n",
    "        \n",
    "        The forward pass computes a distribution over basis concepts\n",
    "        and the corresponding relevance scores. The mean concepts \n",
    "        and relevance scores are aggregated to generate a prediction.\n",
    "        \"\"\"\n",
    "        concept_mean, concept_logvar, x_reconstruct = self.vae_conceptizer(x)\n",
    "        relevances = self.parameterizer(x)\n",
    "        predictions = self.aggregator(concept_mean, relevances)\n",
    "        explanations = ((concept_mean, concept_logvar), relevances)\n",
    "        return predictions, explanations, x_reconstruct"
   ]
  },
  {
   "cell_type": "markdown",
   "metadata": {},
   "source": [
    "## Load Data"
   ]
  },
  {
   "cell_type": "code",
   "execution_count": 7,
   "metadata": {},
   "outputs": [],
   "source": [
    "from datasets.dataloaders import get_dataloader\n",
    "train_dl, val_dl, _ = get_dataloader(config)"
   ]
  },
  {
   "cell_type": "markdown",
   "metadata": {},
   "source": [
    "## Training"
   ]
  },
  {
   "cell_type": "code",
   "execution_count": 8,
   "metadata": {},
   "outputs": [],
   "source": [
    "from trainer import Trainer"
   ]
  },
  {
   "cell_type": "code",
   "execution_count": 9,
   "metadata": {},
   "outputs": [
    {
     "name": "stdout",
     "output_type": "stream",
     "text": [
      "Using device cuda:0\n",
      "Loading data ...\n",
      "Pre-training the Conceptizer... \n",
      "EPOCH:0 STEP:0 \tConcept Loss: 1.298\n",
      "EPOCH:0 STEP:50 \tConcept Loss: 0.803\n",
      "EPOCH:0 STEP:100 \tConcept Loss: 0.789\n",
      "EPOCH:0 STEP:150 \tConcept Loss: 0.775\n",
      "EPOCH:0 STEP:200 \tConcept Loss: 0.800\n",
      "EPOCH:0 STEP:250 \tConcept Loss: 0.788\n",
      "EPOCH:0 STEP:300 \tConcept Loss: 0.809\n",
      "EPOCH:0 STEP:350 \tConcept Loss: 0.823\n",
      "EPOCH:0 STEP:400 \tConcept Loss: 0.812\n",
      "EPOCH:1 STEP:0 \tConcept Loss: 0.793\n",
      "EPOCH:1 STEP:50 \tConcept Loss: 0.798\n",
      "EPOCH:1 STEP:100 \tConcept Loss: 0.811\n",
      "EPOCH:1 STEP:150 \tConcept Loss: 0.802\n",
      "EPOCH:1 STEP:200 \tConcept Loss: 0.791\n",
      "EPOCH:1 STEP:250 \tConcept Loss: 0.783\n",
      "EPOCH:1 STEP:300 \tConcept Loss: 0.804\n",
      "EPOCH:1 STEP:350 \tConcept Loss: 0.766\n",
      "EPOCH:1 STEP:400 \tConcept Loss: 0.804\n",
      "EPOCH:2 STEP:0 \tConcept Loss: 0.803\n",
      "EPOCH:2 STEP:50 \tConcept Loss: 0.801\n",
      "EPOCH:2 STEP:100 \tConcept Loss: 0.803\n",
      "EPOCH:2 STEP:150 \tConcept Loss: 0.805\n",
      "EPOCH:2 STEP:200 \tConcept Loss: 0.792\n",
      "EPOCH:2 STEP:250 \tConcept Loss: 0.841\n",
      "EPOCH:2 STEP:300 \tConcept Loss: 0.831\n",
      "EPOCH:2 STEP:350 \tConcept Loss: 0.795\n",
      "EPOCH:2 STEP:400 \tConcept Loss: 0.821\n",
      "DiSENN(\n",
      "  (vae_conceptizer): VaeConceptizer(\n",
      "    (encoder): VaeEncoder(\n",
      "      (FC): Sequential(\n",
      "        (0): Flatten()\n",
      "        (1): Linear(in_features=784, out_features=512, bias=True)\n",
      "        (2): ReLU()\n",
      "        (3): Linear(in_features=512, out_features=256, bias=True)\n",
      "        (4): ReLU()\n",
      "        (5): Linear(in_features=256, out_features=100, bias=True)\n",
      "        (6): ReLU()\n",
      "      )\n",
      "      (mean_layer): Linear(in_features=100, out_features=5, bias=True)\n",
      "      (logvar_layer): Linear(in_features=100, out_features=5, bias=True)\n",
      "    )\n",
      "    (decoder): VaeDecoder(\n",
      "      (FC): Sequential(\n",
      "        (0): Linear(in_features=5, out_features=100, bias=True)\n",
      "        (1): ReLU()\n",
      "        (2): Linear(in_features=100, out_features=256, bias=True)\n",
      "        (3): ReLU()\n",
      "        (4): Linear(in_features=256, out_features=512, bias=True)\n",
      "        (5): ReLU()\n",
      "        (6): Linear(in_features=512, out_features=784, bias=True)\n",
      "      )\n",
      "    )\n",
      "  )\n",
      "  (parameterizer): ConvParameterizer(\n",
      "    (cl_layers): Sequential(\n",
      "      (0): Conv2d(1, 10, kernel_size=(5, 5), stride=(1, 1))\n",
      "      (1): MaxPool2d(kernel_size=2, stride=2, padding=0, dilation=1, ceil_mode=False)\n",
      "      (2): ReLU()\n",
      "      (3): Conv2d(10, 20, kernel_size=(5, 5), stride=(1, 1))\n",
      "      (4): Dropout2d(p=0.5, inplace=False)\n",
      "      (5): MaxPool2d(kernel_size=2, stride=2, padding=0, dilation=1, ceil_mode=False)\n",
      "      (6): ReLU()\n",
      "    )\n",
      "    (fc_layers): Sequential(\n",
      "      (0): Linear(in_features=320, out_features=50, bias=True)\n",
      "      (1): Dropout(p=0.5, inplace=False)\n",
      "      (2): Tanh()\n",
      "    )\n",
      "  )\n",
      "  (aggregator): SumAggregator()\n",
      ")\n",
      "Trainable Parameters: 1141520\n",
      "\n",
      "Training begins...\n",
      "EPOCH:0 STEP:0\n",
      "Total Loss:3.124 \tClassification Loss:2.303 \tRobustness Loss:0.052 \tConcept Loss:0.821 \tAccuracy:0.094 \t\n",
      "EPOCH:0 STEP:50\n",
      "Total Loss:3.010 \tClassification Loss:2.135 \tRobustness Loss:0.432 \tConcept Loss:0.875 \tAccuracy:0.422 \t\n",
      "\n",
      "\u001b[93m-------- Validation --------\n",
      "Total Loss:2.731 \tClassification Loss:1.802 \tRobustness Loss:0.000 \tConcept Loss:0.929 \tAccuracy:0.854 \t\n",
      "----------------------------\u001b[0m\n",
      "\u001b[92mCongratulations! Saving a new best model...\u001b[00m\n",
      "Checkpoint saved @ results/mnist_bvae_default/checkpoints/best_model.pt\n",
      "\n",
      "EPOCH:0 STEP:100\n",
      "Total Loss:2.733 \tClassification Loss:1.823 \tRobustness Loss:0.664 \tConcept Loss:0.909 \tAccuracy:0.852 \t\n",
      "EPOCH:0 STEP:150\n",
      "Total Loss:2.526 \tClassification Loss:1.385 \tRobustness Loss:1.913 \tConcept Loss:1.139 \tAccuracy:0.930 \t\n",
      "\n",
      "\u001b[93m-------- Validation --------\n",
      "Total Loss:2.441 \tClassification Loss:1.303 \tRobustness Loss:0.000 \tConcept Loss:1.138 \tAccuracy:0.936 \t\n",
      "----------------------------\u001b[0m\n",
      "\u001b[92mCongratulations! Saving a new best model...\u001b[00m\n",
      "Checkpoint saved @ results/mnist_bvae_default/checkpoints/best_model.pt\n",
      "\n",
      "EPOCH:0 STEP:200\n",
      "Total Loss:2.464 \tClassification Loss:1.317 \tRobustness Loss:2.198 \tConcept Loss:1.145 \tAccuracy:0.930 \t\n",
      "EPOCH:0 STEP:250\n",
      "Total Loss:2.427 \tClassification Loss:1.258 \tRobustness Loss:2.199 \tConcept Loss:1.167 \tAccuracy:0.945 \t\n",
      "\n",
      "\u001b[93m-------- Validation --------\n",
      "Total Loss:2.341 \tClassification Loss:1.159 \tRobustness Loss:0.000 \tConcept Loss:1.182 \tAccuracy:0.953 \t\n",
      "----------------------------\u001b[0m\n",
      "\u001b[92mCongratulations! Saving a new best model...\u001b[00m\n",
      "Checkpoint saved @ results/mnist_bvae_default/checkpoints/best_model.pt\n",
      "\n",
      "EPOCH:0 STEP:300\n",
      "Total Loss:2.387 \tClassification Loss:1.221 \tRobustness Loss:2.343 \tConcept Loss:1.164 \tAccuracy:0.906 \t\n",
      "EPOCH:0 STEP:350\n",
      "Total Loss:2.325 \tClassification Loss:1.154 \tRobustness Loss:2.765 \tConcept Loss:1.168 \tAccuracy:0.969 \t\n",
      "\n",
      "\u001b[93m-------- Validation --------\n",
      "Total Loss:2.268 \tClassification Loss:1.066 \tRobustness Loss:0.000 \tConcept Loss:1.202 \tAccuracy:0.967 \t\n",
      "----------------------------\u001b[0m\n",
      "\u001b[92mCongratulations! Saving a new best model...\u001b[00m\n",
      "Checkpoint saved @ results/mnist_bvae_default/checkpoints/best_model.pt\n",
      "\n",
      "EPOCH:0 STEP:400\n",
      "Total Loss:2.262 \tClassification Loss:1.052 \tRobustness Loss:2.836 \tConcept Loss:1.207 \tAccuracy:0.945 \t\n",
      "Checkpoint saved @ results/mnist_bvae_default/checkpoints/Epoch[0]-Step[421].pt\n",
      "\n",
      "EPOCH:1 STEP:0\n",
      "Total Loss:2.996 \tClassification Loss:1.686 \tRobustness Loss:3.878 \tConcept Loss:1.306 \tAccuracy:0.758 \t\n",
      "EPOCH:1 STEP:50\n",
      "Total Loss:2.879 \tClassification Loss:1.889 \tRobustness Loss:2.836 \tConcept Loss:0.988 \tAccuracy:0.781 \t\n",
      "\n",
      "\u001b[93m-------- Validation --------\n",
      "Total Loss:2.385 \tClassification Loss:1.349 \tRobustness Loss:0.000 \tConcept Loss:1.036 \tAccuracy:0.962 \t\n",
      "----------------------------\u001b[0m\n",
      "EPOCH:1 STEP:100\n",
      "Total Loss:2.228 \tClassification Loss:0.996 \tRobustness Loss:3.246 \tConcept Loss:1.229 \tAccuracy:0.930 \t\n",
      "EPOCH:1 STEP:150\n",
      "Total Loss:2.196 \tClassification Loss:0.952 \tRobustness Loss:3.375 \tConcept Loss:1.240 \tAccuracy:0.969 \t\n",
      "\n",
      "\u001b[93m-------- Validation --------\n",
      "Total Loss:2.158 \tClassification Loss:0.958 \tRobustness Loss:0.000 \tConcept Loss:1.199 \tAccuracy:0.974 \t\n",
      "----------------------------\u001b[0m\n",
      "\u001b[92mCongratulations! Saving a new best model...\u001b[00m\n",
      "Checkpoint saved @ results/mnist_bvae_default/checkpoints/best_model.pt\n",
      "\n",
      "EPOCH:1 STEP:200\n",
      "Total Loss:2.160 \tClassification Loss:0.957 \tRobustness Loss:3.192 \tConcept Loss:1.199 \tAccuracy:0.945 \t\n",
      "EPOCH:1 STEP:250\n",
      "Total Loss:2.176 \tClassification Loss:0.964 \tRobustness Loss:3.629 \tConcept Loss:1.209 \tAccuracy:0.930 \t\n",
      "\n",
      "\u001b[93m-------- Validation --------\n",
      "Total Loss:2.135 \tClassification Loss:0.913 \tRobustness Loss:0.000 \tConcept Loss:1.222 \tAccuracy:0.973 \t\n",
      "----------------------------\u001b[0m\n",
      "EPOCH:1 STEP:300\n",
      "Total Loss:2.176 \tClassification Loss:0.934 \tRobustness Loss:3.237 \tConcept Loss:1.239 \tAccuracy:0.961 \t\n",
      "EPOCH:1 STEP:350\n",
      "Total Loss:2.127 \tClassification Loss:0.921 \tRobustness Loss:3.639 \tConcept Loss:1.202 \tAccuracy:1.000 \t\n",
      "\n",
      "\u001b[93m-------- Validation --------\n",
      "Total Loss:2.104 \tClassification Loss:0.895 \tRobustness Loss:0.000 \tConcept Loss:1.209 \tAccuracy:0.975 \t\n",
      "----------------------------\u001b[0m\n",
      "\u001b[92mCongratulations! Saving a new best model...\u001b[00m\n",
      "Checkpoint saved @ results/mnist_bvae_default/checkpoints/best_model.pt\n",
      "\n",
      "EPOCH:1 STEP:400\n",
      "Total Loss:2.100 \tClassification Loss:0.892 \tRobustness Loss:3.496 \tConcept Loss:1.205 \tAccuracy:0.984 \t\n",
      "Checkpoint saved @ results/mnist_bvae_default/checkpoints/Epoch[1]-Step[842].pt\n",
      "\n",
      "EPOCH:2 STEP:0\n",
      "Total Loss:3.006 \tClassification Loss:1.608 \tRobustness Loss:6.230 \tConcept Loss:1.392 \tAccuracy:0.883 \t\n",
      "EPOCH:2 STEP:50\n",
      "Total Loss:2.826 \tClassification Loss:1.784 \tRobustness Loss:3.904 \tConcept Loss:1.038 \tAccuracy:0.883 \t\n",
      "\n",
      "\u001b[93m-------- Validation --------\n",
      "Total Loss:2.278 \tClassification Loss:1.225 \tRobustness Loss:0.000 \tConcept Loss:1.053 \tAccuracy:0.975 \t\n",
      "----------------------------\u001b[0m\n",
      "EPOCH:2 STEP:100\n",
      "Total Loss:2.113 \tClassification Loss:0.872 \tRobustness Loss:3.586 \tConcept Loss:1.237 \tAccuracy:0.961 \t\n",
      "EPOCH:2 STEP:150\n",
      "Total Loss:2.032 \tClassification Loss:0.834 \tRobustness Loss:3.392 \tConcept Loss:1.194 \tAccuracy:0.992 \t\n",
      "\n",
      "\u001b[93m-------- Validation --------\n",
      "Total Loss:2.065 \tClassification Loss:0.840 \tRobustness Loss:0.000 \tConcept Loss:1.225 \tAccuracy:0.978 \t\n",
      "----------------------------\u001b[0m\n",
      "\u001b[92mCongratulations! Saving a new best model...\u001b[00m\n",
      "Checkpoint saved @ results/mnist_bvae_default/checkpoints/best_model.pt\n",
      "\n",
      "EPOCH:2 STEP:200\n",
      "Total Loss:2.058 \tClassification Loss:0.822 \tRobustness Loss:3.328 \tConcept Loss:1.232 \tAccuracy:0.984 \t\n",
      "EPOCH:2 STEP:250\n",
      "Total Loss:2.080 \tClassification Loss:0.826 \tRobustness Loss:4.130 \tConcept Loss:1.251 \tAccuracy:0.977 \t\n",
      "\n",
      "\u001b[93m-------- Validation --------\n",
      "Total Loss:2.056 \tClassification Loss:0.839 \tRobustness Loss:0.000 \tConcept Loss:1.217 \tAccuracy:0.977 \t\n",
      "----------------------------\u001b[0m\n",
      "EPOCH:2 STEP:300\n",
      "Total Loss:2.039 \tClassification Loss:0.821 \tRobustness Loss:3.325 \tConcept Loss:1.214 \tAccuracy:0.984 \t\n",
      "EPOCH:2 STEP:350\n",
      "Total Loss:2.015 \tClassification Loss:0.766 \tRobustness Loss:3.295 \tConcept Loss:1.245 \tAccuracy:1.000 \t\n",
      "\n",
      "\u001b[93m-------- Validation --------\n",
      "Total Loss:2.049 \tClassification Loss:0.814 \tRobustness Loss:0.000 \tConcept Loss:1.235 \tAccuracy:0.980 \t\n",
      "----------------------------\u001b[0m\n",
      "\u001b[92mCongratulations! Saving a new best model...\u001b[00m\n",
      "Checkpoint saved @ results/mnist_bvae_default/checkpoints/best_model.pt\n",
      "\n",
      "EPOCH:2 STEP:400\n",
      "Total Loss:2.035 \tClassification Loss:0.798 \tRobustness Loss:3.317 \tConcept Loss:1.234 \tAccuracy:1.000 \t\n",
      "Checkpoint saved @ results/mnist_bvae_default/checkpoints/Epoch[2]-Step[1263].pt\n",
      "\n",
      "EPOCH:3 STEP:0\n",
      "Total Loss:2.944 \tClassification Loss:1.570 \tRobustness Loss:6.148 \tConcept Loss:1.368 \tAccuracy:0.875 \t\n",
      "\n",
      "\u001b[93m-------- Validation --------\n",
      "Total Loss:2.216 \tClassification Loss:1.165 \tRobustness Loss:0.000 \tConcept Loss:1.051 \tAccuracy:0.977 \t\n",
      "----------------------------\u001b[0m\n",
      "EPOCH:3 STEP:50\n",
      "Total Loss:2.091 \tClassification Loss:0.844 \tRobustness Loss:2.930 \tConcept Loss:1.244 \tAccuracy:0.992 \t\n",
      "EPOCH:3 STEP:100\n",
      "Total Loss:2.054 \tClassification Loss:0.801 \tRobustness Loss:3.345 \tConcept Loss:1.249 \tAccuracy:0.977 \t\n",
      "\n",
      "\u001b[93m-------- Validation --------\n",
      "Total Loss:2.019 \tClassification Loss:0.799 \tRobustness Loss:0.000 \tConcept Loss:1.221 \tAccuracy:0.979 \t\n",
      "----------------------------\u001b[0m\n",
      "EPOCH:3 STEP:150\n",
      "Total Loss:2.021 \tClassification Loss:0.802 \tRobustness Loss:3.362 \tConcept Loss:1.216 \tAccuracy:0.984 \t\n",
      "EPOCH:3 STEP:200\n",
      "Total Loss:2.033 \tClassification Loss:0.793 \tRobustness Loss:3.790 \tConcept Loss:1.236 \tAccuracy:0.984 \t\n",
      "\n",
      "\u001b[93m-------- Validation --------\n",
      "Total Loss:2.010 \tClassification Loss:0.798 \tRobustness Loss:0.000 \tConcept Loss:1.212 \tAccuracy:0.980 \t\n",
      "----------------------------\u001b[0m\n",
      "\u001b[92mCongratulations! Saving a new best model...\u001b[00m\n",
      "Checkpoint saved @ results/mnist_bvae_default/checkpoints/best_model.pt\n",
      "\n",
      "EPOCH:3 STEP:250\n",
      "Total Loss:2.020 \tClassification Loss:0.787 \tRobustness Loss:3.232 \tConcept Loss:1.230 \tAccuracy:0.969 \t\n",
      "EPOCH:3 STEP:300\n",
      "Total Loss:2.022 \tClassification Loss:0.819 \tRobustness Loss:3.689 \tConcept Loss:1.199 \tAccuracy:0.977 \t\n",
      "\n",
      "\u001b[93m-------- Validation --------\n",
      "Total Loss:2.007 \tClassification Loss:0.785 \tRobustness Loss:0.000 \tConcept Loss:1.222 \tAccuracy:0.982 \t\n",
      "----------------------------\u001b[0m\n",
      "\u001b[92mCongratulations! Saving a new best model...\u001b[00m\n",
      "Checkpoint saved @ results/mnist_bvae_default/checkpoints/best_model.pt\n",
      "\n",
      "EPOCH:3 STEP:350\n",
      "Total Loss:2.004 \tClassification Loss:0.818 \tRobustness Loss:3.623 \tConcept Loss:1.182 \tAccuracy:0.977 \t\n",
      "EPOCH:3 STEP:400\n",
      "Total Loss:2.025 \tClassification Loss:0.801 \tRobustness Loss:3.852 \tConcept Loss:1.220 \tAccuracy:0.984 \t\n",
      "Checkpoint saved @ results/mnist_bvae_default/checkpoints/Epoch[3]-Step[1684].pt\n",
      "\n",
      "EPOCH:4 STEP:0\n",
      "Total Loss:2.927 \tClassification Loss:1.574 \tRobustness Loss:6.946 \tConcept Loss:1.346 \tAccuracy:0.875 \t\n",
      "\n",
      "\u001b[93m-------- Validation --------\n",
      "Total Loss:2.141 \tClassification Loss:1.096 \tRobustness Loss:0.000 \tConcept Loss:1.044 \tAccuracy:0.978 \t\n",
      "----------------------------\u001b[0m\n",
      "EPOCH:4 STEP:50\n",
      "Total Loss:1.974 \tClassification Loss:0.764 \tRobustness Loss:2.872 \tConcept Loss:1.208 \tAccuracy:1.000 \t\n",
      "EPOCH:4 STEP:100\n",
      "Total Loss:1.991 \tClassification Loss:0.755 \tRobustness Loss:3.308 \tConcept Loss:1.233 \tAccuracy:1.000 \t\n",
      "\n",
      "\u001b[93m-------- Validation --------\n",
      "Total Loss:2.002 \tClassification Loss:0.790 \tRobustness Loss:0.000 \tConcept Loss:1.211 \tAccuracy:0.982 \t\n",
      "----------------------------\u001b[0m\n",
      "EPOCH:4 STEP:150\n",
      "Total Loss:2.005 \tClassification Loss:0.741 \tRobustness Loss:3.687 \tConcept Loss:1.261 \tAccuracy:1.000 \t\n",
      "EPOCH:4 STEP:200\n",
      "Total Loss:1.996 \tClassification Loss:0.781 \tRobustness Loss:4.114 \tConcept Loss:1.210 \tAccuracy:1.000 \t\n",
      "\n",
      "\u001b[93m-------- Validation --------\n",
      "Total Loss:1.998 \tClassification Loss:0.782 \tRobustness Loss:0.000 \tConcept Loss:1.216 \tAccuracy:0.983 \t\n",
      "----------------------------\u001b[0m\n",
      "\u001b[92mCongratulations! Saving a new best model...\u001b[00m\n",
      "Checkpoint saved @ results/mnist_bvae_default/checkpoints/best_model.pt\n",
      "\n",
      "EPOCH:4 STEP:250\n",
      "Total Loss:1.987 \tClassification Loss:0.778 \tRobustness Loss:3.749 \tConcept Loss:1.206 \tAccuracy:0.984 \t\n",
      "EPOCH:4 STEP:300\n",
      "Total Loss:2.004 \tClassification Loss:0.791 \tRobustness Loss:3.920 \tConcept Loss:1.209 \tAccuracy:0.977 \t\n",
      "\n",
      "\u001b[93m-------- Validation --------\n",
      "Total Loss:1.997 \tClassification Loss:0.797 \tRobustness Loss:0.000 \tConcept Loss:1.200 \tAccuracy:0.983 \t\n",
      "----------------------------\u001b[0m\n",
      "\u001b[92mCongratulations! Saving a new best model...\u001b[00m\n",
      "Checkpoint saved @ results/mnist_bvae_default/checkpoints/best_model.pt\n",
      "\n",
      "EPOCH:4 STEP:350\n",
      "Total Loss:1.978 \tClassification Loss:0.772 \tRobustness Loss:4.735 \tConcept Loss:1.201 \tAccuracy:0.984 \t\n",
      "EPOCH:4 STEP:400\n",
      "Total Loss:1.948 \tClassification Loss:0.754 \tRobustness Loss:3.158 \tConcept Loss:1.191 \tAccuracy:0.992 \t\n",
      "\n",
      "\u001b[93m-------- Validation --------\n",
      "Total Loss:1.992 \tClassification Loss:0.775 \tRobustness Loss:0.000 \tConcept Loss:1.217 \tAccuracy:0.984 \t\n",
      "----------------------------\u001b[0m\n",
      "\u001b[92mCongratulations! Saving a new best model...\u001b[00m\n",
      "Checkpoint saved @ results/mnist_bvae_default/checkpoints/best_model.pt\n",
      "\n",
      "Checkpoint saved @ results/mnist_bvae_default/checkpoints/Epoch[4]-Step[2105].pt\n",
      "\n",
      "Please wait while we finalize...\n",
      "Checkpoint saved @ results/mnist_bvae_default/checkpoints/Epoch[4]-Step[2105].pt\n",
      "\n"
     ]
    },
    {
     "data": {
      "text/plain": [
       "<Figure size 748.8x514.8 with 0 Axes>"
      ]
     },
     "metadata": {},
     "output_type": "display_data"
    },
    {
     "data": {
      "text/plain": [
       "<Figure size 640x480 with 0 Axes>"
      ]
     },
     "metadata": {},
     "output_type": "display_data"
    },
    {
     "data": {
      "text/plain": [
       "<Figure size 640x480 with 0 Axes>"
      ]
     },
     "metadata": {},
     "output_type": "display_data"
    },
    {
     "data": {
      "text/plain": [
       "<Figure size 640x480 with 0 Axes>"
      ]
     },
     "metadata": {},
     "output_type": "display_data"
    },
    {
     "data": {
      "text/plain": [
       "<Figure size 640x480 with 0 Axes>"
      ]
     },
     "metadata": {},
     "output_type": "display_data"
    },
    {
     "data": {
      "text/plain": [
       "<Figure size 640x480 with 0 Axes>"
      ]
     },
     "metadata": {},
     "output_type": "display_data"
    },
    {
     "data": {
      "text/plain": [
       "<Figure size 640x480 with 0 Axes>"
      ]
     },
     "metadata": {},
     "output_type": "display_data"
    },
    {
     "data": {
      "text/plain": [
       "<Figure size 640x480 with 0 Axes>"
      ]
     },
     "metadata": {},
     "output_type": "display_data"
    },
    {
     "data": {
      "text/plain": [
       "<Figure size 640x480 with 0 Axes>"
      ]
     },
     "metadata": {},
     "output_type": "display_data"
    },
    {
     "data": {
      "text/plain": [
       "<Figure size 640x480 with 0 Axes>"
      ]
     },
     "metadata": {},
     "output_type": "display_data"
    },
    {
     "data": {
      "text/plain": [
       "<Figure size 640x480 with 0 Axes>"
      ]
     },
     "metadata": {},
     "output_type": "display_data"
    }
   ],
   "source": [
    "trainer = Trainer(config)\n",
    "trainer.run()\n",
    "trainer.finalize()"
   ]
  },
  {
   "cell_type": "markdown",
   "metadata": {},
   "source": [
    "## Load Trained Model"
   ]
  },
  {
   "cell_type": "code",
   "execution_count": 10,
   "metadata": {},
   "outputs": [],
   "source": [
    "conceptizer = eval(config.conceptizer)(**config.__dict__)\n",
    "parameterizer = eval(config.parameterizer)(**config.__dict__)\n",
    "aggregator = eval(config.aggregator)(**config.__dict__)"
   ]
  },
  {
   "cell_type": "code",
   "execution_count": 11,
   "metadata": {},
   "outputs": [],
   "source": [
    "model = DiSENN(conceptizer, parameterizer, aggregator)"
   ]
  },
  {
   "cell_type": "code",
   "execution_count": 12,
   "metadata": {},
   "outputs": [
    {
     "name": "stdout",
     "output_type": "stream",
     "text": [
      "Loading trained model: results/mnist_bvae_default/checkpoints/best_model.pt\n"
     ]
    }
   ],
   "source": [
    "checkpoint_path = Path('results')\n",
    "model_file = checkpoint_path / config.exp_name / \"checkpoints\" / \"best_model.pt\" \n",
    "checkpoint = torch.load(model_file, config.device)\n",
    "print(f\"Loading trained model: {model_file}\")"
   ]
  },
  {
   "cell_type": "code",
   "execution_count": 13,
   "metadata": {},
   "outputs": [
    {
     "data": {
      "text/plain": [
       "<All keys matched successfully>"
      ]
     },
     "execution_count": 13,
     "metadata": {},
     "output_type": "execute_result"
    }
   ],
   "source": [
    "model.load_state_dict(checkpoint['model_state'])"
   ]
  },
  {
   "cell_type": "markdown",
   "metadata": {},
   "source": [
    "# Classification"
   ]
  },
  {
   "cell_type": "code",
   "execution_count": 14,
   "metadata": {},
   "outputs": [],
   "source": [
    "xb, yb = next(iter(val_dl))\n",
    "y_pred, explanations, x_reconstruct = model(xb)"
   ]
  },
  {
   "cell_type": "code",
   "execution_count": 15,
   "metadata": {},
   "outputs": [],
   "source": [
    "plt.rcParams['figure.figsize'] = (2, 2)"
   ]
  },
  {
   "cell_type": "code",
   "execution_count": 16,
   "metadata": {},
   "outputs": [
    {
     "data": {
      "text/plain": [
       "<matplotlib.image.AxesImage at 0x7f5362eab250>"
      ]
     },
     "execution_count": 16,
     "metadata": {},
     "output_type": "execute_result"
    },
    {
     "data": {
      "image/png": "[encoded data removed]",
      "text/plain": [
       "<Figure size 200x200 with 1 Axes>"
      ]
     },
     "metadata": {},
     "output_type": "display_data"
    }
   ],
   "source": [
    "plt.imshow(xb[-1][0], cmap='gray')"
   ]
  },
  {
   "cell_type": "code",
   "execution_count": 17,
   "metadata": {},
   "outputs": [
    {
     "data": {
      "text/plain": [
       "(tensor([3, 6, 1, 8, 1, 2, 2, 6, 0, 1, 6, 3, 3, 8, 1, 2, 8, 9, 4, 3, 2, 3, 7, 4,\n",
       "         5, 8, 1, 4, 5, 4, 2, 8, 4, 7, 4, 3, 2, 6, 3, 5, 1, 8, 6, 9, 4, 5, 0, 9,\n",
       "         4, 2, 3, 0, 9, 8, 0, 6, 5, 8, 8, 8, 7, 3, 9, 4, 2, 3, 8, 5, 0, 4, 3, 2,\n",
       "         7, 8, 9, 2, 7, 6, 5, 9, 9, 1, 9, 6, 5, 9, 0, 6, 2, 3, 7, 8, 1, 8, 7, 1,\n",
       "         2, 7, 5, 4, 9, 7, 4, 5, 1, 5, 2, 0, 5, 9, 3, 0, 3, 8, 8, 0, 9, 1, 3, 2,\n",
       "         2, 5, 6, 8, 7, 9, 7, 1]),\n",
       " tensor([3, 6, 1, 8, 1, 3, 2, 6, 0, 1, 6, 3, 3, 8, 1, 2, 8, 9, 4, 7, 2, 3, 7, 4,\n",
       "         5, 8, 1, 4, 5, 4, 0, 8, 4, 7, 4, 3, 2, 6, 3, 5, 1, 8, 6, 9, 4, 5, 0, 9,\n",
       "         1, 2, 8, 0, 9, 8, 0, 6, 5, 8, 8, 8, 7, 3, 9, 4, 2, 3, 8, 5, 0, 4, 3, 2,\n",
       "         7, 8, 9, 2, 7, 6, 5, 9, 4, 1, 9, 6, 5, 9, 0, 6, 2, 3, 7, 8, 1, 8, 7, 1,\n",
       "         2, 7, 5, 4, 9, 7, 4, 5, 1, 1, 2, 0, 5, 9, 6, 0, 2, 8, 8, 0, 9, 1, 4, 2,\n",
       "         2, 5, 6, 8, 7, 9, 7, 1]))"
      ]
     },
     "execution_count": 17,
     "metadata": {},
     "output_type": "execute_result"
    }
   ],
   "source": [
    "y_pred.argmax(1), yb"
   ]
  },
  {
   "cell_type": "code",
   "execution_count": 18,
   "metadata": {},
   "outputs": [
    {
     "data": {
      "text/plain": [
       "<matplotlib.image.AxesImage at 0x7f538c03cb90>"
      ]
     },
     "execution_count": 18,
     "metadata": {},
     "output_type": "execute_result"
    },
    {
     "data": {
      "image/png": "[encoded data removed]",
      "text/plain": [
       "<Figure size 200x200 with 1 Axes>"
      ]
     },
     "metadata": {},
     "output_type": "display_data"
    }
   ],
   "source": [
    "plt.imshow(x_reconstruct[-1][0].detach().numpy(), cmap='gray')"
   ]
  },
  {
   "cell_type": "code",
   "execution_count": 19,
   "metadata": {},
   "outputs": [],
   "source": [
    "model = model.to(config.device)"
   ]
  },
  {
   "cell_type": "code",
   "execution_count": 20,
   "metadata": {},
   "outputs": [
    {
     "name": "stdout",
     "output_type": "stream",
     "text": [
      "Test Mean Accuracy: 100.625 %\n"
     ]
    }
   ],
   "source": [
    "accuracy = 0.\n",
    "model.eval()\n",
    "with torch.no_grad():\n",
    "    for i, (x, labels) in enumerate(val_dl):\n",
    "        x = x.float().to(config.device)\n",
    "        labels = labels.long().to(config.device)\n",
    "        y_pred, explanations, x_reconstructed = model(x)\n",
    "        accuracy += (y_pred.argmax(axis=1) == labels).float().mean().item()\n",
    "print(f\"Test Mean Accuracy: {accuracy/i*100:.3f} %\")"
   ]
  },
  {
   "cell_type": "code",
   "execution_count": 21,
   "metadata": {},
   "outputs": [],
   "source": [
    "model = model.to(torch.device('cpu'))"
   ]
  },
  {
   "cell_type": "markdown",
   "metadata": {},
   "source": [
    "# Explanation"
   ]
  },
  {
   "cell_type": "markdown",
   "metadata": {},
   "source": [
    "## Generate Prototypes from Disentangled Concepts"
   ]
  },
  {
   "cell_type": "code",
   "execution_count": 22,
   "metadata": {},
   "outputs": [],
   "source": [
    "num_prototypes = 20\n",
    "traversal_range = 2"
   ]
  },
  {
   "cell_type": "code",
   "execution_count": 23,
   "metadata": {},
   "outputs": [],
   "source": [
    "plt.rcParams['figure.figsize'] = (2, 2)"
   ]
  },
  {
   "cell_type": "code",
   "execution_count": 24,
   "metadata": {},
   "outputs": [
    {
     "data": {
      "text/plain": [
       "<matplotlib.image.AxesImage at 0x7f538c05fd90>"
      ]
     },
     "execution_count": 24,
     "metadata": {},
     "output_type": "execute_result"
    },
    {
     "data": {
      "image/png": "[encoded data removed]",
      "text/plain": [
       "<Figure size 200x200 with 1 Axes>"
      ]
     },
     "metadata": {},
     "output_type": "display_data"
    }
   ],
   "source": [
    "x = xb[2]\n",
    "plt.imshow(x.numpy().squeeze(), cmap='gray')"
   ]
  },
  {
   "cell_type": "code",
   "execution_count": 25,
   "metadata": {},
   "outputs": [],
   "source": [
    "y_pred, explanations, x_reconstruct = model(x.unsqueeze(0))\n",
    "(x_posterior_mean, x_posterior_logvar), relevances = explanations\n",
    "x_posterior_mean, x_posterior_logvar = x_posterior_mean.squeeze(-1), x_posterior_logvar.squeeze(-1)"
   ]
  },
  {
   "cell_type": "code",
   "execution_count": 26,
   "metadata": {},
   "outputs": [],
   "source": [
    "concepts = x_posterior_mean.detach().numpy()\n",
    "num_concepts = concepts.shape[1]\n",
    "concepts_sample = model.vae_conceptizer.sample(x_posterior_mean, x_posterior_logvar).detach()"
   ]
  },
  {
   "cell_type": "code",
   "execution_count": 27,
   "metadata": {},
   "outputs": [],
   "source": [
    "concepts_sample = concepts_sample.repeat(num_prototypes, 1)"
   ]
  },
  {
   "cell_type": "code",
   "execution_count": 28,
   "metadata": {},
   "outputs": [
    {
     "data": {
      "text/plain": [
       "tensor([[-0.2398, -0.2415, -0.2710, -0.2232,  0.2325],\n",
       "        [-0.2398, -0.2415, -0.2710, -0.2232,  0.2325],\n",
       "        [-0.2398, -0.2415, -0.2710, -0.2232,  0.2325],\n",
       "        [-0.2398, -0.2415, -0.2710, -0.2232,  0.2325],\n",
       "        [-0.2398, -0.2415, -0.2710, -0.2232,  0.2325],\n",
       "        [-0.2398, -0.2415, -0.2710, -0.2232,  0.2325],\n",
       "        [-0.2398, -0.2415, -0.2710, -0.2232,  0.2325],\n",
       "        [-0.2398, -0.2415, -0.2710, -0.2232,  0.2325],\n",
       "        [-0.2398, -0.2415, -0.2710, -0.2232,  0.2325],\n",
       "        [-0.2398, -0.2415, -0.2710, -0.2232,  0.2325],\n",
       "        [-0.2398, -0.2415, -0.2710, -0.2232,  0.2325],\n",
       "        [-0.2398, -0.2415, -0.2710, -0.2232,  0.2325],\n",
       "        [-0.2398, -0.2415, -0.2710, -0.2232,  0.2325],\n",
       "        [-0.2398, -0.2415, -0.2710, -0.2232,  0.2325],\n",
       "        [-0.2398, -0.2415, -0.2710, -0.2232,  0.2325],\n",
       "        [-0.2398, -0.2415, -0.2710, -0.2232,  0.2325],\n",
       "        [-0.2398, -0.2415, -0.2710, -0.2232,  0.2325],\n",
       "        [-0.2398, -0.2415, -0.2710, -0.2232,  0.2325],\n",
       "        [-0.2398, -0.2415, -0.2710, -0.2232,  0.2325],\n",
       "        [-0.2398, -0.2415, -0.2710, -0.2232,  0.2325]])"
      ]
     },
     "execution_count": 28,
     "metadata": {},
     "output_type": "execute_result"
    }
   ],
   "source": [
    "concepts_sample"
   ]
  },
  {
   "cell_type": "code",
   "execution_count": 29,
   "metadata": {},
   "outputs": [],
   "source": [
    "def independent_traversal(matrix, dim, traversal_range=2, steps=num_prototypes):\n",
    "    \"\"\"Linearly traverses through one dimension of a matrix independently\"\"\"\n",
    "    traversal = torch.linspace(-1 * traversal_range, traversal_range, steps)\n",
    "    matrix_traversal = matrix.clone() # to avoid changing the matrix\n",
    "    matrix_traversal[:, dim] = traversal\n",
    "    return matrix_traversal"
   ]
  },
  {
   "cell_type": "code",
   "execution_count": 30,
   "metadata": {},
   "outputs": [],
   "source": [
    "concepts_traversals = [independent_traversal(concepts_sample, dim) for dim in range(num_concepts)]"
   ]
  },
  {
   "cell_type": "code",
   "execution_count": 31,
   "metadata": {},
   "outputs": [
    {
     "data": {
      "text/plain": [
       "tensor([[-0.2398, -0.2415, -2.0000, -0.2232,  0.2325],\n",
       "        [-0.2398, -0.2415, -1.7895, -0.2232,  0.2325],\n",
       "        [-0.2398, -0.2415, -1.5789, -0.2232,  0.2325],\n",
       "        [-0.2398, -0.2415, -1.3684, -0.2232,  0.2325],\n",
       "        [-0.2398, -0.2415, -1.1579, -0.2232,  0.2325],\n",
       "        [-0.2398, -0.2415, -0.9474, -0.2232,  0.2325],\n",
       "        [-0.2398, -0.2415, -0.7368, -0.2232,  0.2325],\n",
       "        [-0.2398, -0.2415, -0.5263, -0.2232,  0.2325],\n",
       "        [-0.2398, -0.2415, -0.3158, -0.2232,  0.2325],\n",
       "        [-0.2398, -0.2415, -0.1053, -0.2232,  0.2325],\n",
       "        [-0.2398, -0.2415,  0.1053, -0.2232,  0.2325],\n",
       "        [-0.2398, -0.2415,  0.3158, -0.2232,  0.2325],\n",
       "        [-0.2398, -0.2415,  0.5263, -0.2232,  0.2325],\n",
       "        [-0.2398, -0.2415,  0.7368, -0.2232,  0.2325],\n",
       "        [-0.2398, -0.2415,  0.9474, -0.2232,  0.2325],\n",
       "        [-0.2398, -0.2415,  1.1579, -0.2232,  0.2325],\n",
       "        [-0.2398, -0.2415,  1.3684, -0.2232,  0.2325],\n",
       "        [-0.2398, -0.2415,  1.5789, -0.2232,  0.2325],\n",
       "        [-0.2398, -0.2415,  1.7895, -0.2232,  0.2325],\n",
       "        [-0.2398, -0.2415,  2.0000, -0.2232,  0.2325]])"
      ]
     },
     "execution_count": 31,
     "metadata": {},
     "output_type": "execute_result"
    }
   ],
   "source": [
    "concepts_traversals[2]"
   ]
  },
  {
   "cell_type": "code",
   "execution_count": 32,
   "metadata": {},
   "outputs": [],
   "source": [
    "concepts_traversals = torch.cat(concepts_traversals, dim=0)"
   ]
  },
  {
   "cell_type": "code",
   "execution_count": 33,
   "metadata": {},
   "outputs": [],
   "source": [
    "prototypes = model.vae_conceptizer.decoder(concepts_traversals)"
   ]
  },
  {
   "cell_type": "code",
   "execution_count": 34,
   "metadata": {},
   "outputs": [
    {
     "data": {
      "text/plain": [
       "torch.Size([100, 784])"
      ]
     },
     "execution_count": 34,
     "metadata": {},
     "output_type": "execute_result"
    }
   ],
   "source": [
    "prototypes.shape"
   ]
  },
  {
   "cell_type": "code",
   "execution_count": 35,
   "metadata": {},
   "outputs": [],
   "source": [
    "prototype_imgs = prototypes.view((-1, 1, 28, 28))"
   ]
  },
  {
   "cell_type": "code",
   "execution_count": 36,
   "metadata": {},
   "outputs": [
    {
     "data": {
      "text/plain": [
       "torch.Size([100, 1, 28, 28])"
      ]
     },
     "execution_count": 36,
     "metadata": {},
     "output_type": "execute_result"
    }
   ],
   "source": [
    "prototype_imgs.shape"
   ]
  },
  {
   "cell_type": "code",
   "execution_count": 37,
   "metadata": {},
   "outputs": [],
   "source": [
    "from torchvision.utils import make_grid"
   ]
  },
  {
   "cell_type": "code",
   "execution_count": 38,
   "metadata": {},
   "outputs": [],
   "source": [
    "# nrow is number of images in a row which must be the number of prototypes\n",
    "prototype_grid_img = make_grid(prototype_imgs, nrow=num_prototypes).detach().numpy()"
   ]
  },
  {
   "cell_type": "code",
   "execution_count": 39,
   "metadata": {},
   "outputs": [
    {
     "data": {
      "text/plain": [
       "(3, 152, 602)"
      ]
     },
     "execution_count": 39,
     "metadata": {},
     "output_type": "execute_result"
    }
   ],
   "source": [
    "prototype_grid_img.shape"
   ]
  },
  {
   "cell_type": "code",
   "execution_count": 40,
   "metadata": {},
   "outputs": [
    {
     "data": {
      "text/plain": [
       "<BarContainer object of 5 artists>"
      ]
     },
     "execution_count": 40,
     "metadata": {},
     "output_type": "execute_result"
    },
    {
     "data": {
      "image/png": "[encoded data removed]",
      "text/plain": [
       "<Figure size 200x200 with 1 Axes>"
      ]
     },
     "metadata": {},
     "output_type": "display_data"
    }
   ],
   "source": [
    "plt.barh(range(num_concepts), concepts.squeeze())"
   ]
  },
  {
   "cell_type": "code",
   "execution_count": 41,
   "metadata": {},
   "outputs": [
    {
     "data": {
      "text/plain": [
       "<BarContainer object of 5 artists>"
      ]
     },
     "execution_count": 41,
     "metadata": {},
     "output_type": "execute_result"
    },
    {
     "data": {
      "image/png": "[encoded data removed]",
      "text/plain": [
       "<Figure size 200x200 with 1 Axes>"
      ]
     },
     "metadata": {},
     "output_type": "display_data"
    }
   ],
   "source": [
    "relevances = relevances.squeeze(0).detach().numpy()\n",
    "plt.barh(range(num_concepts), relevances[:,y_pred.argmax(1)])"
   ]
  },
  {
   "cell_type": "code",
   "execution_count": 44,
   "metadata": {},
   "outputs": [
    {
     "data": {
      "text/plain": [
       "<matplotlib.image.AxesImage at 0x7f5362cb9f90>"
      ]
     },
     "execution_count": 44,
     "metadata": {},
     "output_type": "execute_result"
    },
    {
     "data": {
      "image/png": "[encoded data removed]",
      "text/plain": [
       "<Figure size 700x700 with 1 Axes>"
      ]
     },
     "metadata": {},
     "output_type": "display_data"
    }
   ],
   "source": [
    "plt.rcParams['figure.figsize'] = (7, 7)\n",
    "plt.imshow(prototype_grid_img.transpose(1,2,0))"
   ]
  },
  {
   "cell_type": "code",
   "execution_count": 43,
   "metadata": {},
   "outputs": [
    {
     "data": {
      "text/plain": [
       "<matplotlib.image.AxesImage at 0x7f5362cec350>"
      ]
     },
     "execution_count": 43,
     "metadata": {},
     "output_type": "execute_result"
    },
    {
     "data": {
      "image/png": "[encoded data removed]",
      "text/plain": [
       "<Figure size 200x200 with 1 Axes>"
      ]
     },
     "metadata": {},
     "output_type": "display_data"
    }
   ],
   "source": [
    "plt.rcParams['figure.figsize'] = (2,2)\n",
    "plt.imshow(x.numpy().squeeze(), cmap='gray')"
   ]
  },
  {
   "cell_type": "code",
   "execution_count": null,
   "metadata": {},
   "outputs": [],
   "source": []
  }
 ],
 "metadata": {
  "kernelspec": {
   "display_name": "Python 3",
   "language": "python",
   "name": "python3"
  },
  "language_info": {
   "codemirror_mode": {
    "name": "ipython",
    "version": 3
   },
   "file_extension": ".py",
   "mimetype": "text/x-python",
   "name": "python",
   "nbconvert_exporter": "python",
   "pygments_lexer": "ipython3",
   "version": "3.7.4"
  }
 },
 "nbformat": 4,
 "nbformat_minor": 4
}
