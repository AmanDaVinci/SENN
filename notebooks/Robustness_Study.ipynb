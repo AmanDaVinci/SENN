{
 "cells": [
  {
   "cell_type": "code",
   "execution_count": 1,
   "metadata": {},
   "outputs": [],
   "source": [
    "import sys\n",
    "sys.path.append(\"..\")\n",
    "\n",
    "import numpy as np\n",
    "import matplotlib.pyplot as plt\n",
    "import torch\n",
    "import torch.nn as nn\n",
    "from datasets.dataloaders import load_mnist\n",
    "\n",
    "%load_ext autoreload\n",
    "%autoreload 2"
   ]
  },
  {
   "cell_type": "code",
   "execution_count": 2,
   "metadata": {},
   "outputs": [],
   "source": [
    "BATCH_SIZE = 200\n",
    "\n",
    "_, _, test_loader = load_mnist(\"../datasets/data/mnist_data\", BATCH_SIZE)"
   ]
  },
  {
   "cell_type": "code",
   "execution_count": 3,
   "metadata": {},
   "outputs": [],
   "source": [
    "from utils.MNIST_autoencoder import AETrainer, MODEL_FILENAME\n",
    "\n",
    "ae_trainer = AETrainer(test_loader, BATCH_SIZE)\n",
    "ae_trainer.load_model(MODEL_FILENAME)"
   ]
  },
  {
   "cell_type": "code",
   "execution_count": 4,
   "metadata": {},
   "outputs": [],
   "source": [
    "latents = ae_trainer.get_latent_reps(test_loader)"
   ]
  },
  {
   "cell_type": "code",
   "execution_count": 5,
   "metadata": {},
   "outputs": [],
   "source": [
    "distances, indices = ae_trainer.get_most_similar(latents, latents[0], 5)"
   ]
  },
  {
   "cell_type": "code",
   "execution_count": 12,
   "metadata": {
    "collapsed": true
   },
   "outputs": [
    {
     "name": "stdout",
     "output_type": "stream",
     "text": [
      "==================================================\n",
      " EXPERIMENT: test_mnist_l3\n",
      "==================================================\n",
      "{'aggregator': 'SumAggregator',\n",
      " 'batch_size': 200,\n",
      " 'cl_sizes': [1, 10, 20],\n",
      " 'concept_dim': 1,\n",
      " 'concept_reg': 1,\n",
      " 'concept_visualization': 'activation',\n",
      " 'conceptizer': 'ConvConceptizer',\n",
      " 'data_path': 'datasets/data/mnist_data',\n",
      " 'dataloader': 'mnist',\n",
      " 'device': 'cpu',\n",
      " 'dropout': 0.5,\n",
      " 'epochs': 5,\n",
      " 'eval_freq': 270,\n",
      " 'exp_name': 'test_mnist_l3',\n",
      " 'hidden_sizes': [320, 50],\n",
      " 'image_size': 28,\n",
      " 'load_checkpoint': 'best_model.pt',\n",
      " 'lr': 0.0002,\n",
      " 'num_classes': 10,\n",
      " 'num_concepts': 5,\n",
      " 'parameterizer': 'ConvParameterizer',\n",
      " 'print_freq': 100,\n",
      " 'robust_reg': 0.001,\n",
      " 'sparsity_reg': 2e-05,\n",
      " 'train': True}\n",
      "SENN(\n",
      "  (conceptizer): ConvConceptizer(\n",
      "    (encoder): ModuleList(\n",
      "      (0): Sequential(\n",
      "        (0): Conv2d(1, 10, kernel_size=(5, 5), stride=(1, 1))\n",
      "        (1): MaxPool2d(kernel_size=2, stride=2, padding=0, dilation=1, ceil_mode=False)\n",
      "        (2): ReLU(inplace=True)\n",
      "      )\n",
      "      (1): Sequential(\n",
      "        (0): Conv2d(10, 5, kernel_size=(5, 5), stride=(1, 1))\n",
      "        (1): MaxPool2d(kernel_size=2, stride=2, padding=0, dilation=1, ceil_mode=False)\n",
      "        (2): ReLU(inplace=True)\n",
      "      )\n",
      "      (2): ScalarMapping(\n",
      "        (layers): ModuleList(\n",
      "          (0): Linear(in_features=16, out_features=1, bias=True)\n",
      "          (1): Linear(in_features=16, out_features=1, bias=True)\n",
      "          (2): Linear(in_features=16, out_features=1, bias=True)\n",
      "          (3): Linear(in_features=16, out_features=1, bias=True)\n",
      "          (4): Linear(in_features=16, out_features=1, bias=True)\n",
      "        )\n",
      "      )\n",
      "    )\n",
      "    (decoder): ModuleList(\n",
      "      (0): Sequential(\n",
      "        (0): ConvTranspose2d(5, 16, kernel_size=(5, 5), stride=(2, 2))\n",
      "      )\n",
      "      (1): ReLU(inplace=True)\n",
      "      (2): Sequential(\n",
      "        (0): ConvTranspose2d(16, 8, kernel_size=(5, 5), stride=(1, 1))\n",
      "      )\n",
      "      (3): ReLU(inplace=True)\n",
      "      (4): Sequential(\n",
      "        (0): ConvTranspose2d(8, 1, kernel_size=(2, 2), stride=(2, 2), padding=(1, 1))\n",
      "      )\n",
      "      (5): Tanh()\n",
      "    )\n",
      "    (unlinear): Linear(in_features=1, out_features=16, bias=True)\n",
      "  )\n",
      "  (parameterizer): ConvParameterizer(\n",
      "    (cl_layers): Sequential(\n",
      "      (0): Conv2d(1, 10, kernel_size=(5, 5), stride=(1, 1))\n",
      "      (1): MaxPool2d(kernel_size=2, stride=2, padding=0, dilation=1, ceil_mode=False)\n",
      "      (2): ReLU()\n",
      "      (3): Conv2d(10, 20, kernel_size=(5, 5), stride=(1, 1))\n",
      "      (4): Dropout2d(p=0.5, inplace=False)\n",
      "      (5): MaxPool2d(kernel_size=2, stride=2, padding=0, dilation=1, ceil_mode=False)\n",
      "      (6): ReLU()\n",
      "    )\n",
      "    (fc_layers): Sequential(\n",
      "      (0): Linear(in_features=320, out_features=50, bias=True)\n",
      "      (1): Dropout(p=0.5, inplace=False)\n",
      "      (2): Tanh()\n",
      "    )\n",
      "  )\n",
      "  (aggregator): SumAggregator()\n",
      ")\n",
      "Trainable Parameters: 28219\n",
      "\n",
      "Loading data ...\n",
      "Loading checkpoint...\n",
      "Checkpoint loaded successfully from 'results/test_mnist_l3/checkpoints/best_model.pt'\n",
      "\n"
     ]
    }
   ],
   "source": [
    "from trainer import init_trainer\n",
    "\n",
    "trainer = init_trainer(\"configs/ml_3.json\", best_model=True)"
   ]
  },
  {
   "cell_type": "code",
   "execution_count": 13,
   "metadata": {},
   "outputs": [],
   "source": [
    "image_indices = np.append(indices[0], 888)\n",
    "image_indices = indices[0]"
   ]
  },
  {
   "cell_type": "code",
   "execution_count": 14,
   "metadata": {
    "scrolled": true
   },
   "outputs": [
    {
     "data": {
      "image/png": "[encoded data removed]",
      "text/plain": [
       "<Figure size 748.8x514.8 with 15 Axes>"
      ]
     },
     "metadata": {
      "needs_background": "light"
     },
     "output_type": "display_data"
    }
   ],
   "source": [
    "from utils.plot_utils import get_comparison_plot\n",
    "\n",
    "imgs = torch.stack([test_loader.dataset[index][0] for index in image_indices])\n",
    "\n",
    "fig = get_comparison_plot(imgs, trainer.model)\n",
    "fig.tight_layout()"
   ]
  }
 ],
 "metadata": {
  "kernelspec": {
   "display_name": "Python 3",
   "language": "python",
   "name": "python3"
  },
  "language_info": {
   "codemirror_mode": {
    "name": "ipython",
    "version": 3
   },
   "file_extension": ".py",
   "mimetype": "text/x-python",
   "name": "python",
   "nbconvert_exporter": "python",
   "pygments_lexer": "ipython3",
   "version": "3.7.5"
  }
 },
 "nbformat": 4,
 "nbformat_minor": 4
}
