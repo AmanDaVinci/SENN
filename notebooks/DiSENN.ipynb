{
 "cells": [
  {
   "cell_type": "markdown",
   "metadata": {},
   "source": [
    "# DiSENN: Self-Explaining Neural Networks with Disentanglement\n",
    "---"
   ]
  },
  {
   "cell_type": "markdown",
   "metadata": {},
   "source": [
    "## Import libraries"
   ]
  },
  {
   "cell_type": "code",
   "execution_count": 1,
   "metadata": {},
   "outputs": [],
   "source": [
    "import sys\n",
    "sys.path.append('..')"
   ]
  },
  {
   "cell_type": "code",
   "execution_count": 2,
   "metadata": {},
   "outputs": [],
   "source": [
    "import torch\n",
    "import torch.nn as nn\n",
    "from torchvision.utils import make_grid\n",
    "import numpy as np\n",
    "from pathlib import Path\n",
    "from types import SimpleNamespace\n",
    "import matplotlib.pyplot as plt\n",
    "\n",
    "%matplotlib inline"
   ]
  },
  {
   "cell_type": "code",
   "execution_count": 3,
   "metadata": {},
   "outputs": [],
   "source": [
    "from models.losses import *\n",
    "from models.parameterizer import ConvParameterizer\n",
    "from models.conceptizer import ConvConceptizer, VaeConceptizer\n",
    "from models.aggregator import SumAggregator"
   ]
  },
  {
   "cell_type": "markdown",
   "metadata": {},
   "source": [
    "## Configuration"
   ]
  },
  {
   "cell_type": "code",
   "execution_count": 4,
   "metadata": {},
   "outputs": [],
   "source": [
    "plt.style.use('seaborn-paper')"
   ]
  },
  {
   "cell_type": "code",
   "execution_count": 5,
   "metadata": {},
   "outputs": [],
   "source": [
    "config = {\n",
    "  \"model_class\": \"DiSENN\",\n",
    "  \"conceptizer\": \"VaeConceptizer\",\n",
    "  \"pretrain_epochs\": 1,\n",
    "  \"pre_beta\": 1.0,\n",
    "  \"beta\": 4.0,\n",
    "  \"concept_loss\": \"BVAE_loss\",\n",
    "  \"robustness_loss\": \"mnist_robustness_loss\",\n",
    "  \"train\": True,\n",
    "  \"image_size\": 28,\n",
    "  \"concept_dim\": 1,\n",
    "  \"concept_visualization\": None,\n",
    "  \"parameterizer\": \"ConvParameterizer\",\n",
    "  \"cl_sizes\": [1, 10, 20],\n",
    "  \"hidden_sizes\": [320, 50],\n",
    "  \"num_concepts\": 5,\n",
    "  \"num_classes\": 10,\n",
    "  \"dropout\": 0.5,\n",
    "  \"aggregator\": \"SumAggregator\",\n",
    "  \"device\": \"cpu\",\n",
    "  \"lr\": 1e-3,\n",
    "  \"epochs\": 5,\n",
    "  \"robust_reg\": 1e-3,\n",
    "  \"concept_reg\": 1,\n",
    "  \"print_freq\": 50,\n",
    "  \"exp_name\": \"MNIST_DiSENN\",\n",
    "  \"dataloader\": \"mnist\",\n",
    "  \"data_path\": \"datasets/data/mnist_data\",\n",
    "  \"batch_size\" : 128,\n",
    "  \"eval_freq\" : 100\n",
    "}\n",
    "config = SimpleNamespace(**config)"
   ]
  },
  {
   "cell_type": "markdown",
   "metadata": {},
   "source": [
    "config = {\n",
    "  \"model_class\": \"DiSENN\",\n",
    "  \"conceptizer\": \"VaeConceptizer\",\n",
    "  \"pretrain_epochs\": 3,\n",
    "  \"beta\": 4.0,\n",
    "  \"concept_loss\": \"BVAE_loss\",\n",
    "  \"robustness_loss\": \"mnist_robustness_loss\",\n",
    "  \"train\": True,\n",
    "  \"image_size\": 28,\n",
    "  \"concept_dim\": 1,\n",
    "  \"concept_visualization\": None,\n",
    "  \"parameterizer\": \"ConvParameterizer\",\n",
    "  \"cl_sizes\": [1, 10, 20],\n",
    "  \"hidden_sizes\": [320, 50],\n",
    "  \"num_concepts\": 5,\n",
    "  \"num_classes\": 10,\n",
    "  \"dropout\": 0.5,\n",
    "  \"aggregator\": \"SumAggregator\",\n",
    "  \"device\": \"cuda:0\",\n",
    "  \"lr\": 1e-3,\n",
    "  \"epochs\": 5,\n",
    "  \"robust_reg\": 1e-3,\n",
    "  \"concept_reg\": 1,\n",
    "  \"print_freq\": 50,\n",
    "  \"exp_name\": \"mnist_bvae_default\",\n",
    "  \"dataloader\": \"mnist\",\n",
    "  \"data_path\": \"datasets/data/mnist_data\",\n",
    "  \"batch_size\" : 128,\n",
    "  \"eval_freq\" : 100\n",
    "}\n",
    "config = SimpleNamespace(**config)"
   ]
  },
  {
   "cell_type": "markdown",
   "metadata": {},
   "source": [
    "config = {\n",
    "  \"model_class\": \"DiSENN\",\n",
    "  \"conceptizer\": \"VaeConceptizer\",\n",
    "  \"pretrain_epochs\": 3,\n",
    "  \"beta\": 4.0,\n",
    "  \"concept_loss\": \"BVAE_loss\",\n",
    "  \"robustness_loss\": \"mnist_robustness_loss\",\n",
    "  \"train\": True,\n",
    "  \"image_size\": 28,\n",
    "  \"concept_dim\": 1,\n",
    "  \"concept_visualization\": None,\n",
    "  \"parameterizer\": \"ConvParameterizer\",\n",
    "  \"hidden_sizes\": [320, 100],\n",
    "  \"num_concepts\": 10,\n",
    "  \"num_classes\": 10,\n",
    "  \"dropout\": 0.5,\n",
    "  \"aggregator\": \"SumAggregator\",\n",
    "  \"device\": \"cuda:0\",\n",
    "  \"lr\": 1e-3,\n",
    "  \"epochs\": 5,\n",
    "  \"robust_reg\": 1e-3,\n",
    "  \"concept_reg\": 1,\n",
    "  \"print_freq\": 50,\n",
    "  \"exp_name\": \"mnist_bvae_concepts10\",\n",
    "  \"dataloader\": \"mnist\",\n",
    "  \"data_path\": \"datasets/data/mnist_data\",\n",
    "  \"batch_size\" : 128,\n",
    "  \"eval_freq\" : 100\n",
    "}\n",
    "config = SimpleNamespace(**config)"
   ]
  },
  {
   "cell_type": "markdown",
   "metadata": {},
   "source": [
    "config = {\n",
    "  \"model_class\": \"DiSENN\",\n",
    "  \"conceptizer\": \"VaeConceptizer\",\n",
    "  \"pretrain_epochs\": 3,\n",
    "  \"beta\": 4.0,\n",
    "  \"concept_loss\": \"BVAE_loss\",\n",
    "  \"robustness_loss\": \"mnist_robustness_loss\",\n",
    "  \"train\": True,\n",
    "  \"image_size\": 28,\n",
    "  \"concept_dim\": 1,\n",
    "  \"concept_visualization\": None,\n",
    "  \"parameterizer\": \"ConvParameterizer\",\n",
    "  \"hidden_sizes\": [320, 200],\n",
    "  \"num_concepts\": 20,\n",
    "  \"num_classes\": 10,\n",
    "  \"dropout\": 0.5,\n",
    "  \"aggregator\": \"SumAggregator\",\n",
    "  \"device\": \"cpu\",\n",
    "  \"lr\": 1e-3,\n",
    "  \"epochs\": 5,\n",
    "  \"robust_reg\": 1e-3,\n",
    "  \"concept_reg\": 1,\n",
    "  \"print_freq\": 50,\n",
    "  \"exp_name\": \"mnist_bvae_concepts20\",\n",
    "  \"dataloader\": \"mnist\",\n",
    "  \"data_path\": \"datasets/data/mnist_data\",\n",
    "  \"batch_size\" : 128,\n",
    "  \"eval_freq\" : 100\n",
    "}\n",
    "config = SimpleNamespace(**config)"
   ]
  },
  {
   "cell_type": "markdown",
   "metadata": {},
   "source": [
    "# DiSENN\n",
    "DiSENN (Self-Explaining Neural Networks with Disentanglement) is an extension of the Self-Explaining Neural Network proposed by [1]  "
   ]
  },
  {
   "cell_type": "markdown",
   "metadata": {},
   "source": [
    "DiSENN incorporates a constrained variational inference framework on a \n",
    "SENN Concept Encoder to learn disentangled representations of the \n",
    "basis concepts as in [2]. The basis concepts are then independently\n",
    "sensitive to single generative factors leading to better interpretability \n",
    "and lesser overlap with other basis concepts. Such a strong constraint \n",
    "better fulfills the \"diversity\" desiderata for basis concepts\n",
    "in a Self-Explaining Neural Network.\n",
    "\n",
    "\n",
    "References  \n",
    "[1] Alvarez Melis, et al.\n",
    "\"Towards Robust Interpretability with Self-Explaining Neural Networks\" NIPS 2018  \n",
    "[2] Irina Higgins, et al. \n",
    "”β-VAE: Learning basic visual concepts with a constrained variational framework.” ICLR 2017. "
   ]
  },
  {
   "cell_type": "code",
   "execution_count": 6,
   "metadata": {},
   "outputs": [],
   "source": [
    "from models.senn import DiSENN"
   ]
  },
  {
   "cell_type": "markdown",
   "metadata": {},
   "source": [
    "## Load Data"
   ]
  },
  {
   "cell_type": "code",
   "execution_count": 7,
   "metadata": {},
   "outputs": [],
   "source": [
    "from datasets.dataloaders import get_dataloader\n",
    "train_dl, val_dl, _ = get_dataloader(config)"
   ]
  },
  {
   "cell_type": "markdown",
   "metadata": {},
   "source": [
    "## Training"
   ]
  },
  {
   "cell_type": "markdown",
   "metadata": {},
   "source": [
    "from trainer import DiSENNTrainer"
   ]
  },
  {
   "cell_type": "code",
   "execution_count": 9,
   "metadata": {},
   "outputs": [
    {
     "name": "stdout",
     "output_type": "stream",
     "text": [
      "Using device cuda:0\n",
      "Loading data ...\n",
      "SENN(\n",
      "  (conceptizer): VaeConceptizer(\n",
      "    (encoder): VaeEncoder(\n",
      "      (FC): Sequential(\n",
      "        (0): Flatten()\n",
      "        (1): Linear(in_features=784, out_features=512, bias=True)\n",
      "        (2): ReLU()\n",
      "        (3): Linear(in_features=512, out_features=256, bias=True)\n",
      "        (4): ReLU()\n",
      "        (5): Linear(in_features=256, out_features=100, bias=True)\n",
      "        (6): ReLU()\n",
      "      )\n",
      "      (mean_layer): Linear(in_features=100, out_features=5, bias=True)\n",
      "      (logvar_layer): Linear(in_features=100, out_features=5, bias=True)\n",
      "    )\n",
      "    (decoder): VaeDecoder(\n",
      "      (FC): Sequential(\n",
      "        (0): Linear(in_features=5, out_features=100, bias=True)\n",
      "        (1): ReLU()\n",
      "        (2): Linear(in_features=100, out_features=256, bias=True)\n",
      "        (3): ReLU()\n",
      "        (4): Linear(in_features=256, out_features=512, bias=True)\n",
      "        (5): ReLU()\n",
      "        (6): Linear(in_features=512, out_features=784, bias=True)\n",
      "      )\n",
      "    )\n",
      "  )\n",
      "  (parameterizer): ConvParameterizer(\n",
      "    (cl_layers): Sequential(\n",
      "      (0): Conv2d(1, 10, kernel_size=(5, 5), stride=(1, 1))\n",
      "      (1): MaxPool2d(kernel_size=2, stride=2, padding=0, dilation=1, ceil_mode=False)\n",
      "      (2): ReLU()\n",
      "      (3): Conv2d(10, 20, kernel_size=(5, 5), stride=(1, 1))\n",
      "      (4): Dropout2d(p=0.5, inplace=False)\n",
      "      (5): MaxPool2d(kernel_size=2, stride=2, padding=0, dilation=1, ceil_mode=False)\n",
      "      (6): ReLU()\n",
      "    )\n",
      "    (fc_layers): Sequential(\n",
      "      (0): Linear(in_features=320, out_features=50, bias=True)\n",
      "      (1): Dropout(p=0.5, inplace=False)\n",
      "      (2): Tanh()\n",
      "    )\n",
      "  )\n",
      "  (aggregator): SumAggregator()\n",
      ")\n",
      "Trainable Parameters: 1141520\n",
      "\n",
      "Reinstantiating for DiSENN ...\n",
      "DiSENN(\n",
      "  (vae_conceptizer): VaeConceptizer(\n",
      "    (encoder): VaeEncoder(\n",
      "      (FC): Sequential(\n",
      "        (0): Flatten()\n",
      "        (1): Linear(in_features=784, out_features=512, bias=True)\n",
      "        (2): ReLU()\n",
      "        (3): Linear(in_features=512, out_features=256, bias=True)\n",
      "        (4): ReLU()\n",
      "        (5): Linear(in_features=256, out_features=100, bias=True)\n",
      "        (6): ReLU()\n",
      "      )\n",
      "      (mean_layer): Linear(in_features=100, out_features=5, bias=True)\n",
      "      (logvar_layer): Linear(in_features=100, out_features=5, bias=True)\n",
      "    )\n",
      "    (decoder): VaeDecoder(\n",
      "      (FC): Sequential(\n",
      "        (0): Linear(in_features=5, out_features=100, bias=True)\n",
      "        (1): ReLU()\n",
      "        (2): Linear(in_features=100, out_features=256, bias=True)\n",
      "        (3): ReLU()\n",
      "        (4): Linear(in_features=256, out_features=512, bias=True)\n",
      "        (5): ReLU()\n",
      "        (6): Linear(in_features=512, out_features=784, bias=True)\n",
      "      )\n",
      "    )\n",
      "  )\n",
      "  (parameterizer): ConvParameterizer(\n",
      "    (cl_layers): Sequential(\n",
      "      (0): Conv2d(1, 10, kernel_size=(5, 5), stride=(1, 1))\n",
      "      (1): MaxPool2d(kernel_size=2, stride=2, padding=0, dilation=1, ceil_mode=False)\n",
      "      (2): ReLU()\n",
      "      (3): Conv2d(10, 20, kernel_size=(5, 5), stride=(1, 1))\n",
      "      (4): Dropout2d(p=0.5, inplace=False)\n",
      "      (5): MaxPool2d(kernel_size=2, stride=2, padding=0, dilation=1, ceil_mode=False)\n",
      "      (6): ReLU()\n",
      "    )\n",
      "    (fc_layers): Sequential(\n",
      "      (0): Linear(in_features=320, out_features=50, bias=True)\n",
      "      (1): Dropout(p=0.5, inplace=False)\n",
      "      (2): Tanh()\n",
      "    )\n",
      "  )\n",
      "  (aggregator): SumAggregator()\n",
      ")\n",
      "Trainable Parameters: 1141520\n",
      "\n",
      "Pre-training the Conceptizer... \n",
      "EPOCH:0 STEP:0 \tConcept Loss: 1.264 Recon Loss: 1.256 KL Div: 0.008\n",
      "EPOCH:0 STEP:50 \tConcept Loss: 0.798 Recon Loss: 0.798 KL Div: 0.000\n",
      "EPOCH:0 STEP:100 \tConcept Loss: 0.822 Recon Loss: 0.822 KL Div: 0.000\n",
      "EPOCH:0 STEP:150 \tConcept Loss: 0.801 Recon Loss: 0.801 KL Div: 0.000\n",
      "EPOCH:0 STEP:200 \tConcept Loss: 0.814 Recon Loss: 0.814 KL Div: 0.000\n",
      "EPOCH:0 STEP:250 \tConcept Loss: 0.824 Recon Loss: 0.824 KL Div: 0.000\n",
      "EPOCH:0 STEP:300 \tConcept Loss: 0.802 Recon Loss: 0.802 KL Div: 0.000\n",
      "EPOCH:0 STEP:350 \tConcept Loss: 0.819 Recon Loss: 0.819 KL Div: 0.000\n",
      "EPOCH:0 STEP:400 \tConcept Loss: 0.809 Recon Loss: 0.809 KL Div: 0.000\n",
      "Training begins...\n",
      "EPOCH:0 STEP:0\n",
      "Total Loss:3.112 Accuracy:0.102 Classification Loss:2.303 Robustness Loss:0.047 Concept Loss:0.809 Recon Loss: 0.809 KL Div: 0.000 \n",
      "EPOCH:0 STEP:50\n",
      "Total Loss:2.983 Accuracy:0.578 Classification Loss:2.096 Robustness Loss:0.690 Concept Loss:0.886 Recon Loss: 0.798 KL Div: 0.022 \n",
      "\n",
      "\u001b[93m-------- Validation --------\n",
      "Total Loss:2.670 Accuracy:0.871 Classification Loss:1.721 Robustness Loss:0.000 Concept Loss:0.949 Recon Loss: 0.789 KL Div: 0.035 \n",
      "----------------------------\u001b[0m\n",
      "\u001b[92mCongratulations! Saving a new best model...\u001b[00m\n",
      "Checkpoint saved @ results/MNIST_DiSENN/checkpoints/best_model.pt\n",
      "\n",
      "Saving model ...\n",
      "Checkpoint saved @ results/MNIST_DiSENN/checkpoints/Epoch[0]-Step[100].pt\n",
      "\n",
      "EPOCH:0 STEP:100\n",
      "Total Loss:2.677 Accuracy:0.867 Classification Loss:1.749 Robustness Loss:1.074 Concept Loss:0.927 Recon Loss: 0.786 KL Div: 0.035 \n",
      "EPOCH:0 STEP:150\n",
      "Total Loss:2.410 Accuracy:0.914 Classification Loss:1.310 Robustness Loss:2.381 Concept Loss:1.098 Recon Loss: 0.719 KL Div: 0.095 \n",
      "\n",
      "\u001b[93m-------- Validation --------\n",
      "Total Loss:2.363 Accuracy:0.946 Classification Loss:1.231 Robustness Loss:0.000 Concept Loss:1.132 Recon Loss: 0.715 KL Div: 0.103 \n",
      "----------------------------\u001b[0m\n",
      "\u001b[92mCongratulations! Saving a new best model...\u001b[00m\n",
      "Checkpoint saved @ results/MNIST_DiSENN/checkpoints/best_model.pt\n",
      "\n",
      "Saving model ...\n",
      "Checkpoint saved @ results/MNIST_DiSENN/checkpoints/Epoch[0]-Step[200].pt\n",
      "\n",
      "EPOCH:0 STEP:200\n",
      "Total Loss:2.367 Accuracy:0.977 Classification Loss:1.229 Robustness Loss:2.323 Concept Loss:1.136 Recon Loss: 0.738 KL Div: 0.100 \n",
      "EPOCH:0 STEP:250\n",
      "Total Loss:2.327 Accuracy:0.914 Classification Loss:1.218 Robustness Loss:2.456 Concept Loss:1.106 Recon Loss: 0.694 KL Div: 0.103 \n",
      "\n",
      "\u001b[93m-------- Validation --------\n",
      "Total Loss:2.288 Accuracy:0.961 Classification Loss:1.129 Robustness Loss:0.000 Concept Loss:1.159 Recon Loss: 0.714 KL Div: 0.120 \n",
      "----------------------------\u001b[0m\n",
      "\u001b[92mCongratulations! Saving a new best model...\u001b[00m\n",
      "Checkpoint saved @ results/MNIST_DiSENN/checkpoints/best_model.pt\n",
      "\n",
      "Saving model ...\n",
      "Checkpoint saved @ results/MNIST_DiSENN/checkpoints/Epoch[0]-Step[300].pt\n",
      "\n",
      "EPOCH:0 STEP:300\n",
      "Total Loss:2.322 Accuracy:0.953 Classification Loss:1.171 Robustness Loss:2.478 Concept Loss:1.148 Recon Loss: 0.713 KL Div: 0.109 \n",
      "EPOCH:0 STEP:350\n",
      "Total Loss:2.261 Accuracy:0.977 Classification Loss:1.085 Robustness Loss:2.761 Concept Loss:1.172 Recon Loss: 0.688 KL Div: 0.121 \n",
      "\n",
      "\u001b[93m-------- Validation --------\n",
      "Total Loss:2.251 Accuracy:0.966 Classification Loss:1.095 Robustness Loss:0.000 Concept Loss:1.157 Recon Loss: 0.700 KL Div: 0.117 \n",
      "----------------------------\u001b[0m\n",
      "\u001b[92mCongratulations! Saving a new best model...\u001b[00m\n",
      "Checkpoint saved @ results/MNIST_DiSENN/checkpoints/best_model.pt\n",
      "\n",
      "Saving model ...\n",
      "Checkpoint saved @ results/MNIST_DiSENN/checkpoints/Epoch[0]-Step[400].pt\n",
      "\n",
      "EPOCH:0 STEP:400\n",
      "Total Loss:2.221 Accuracy:0.969 Classification Loss:1.059 Robustness Loss:2.589 Concept Loss:1.159 Recon Loss: 0.687 KL Div: 0.118 \n",
      "Checkpoint saved @ results/MNIST_DiSENN/checkpoints/Epoch[0]-Step[421].pt\n",
      "\n",
      "EPOCH:1 STEP:0\n",
      "Total Loss:3.005 Accuracy:0.805 Classification Loss:1.687 Robustness Loss:3.623 Concept Loss:1.315 Recon Loss: 0.861 KL Div: 0.113 \n",
      "EPOCH:1 STEP:50\n",
      "Total Loss:2.850 Accuracy:0.812 Classification Loss:1.844 Robustness Loss:2.520 Concept Loss:1.004 Recon Loss: 0.784 KL Div: 0.055 \n",
      "\n",
      "\u001b[93m-------- Validation --------\n",
      "Total Loss:2.417 Accuracy:0.963 Classification Loss:1.390 Robustness Loss:0.000 Concept Loss:1.026 Recon Loss: 0.835 KL Div: 0.048 \n",
      "----------------------------\u001b[0m\n",
      "Saving model ...\n",
      "Checkpoint saved @ results/MNIST_DiSENN/checkpoints/Epoch[1]-Step[500].pt\n",
      "\n",
      "EPOCH:1 STEP:100\n",
      "Total Loss:2.232 Accuracy:0.969 Classification Loss:1.010 Robustness Loss:3.123 Concept Loss:1.219 Recon Loss: 0.774 KL Div: 0.111 \n",
      "EPOCH:1 STEP:150\n",
      "Total Loss:2.201 Accuracy:0.977 Classification Loss:0.977 Robustness Loss:3.286 Concept Loss:1.221 Recon Loss: 0.742 KL Div: 0.120 \n",
      "\n",
      "\u001b[93m-------- Validation --------\n",
      "Total Loss:2.146 Accuracy:0.969 Classification Loss:0.935 Robustness Loss:0.000 Concept Loss:1.211 Recon Loss: 0.667 KL Div: 0.132 \n",
      "----------------------------\u001b[0m\n",
      "\u001b[92mCongratulations! Saving a new best model...\u001b[00m\n",
      "Checkpoint saved @ results/MNIST_DiSENN/checkpoints/best_model.pt\n",
      "\n",
      "Saving model ...\n",
      "Checkpoint saved @ results/MNIST_DiSENN/checkpoints/Epoch[1]-Step[600].pt\n",
      "\n",
      "EPOCH:1 STEP:200\n",
      "Total Loss:2.119 Accuracy:0.953 Classification Loss:0.949 Robustness Loss:2.796 Concept Loss:1.167 Recon Loss: 0.674 KL Div: 0.123 \n",
      "EPOCH:1 STEP:250\n",
      "Total Loss:2.112 Accuracy:0.977 Classification Loss:0.909 Robustness Loss:2.966 Concept Loss:1.200 Recon Loss: 0.688 KL Div: 0.128 \n",
      "\n",
      "\u001b[93m-------- Validation --------\n",
      "Total Loss:2.126 Accuracy:0.973 Classification Loss:0.927 Robustness Loss:0.000 Concept Loss:1.199 Recon Loss: 0.700 KL Div: 0.127 \n",
      "----------------------------\u001b[0m\n",
      "\u001b[92mCongratulations! Saving a new best model...\u001b[00m\n",
      "Checkpoint saved @ results/MNIST_DiSENN/checkpoints/best_model.pt\n",
      "\n",
      "Saving model ...\n",
      "Checkpoint saved @ results/MNIST_DiSENN/checkpoints/Epoch[1]-Step[700].pt\n",
      "\n",
      "EPOCH:1 STEP:300\n",
      "Total Loss:2.143 Accuracy:0.969 Classification Loss:0.966 Robustness Loss:2.996 Concept Loss:1.174 Recon Loss: 0.700 KL Div: 0.118 \n",
      "EPOCH:1 STEP:350\n",
      "Total Loss:2.092 Accuracy:0.984 Classification Loss:0.893 Robustness Loss:2.768 Concept Loss:1.197 Recon Loss: 0.679 KL Div: 0.129 \n",
      "\n",
      "\u001b[93m-------- Validation --------\n",
      "Total Loss:2.118 Accuracy:0.974 Classification Loss:0.926 Robustness Loss:0.000 Concept Loss:1.192 Recon Loss: 0.696 KL Div: 0.126 \n",
      "----------------------------\u001b[0m\n",
      "\u001b[92mCongratulations! Saving a new best model...\u001b[00m\n",
      "Checkpoint saved @ results/MNIST_DiSENN/checkpoints/best_model.pt\n",
      "\n",
      "Saving model ...\n",
      "Checkpoint saved @ results/MNIST_DiSENN/checkpoints/Epoch[1]-Step[800].pt\n",
      "\n",
      "EPOCH:1 STEP:400\n",
      "Total Loss:2.155 Accuracy:0.961 Classification Loss:0.959 Robustness Loss:3.220 Concept Loss:1.192 Recon Loss: 0.700 KL Div: 0.123 \n",
      "Checkpoint saved @ results/MNIST_DiSENN/checkpoints/Epoch[1]-Step[842].pt\n",
      "\n",
      "EPOCH:2 STEP:0\n",
      "Total Loss:3.052 Accuracy:0.797 Classification Loss:1.686 Robustness Loss:5.912 Concept Loss:1.361 Recon Loss: 0.873 KL Div: 0.122 \n",
      "EPOCH:2 STEP:50\n",
      "Total Loss:2.903 Accuracy:0.859 Classification Loss:1.811 Robustness Loss:2.545 Concept Loss:1.089 Recon Loss: 0.855 KL Div: 0.059 \n",
      "\n",
      "\u001b[93m-------- Validation --------\n",
      "Total Loss:2.330 Accuracy:0.972 Classification Loss:1.296 Robustness Loss:0.000 Concept Loss:1.034 Recon Loss: 0.793 KL Div: 0.059 \n",
      "----------------------------\u001b[0m\n",
      "Saving model ...\n",
      "Checkpoint saved @ results/MNIST_DiSENN/checkpoints/Epoch[2]-Step[900].pt\n",
      "\n",
      "EPOCH:2 STEP:100\n",
      "Total Loss:2.077 Accuracy:0.992 Classification Loss:0.830 Robustness Loss:3.083 Concept Loss:1.244 Recon Loss: 0.727 KL Div: 0.129 \n",
      "EPOCH:2 STEP:150\n",
      "Total Loss:2.025 Accuracy:0.992 Classification Loss:0.822 Robustness Loss:2.783 Concept Loss:1.201 Recon Loss: 0.670 KL Div: 0.133 \n",
      "\n",
      "\u001b[93m-------- Validation --------\n",
      "Total Loss:2.058 Accuracy:0.975 Classification Loss:0.879 Robustness Loss:0.000 Concept Loss:1.179 Recon Loss: 0.684 KL Div: 0.124 \n",
      "----------------------------\u001b[0m\n",
      "\u001b[92mCongratulations! Saving a new best model...\u001b[00m\n",
      "Checkpoint saved @ results/MNIST_DiSENN/checkpoints/best_model.pt\n",
      "\n",
      "Saving model ...\n",
      "Checkpoint saved @ results/MNIST_DiSENN/checkpoints/Epoch[2]-Step[1000].pt\n",
      "\n",
      "EPOCH:2 STEP:200\n",
      "Total Loss:2.045 Accuracy:0.984 Classification Loss:0.839 Robustness Loss:2.878 Concept Loss:1.204 Recon Loss: 0.684 KL Div: 0.130 \n",
      "EPOCH:2 STEP:250\n",
      "Total Loss:2.082 Accuracy:0.969 Classification Loss:0.895 Robustness Loss:4.134 Concept Loss:1.183 Recon Loss: 0.682 KL Div: 0.125 \n",
      "\n",
      "\u001b[93m-------- Validation --------\n",
      "Total Loss:2.049 Accuracy:0.977 Classification Loss:0.851 Robustness Loss:0.000 Concept Loss:1.199 Recon Loss: 0.675 KL Div: 0.130 \n",
      "----------------------------\u001b[0m\n",
      "\u001b[92mCongratulations! Saving a new best model...\u001b[00m\n",
      "Checkpoint saved @ results/MNIST_DiSENN/checkpoints/best_model.pt\n",
      "\n",
      "Saving model ...\n",
      "Checkpoint saved @ results/MNIST_DiSENN/checkpoints/Epoch[2]-Step[1100].pt\n",
      "\n",
      "EPOCH:2 STEP:300\n",
      "Total Loss:2.065 Accuracy:0.969 Classification Loss:0.836 Robustness Loss:3.153 Concept Loss:1.225 Recon Loss: 0.687 KL Div: 0.134 \n",
      "EPOCH:2 STEP:350\n",
      "Total Loss:2.016 Accuracy:0.961 Classification Loss:0.837 Robustness Loss:2.946 Concept Loss:1.176 Recon Loss: 0.654 KL Div: 0.130 \n",
      "\n",
      "\u001b[93m-------- Validation --------\n",
      "Total Loss:2.042 Accuracy:0.977 Classification Loss:0.839 Robustness Loss:0.000 Concept Loss:1.203 Recon Loss: 0.682 KL Div: 0.128 \n",
      "----------------------------\u001b[0m\n",
      "Saving model ...\n",
      "Checkpoint saved @ results/MNIST_DiSENN/checkpoints/Epoch[2]-Step[1200].pt\n",
      "\n",
      "EPOCH:2 STEP:400\n",
      "Total Loss:2.052 Accuracy:0.977 Classification Loss:0.866 Robustness Loss:3.581 Concept Loss:1.182 Recon Loss: 0.668 KL Div: 0.128 \n",
      "Checkpoint saved @ results/MNIST_DiSENN/checkpoints/Epoch[2]-Step[1263].pt\n",
      "\n",
      "EPOCH:3 STEP:0\n",
      "Total Loss:2.987 Accuracy:0.859 Classification Loss:1.603 Robustness Loss:7.064 Concept Loss:1.376 Recon Loss: 0.867 KL Div: 0.127 \n",
      "\n",
      "\u001b[93m-------- Validation --------\n",
      "Total Loss:2.259 Accuracy:0.976 Classification Loss:1.238 Robustness Loss:0.000 Concept Loss:1.020 Recon Loss: 0.789 KL Div: 0.057 \n",
      "----------------------------\u001b[0m\n",
      "Saving model ...\n",
      "Checkpoint saved @ results/MNIST_DiSENN/checkpoints/Epoch[3]-Step[1300].pt\n",
      "\n",
      "EPOCH:3 STEP:50\n",
      "Total Loss:2.134 Accuracy:0.977 Classification Loss:0.974 Robustness Loss:3.064 Concept Loss:1.157 Recon Loss: 0.752 KL Div: 0.101 \n",
      "EPOCH:3 STEP:100\n",
      "Total Loss:2.020 Accuracy:0.984 Classification Loss:0.831 Robustness Loss:3.890 Concept Loss:1.185 Recon Loss: 0.658 KL Div: 0.132 \n",
      "\n",
      "\u001b[93m-------- Validation --------\n",
      "Total Loss:2.010 Accuracy:0.978 Classification Loss:0.807 Robustness Loss:0.000 Concept Loss:1.204 Recon Loss: 0.691 KL Div: 0.130 \n",
      "----------------------------\u001b[0m\n",
      "\u001b[92mCongratulations! Saving a new best model...\u001b[00m\n",
      "Checkpoint saved @ results/MNIST_DiSENN/checkpoints/best_model.pt\n",
      "\n",
      "Saving model ...\n",
      "Checkpoint saved @ results/MNIST_DiSENN/checkpoints/Epoch[3]-Step[1400].pt\n",
      "\n",
      "EPOCH:3 STEP:150\n",
      "Total Loss:1.991 Accuracy:0.984 Classification Loss:0.790 Robustness Loss:3.359 Concept Loss:1.197 Recon Loss: 0.667 KL Div: 0.132 \n",
      "EPOCH:3 STEP:200\n",
      "Total Loss:2.008 Accuracy:0.992 Classification Loss:0.775 Robustness Loss:3.120 Concept Loss:1.230 Recon Loss: 0.693 KL Div: 0.134 \n",
      "\n",
      "\u001b[93m-------- Validation --------\n",
      "Total Loss:2.002 Accuracy:0.979 Classification Loss:0.808 Robustness Loss:0.000 Concept Loss:1.194 Recon Loss: 0.668 KL Div: 0.131 \n",
      "----------------------------\u001b[0m\n",
      "\u001b[92mCongratulations! Saving a new best model...\u001b[00m\n",
      "Checkpoint saved @ results/MNIST_DiSENN/checkpoints/best_model.pt\n",
      "\n",
      "Saving model ...\n",
      "Checkpoint saved @ results/MNIST_DiSENN/checkpoints/Epoch[3]-Step[1500].pt\n",
      "\n",
      "EPOCH:3 STEP:250\n",
      "Total Loss:1.994 Accuracy:0.977 Classification Loss:0.809 Robustness Loss:3.358 Concept Loss:1.182 Recon Loss: 0.660 KL Div: 0.130 \n",
      "EPOCH:3 STEP:300\n",
      "Total Loss:2.029 Accuracy:0.977 Classification Loss:0.826 Robustness Loss:3.887 Concept Loss:1.199 Recon Loss: 0.674 KL Div: 0.131 \n",
      "\n",
      "\u001b[93m-------- Validation --------\n",
      "Total Loss:2.000 Accuracy:0.979 Classification Loss:0.787 Robustness Loss:0.000 Concept Loss:1.213 Recon Loss: 0.676 KL Div: 0.137 \n",
      "----------------------------\u001b[0m\n",
      "\u001b[92mCongratulations! Saving a new best model...\u001b[00m\n",
      "Checkpoint saved @ results/MNIST_DiSENN/checkpoints/best_model.pt\n",
      "\n",
      "Saving model ...\n",
      "Checkpoint saved @ results/MNIST_DiSENN/checkpoints/Epoch[3]-Step[1600].pt\n",
      "\n",
      "EPOCH:3 STEP:350\n",
      "Total Loss:1.971 Accuracy:0.984 Classification Loss:0.805 Robustness Loss:4.095 Concept Loss:1.162 Recon Loss: 0.640 KL Div: 0.131 \n",
      "EPOCH:3 STEP:400\n",
      "Total Loss:2.025 Accuracy:0.969 Classification Loss:0.836 Robustness Loss:3.607 Concept Loss:1.186 Recon Loss: 0.667 KL Div: 0.130 \n",
      "Checkpoint saved @ results/MNIST_DiSENN/checkpoints/Epoch[3]-Step[1684].pt\n",
      "\n",
      "EPOCH:4 STEP:0\n",
      "Total Loss:2.896 Accuracy:0.898 Classification Loss:1.522 Robustness Loss:6.331 Concept Loss:1.367 Recon Loss: 0.836 KL Div: 0.133 \n",
      "\n",
      "\u001b[93m-------- Validation --------\n",
      "Total Loss:2.114 Accuracy:0.979 Classification Loss:1.092 Robustness Loss:0.000 Concept Loss:1.022 Recon Loss: 0.719 KL Div: 0.076 \n",
      "----------------------------\u001b[0m\n",
      "Saving model ...\n",
      "Checkpoint saved @ results/MNIST_DiSENN/checkpoints/Epoch[4]-Step[1700].pt\n",
      "\n",
      "EPOCH:4 STEP:50\n",
      "Total Loss:1.996 Accuracy:0.984 Classification Loss:0.808 Robustness Loss:3.280 Concept Loss:1.185 Recon Loss: 0.681 KL Div: 0.126 \n",
      "EPOCH:4 STEP:100\n",
      "Total Loss:1.970 Accuracy:0.977 Classification Loss:0.769 Robustness Loss:3.279 Concept Loss:1.198 Recon Loss: 0.661 KL Div: 0.134 \n",
      "\n",
      "\u001b[93m-------- Validation --------\n",
      "Total Loss:1.984 Accuracy:0.981 Classification Loss:0.805 Robustness Loss:0.000 Concept Loss:1.179 Recon Loss: 0.677 KL Div: 0.130 \n",
      "----------------------------\u001b[0m\n",
      "\u001b[92mCongratulations! Saving a new best model...\u001b[00m\n",
      "Checkpoint saved @ results/MNIST_DiSENN/checkpoints/best_model.pt\n",
      "\n",
      "Saving model ...\n",
      "Checkpoint saved @ results/MNIST_DiSENN/checkpoints/Epoch[4]-Step[1800].pt\n",
      "\n",
      "EPOCH:4 STEP:150\n",
      "Total Loss:1.989 Accuracy:0.984 Classification Loss:0.789 Robustness Loss:3.729 Concept Loss:1.196 Recon Loss: 0.672 KL Div: 0.131 \n",
      "EPOCH:4 STEP:200\n",
      "Total Loss:1.987 Accuracy:0.984 Classification Loss:0.772 Robustness Loss:4.129 Concept Loss:1.211 Recon Loss: 0.669 KL Div: 0.136 \n",
      "\n",
      "\u001b[93m-------- Validation --------\n",
      "Total Loss:1.977 Accuracy:0.980 Classification Loss:0.794 Robustness Loss:0.000 Concept Loss:1.183 Recon Loss: 0.655 KL Div: 0.131 \n",
      "----------------------------\u001b[0m\n",
      "Saving model ...\n",
      "Checkpoint saved @ results/MNIST_DiSENN/checkpoints/Epoch[4]-Step[1900].pt\n",
      "\n",
      "EPOCH:4 STEP:250\n",
      "Total Loss:1.971 Accuracy:0.992 Classification Loss:0.774 Robustness Loss:3.798 Concept Loss:1.193 Recon Loss: 0.664 KL Div: 0.132 \n",
      "EPOCH:4 STEP:300\n",
      "Total Loss:2.014 Accuracy:0.992 Classification Loss:0.797 Robustness Loss:4.798 Concept Loss:1.213 Recon Loss: 0.687 KL Div: 0.132 \n",
      "\n",
      "\u001b[93m-------- Validation --------\n",
      "Total Loss:1.972 Accuracy:0.980 Classification Loss:0.779 Robustness Loss:0.000 Concept Loss:1.193 Recon Loss: 0.653 KL Div: 0.133 \n",
      "----------------------------\u001b[0m\n",
      "Saving model ...\n",
      "Checkpoint saved @ results/MNIST_DiSENN/checkpoints/Epoch[4]-Step[2000].pt\n",
      "\n",
      "EPOCH:4 STEP:350\n",
      "Total Loss:1.989 Accuracy:0.992 Classification Loss:0.807 Robustness Loss:3.470 Concept Loss:1.179 Recon Loss: 0.667 KL Div: 0.128 \n",
      "EPOCH:4 STEP:400\n",
      "Total Loss:1.955 Accuracy:0.984 Classification Loss:0.772 Robustness Loss:3.850 Concept Loss:1.179 Recon Loss: 0.646 KL Div: 0.133 \n",
      "\n",
      "\u001b[93m-------- Validation --------\n",
      "Total Loss:1.970 Accuracy:0.983 Classification Loss:0.785 Robustness Loss:0.000 Concept Loss:1.185 Recon Loss: 0.657 KL Div: 0.133 \n",
      "----------------------------\u001b[0m\n",
      "\u001b[92mCongratulations! Saving a new best model...\u001b[00m\n",
      "Checkpoint saved @ results/MNIST_DiSENN/checkpoints/best_model.pt\n",
      "\n",
      "Saving model ...\n",
      "Checkpoint saved @ results/MNIST_DiSENN/checkpoints/Epoch[4]-Step[2100].pt\n",
      "\n",
      "Checkpoint saved @ results/MNIST_DiSENN/checkpoints/Epoch[4]-Step[2105].pt\n",
      "\n",
      "Please wait while we finalize...\n",
      "Checkpoint saved @ results/MNIST_DiSENN/checkpoints/Epoch[4]-Step[2105].pt\n",
      "\n"
     ]
    }
   ],
   "source": [
    "trainer = DiSENNTrainer(config)\n",
    "trainer.run()\n",
    "trainer.finalize()"
   ]
  },
  {
   "cell_type": "markdown",
   "metadata": {},
   "source": [
    "## Load Trained Model"
   ]
  },
  {
   "cell_type": "code",
   "execution_count": 8,
   "metadata": {},
   "outputs": [],
   "source": [
    "conceptizer = eval(config.conceptizer)(**config.__dict__)\n",
    "parameterizer = eval(config.parameterizer)(**config.__dict__)\n",
    "aggregator = eval(config.aggregator)(**config.__dict__)"
   ]
  },
  {
   "cell_type": "code",
   "execution_count": 9,
   "metadata": {},
   "outputs": [],
   "source": [
    "model = DiSENN(conceptizer, parameterizer, aggregator)"
   ]
  },
  {
   "cell_type": "code",
   "execution_count": 10,
   "metadata": {},
   "outputs": [
    {
     "name": "stdout",
     "output_type": "stream",
     "text": [
      "Loading trained model: results/MNIST_DiSENN/checkpoints/best_model.pt\n"
     ]
    }
   ],
   "source": [
    "checkpoint_path = Path('results')\n",
    "model_file = checkpoint_path / config.exp_name / \"checkpoints\" / \"best_model.pt\" \n",
    "checkpoint = torch.load(model_file, config.device)\n",
    "print(f\"Loading trained model: {model_file}\")"
   ]
  },
  {
   "cell_type": "code",
   "execution_count": 11,
   "metadata": {},
   "outputs": [
    {
     "data": {
      "text/plain": [
       "<All keys matched successfully>"
      ]
     },
     "execution_count": 11,
     "metadata": {},
     "output_type": "execute_result"
    }
   ],
   "source": [
    "model.load_state_dict(checkpoint['model_state'])"
   ]
  },
  {
   "cell_type": "markdown",
   "metadata": {},
   "source": [
    "# Classification"
   ]
  },
  {
   "cell_type": "code",
   "execution_count": 12,
   "metadata": {},
   "outputs": [],
   "source": [
    "xb, yb = next(iter(val_dl))\n",
    "y_pred, explanations, x_reconstruct = model(xb)"
   ]
  },
  {
   "cell_type": "code",
   "execution_count": 13,
   "metadata": {},
   "outputs": [
    {
     "data": {
      "text/plain": [
       "<matplotlib.image.AxesImage at 0x7f7290c55810>"
      ]
     },
     "execution_count": 13,
     "metadata": {},
     "output_type": "execute_result"
    },
    {
     "data": {
      "image/png": "[encoded data removed]",
      "text/plain": [
       "<Figure size 144x144 with 1 Axes>"
      ]
     },
     "metadata": {
      "needs_background": "light"
     },
     "output_type": "display_data"
    }
   ],
   "source": [
    "plt.rcParams['figure.figsize'] = (2, 2)\n",
    "plt.imshow(xb[-1][0], cmap='gray')"
   ]
  },
  {
   "cell_type": "code",
   "execution_count": 14,
   "metadata": {},
   "outputs": [
    {
     "data": {
      "text/plain": [
       "<matplotlib.image.AxesImage at 0x7f7290b74590>"
      ]
     },
     "execution_count": 14,
     "metadata": {},
     "output_type": "execute_result"
    },
    {
     "data": {
      "image/png": "[encoded data removed]",
      "text/plain": [
       "<Figure size 144x144 with 1 Axes>"
      ]
     },
     "metadata": {
      "needs_background": "light"
     },
     "output_type": "display_data"
    }
   ],
   "source": [
    "plt.imshow(x_reconstruct[-1][0].detach().numpy(), cmap='gray')"
   ]
  },
  {
   "cell_type": "code",
   "execution_count": 15,
   "metadata": {},
   "outputs": [],
   "source": [
    "model = model.to(config.device)"
   ]
  },
  {
   "cell_type": "code",
   "execution_count": 16,
   "metadata": {},
   "outputs": [
    {
     "name": "stdout",
     "output_type": "stream",
     "text": [
      "Test Mean Accuracy: 100.0 %\n"
     ]
    }
   ],
   "source": [
    "accuracy = 0.\n",
    "model.eval()\n",
    "with torch.no_grad():\n",
    "    for i, (x, labels) in enumerate(val_dl):\n",
    "        x = x.float().to(config.device)\n",
    "        labels = labels.long().to(config.device)\n",
    "        y_pred, explanations, x_reconstructed = model(x)\n",
    "        accuracy += (y_pred.argmax(axis=1) == labels).float().mean().item()\n",
    "print(f\"Test Mean Accuracy: {accuracy//i * 100} %\")"
   ]
  },
  {
   "cell_type": "code",
   "execution_count": 17,
   "metadata": {},
   "outputs": [],
   "source": [
    "model = model.to(torch.device('cpu'))"
   ]
  },
  {
   "cell_type": "markdown",
   "metadata": {},
   "source": [
    "# Explanation"
   ]
  },
  {
   "cell_type": "markdown",
   "metadata": {},
   "source": [
    "## Generate Prototypes from Disentangled Concepts"
   ]
  },
  {
   "cell_type": "code",
   "execution_count": 19,
   "metadata": {},
   "outputs": [
    {
     "data": {
      "text/plain": [
       "tensor([[ 32],\n",
       "        [ 48],\n",
       "        [ 50],\n",
       "        [ 64],\n",
       "        [ 70],\n",
       "        [ 73],\n",
       "        [ 85],\n",
       "        [ 99],\n",
       "        [117]])"
      ]
     },
     "execution_count": 19,
     "metadata": {},
     "output_type": "execute_result"
    }
   ],
   "source": [
    "(yb==3).nonzero()"
   ]
  },
  {
   "cell_type": "code",
   "execution_count": 20,
   "metadata": {},
   "outputs": [
    {
     "data": {
      "image/png": "[encoded data removed]",
      "text/plain": [
       "<Figure size 1296x216 with 4 Axes>"
      ]
     },
     "metadata": {
      "needs_background": "light"
     },
     "output_type": "display_data"
    }
   ],
   "source": [
    "x = xb[32].cpu()\n",
    "fname = \"/digit3a.png\"\n",
    "model.explain(x, traversal_range=0.45,\n",
    "              gridsize=(1,6), col_span=3, figure_size=(18,3), show=True,\n",
    "              save_as=\"results/\"+config.exp_name+fname, use_cdf=True)"
   ]
  },
  {
   "cell_type": "code",
   "execution_count": 21,
   "metadata": {},
   "outputs": [
    {
     "data": {
      "image/png": "[encoded data removed]",
      "text/plain": [
       "<Figure size 1296x216 with 4 Axes>"
      ]
     },
     "metadata": {
      "needs_background": "light"
     },
     "output_type": "display_data"
    }
   ],
   "source": [
    "x = xb[48].cpu()\n",
    "fname = \"/digit3b.png\"\n",
    "model.explain(x, traversal_range=0.45,\n",
    "              gridsize=(1,6), col_span=3, figure_size=(18,3), show=True,\n",
    "              save_as=\"results/\"+config.exp_name+fname, use_cdf=True)"
   ]
  },
  {
   "cell_type": "markdown",
   "metadata": {},
   "source": [
    "# Experiment: Balance of Performance Accuracy and Explanation Interpretability"
   ]
  },
  {
   "cell_type": "markdown",
   "metadata": {},
   "source": [
    "## Load Trained Model at low KL Divergence\n",
    "```\n",
    "Accuracy:0.979 Classification Loss:1.092 Robustness Loss:0.000 Concept Loss:1.022 Recon Loss: 0.719 KL Div: 0.076\n",
    "```"
   ]
  },
  {
   "cell_type": "code",
   "execution_count": 22,
   "metadata": {},
   "outputs": [],
   "source": [
    "model_name = \"Epoch[4]-Step[1700].pt\""
   ]
  },
  {
   "cell_type": "code",
   "execution_count": 23,
   "metadata": {},
   "outputs": [],
   "source": [
    "conceptizer = eval(config.conceptizer)(**config.__dict__)\n",
    "parameterizer = eval(config.parameterizer)(**config.__dict__)\n",
    "aggregator = eval(config.aggregator)(**config.__dict__)"
   ]
  },
  {
   "cell_type": "code",
   "execution_count": 24,
   "metadata": {},
   "outputs": [],
   "source": [
    "model = DiSENN(conceptizer, parameterizer, aggregator)"
   ]
  },
  {
   "cell_type": "code",
   "execution_count": 25,
   "metadata": {},
   "outputs": [
    {
     "name": "stdout",
     "output_type": "stream",
     "text": [
      "Loading trained model: results/MNIST_DiSENN/checkpoints/Epoch[4]-Step[1700].pt\n"
     ]
    }
   ],
   "source": [
    "checkpoint_path = Path('results')\n",
    "model_file = checkpoint_path / config.exp_name / \"checkpoints\" / model_name \n",
    "checkpoint = torch.load(model_file, config.device)\n",
    "print(f\"Loading trained model: {model_file}\")"
   ]
  },
  {
   "cell_type": "code",
   "execution_count": 26,
   "metadata": {},
   "outputs": [
    {
     "data": {
      "text/plain": [
       "<All keys matched successfully>"
      ]
     },
     "execution_count": 26,
     "metadata": {},
     "output_type": "execute_result"
    }
   ],
   "source": [
    "model.load_state_dict(checkpoint['model_state'])"
   ]
  },
  {
   "cell_type": "markdown",
   "metadata": {},
   "source": [
    "# Classification"
   ]
  },
  {
   "cell_type": "code",
   "execution_count": 27,
   "metadata": {},
   "outputs": [],
   "source": [
    "xb, yb = next(iter(val_dl))\n",
    "y_pred, explanations, x_reconstruct = model(xb)"
   ]
  },
  {
   "cell_type": "code",
   "execution_count": 28,
   "metadata": {},
   "outputs": [
    {
     "data": {
      "text/plain": [
       "<matplotlib.image.AxesImage at 0x7f72a0250710>"
      ]
     },
     "execution_count": 28,
     "metadata": {},
     "output_type": "execute_result"
    },
    {
     "data": {
      "image/png": "[encoded data removed]",
      "text/plain": [
       "<Figure size 144x144 with 1 Axes>"
      ]
     },
     "metadata": {
      "needs_background": "light"
     },
     "output_type": "display_data"
    }
   ],
   "source": [
    "plt.rcParams['figure.figsize'] = (2, 2)\n",
    "plt.imshow(xb[-1][0], cmap='gray')"
   ]
  },
  {
   "cell_type": "code",
   "execution_count": 29,
   "metadata": {},
   "outputs": [
    {
     "data": {
      "text/plain": [
       "<matplotlib.image.AxesImage at 0x7f7290b48650>"
      ]
     },
     "execution_count": 29,
     "metadata": {},
     "output_type": "execute_result"
    },
    {
     "data": {
      "image/png": "[encoded data removed]",
      "text/plain": [
       "<Figure size 144x144 with 1 Axes>"
      ]
     },
     "metadata": {
      "needs_background": "light"
     },
     "output_type": "display_data"
    }
   ],
   "source": [
    "plt.imshow(x_reconstruct[-1][0].detach().numpy(), cmap='gray')"
   ]
  },
  {
   "cell_type": "code",
   "execution_count": 30,
   "metadata": {},
   "outputs": [],
   "source": [
    "model = model.to(config.device)"
   ]
  },
  {
   "cell_type": "code",
   "execution_count": 31,
   "metadata": {},
   "outputs": [
    {
     "name": "stdout",
     "output_type": "stream",
     "text": [
      "Test Mean Accuracy: 100.0 %\n"
     ]
    }
   ],
   "source": [
    "accuracy = 0.\n",
    "model.eval()\n",
    "with torch.no_grad():\n",
    "    for i, (x, labels) in enumerate(val_dl):\n",
    "        x = x.float().to(config.device)\n",
    "        labels = labels.long().to(config.device)\n",
    "        y_pred, explanations, x_reconstructed = model(x)\n",
    "        accuracy += (y_pred.argmax(axis=1) == labels).float().mean().item()\n",
    "print(f\"Test Mean Accuracy: {accuracy//i * 100} %\")"
   ]
  },
  {
   "cell_type": "code",
   "execution_count": 32,
   "metadata": {},
   "outputs": [],
   "source": [
    "model = model.to(torch.device('cpu'))"
   ]
  },
  {
   "cell_type": "markdown",
   "metadata": {},
   "source": [
    "# Explanation"
   ]
  },
  {
   "cell_type": "markdown",
   "metadata": {},
   "source": [
    "## Generate Prototypes from Disentangled Concepts"
   ]
  },
  {
   "cell_type": "code",
   "execution_count": 33,
   "metadata": {},
   "outputs": [
    {
     "data": {
      "text/plain": [
       "tensor([[ 23],\n",
       "        [ 27],\n",
       "        [ 36],\n",
       "        [ 38],\n",
       "        [ 40],\n",
       "        [ 43],\n",
       "        [ 60],\n",
       "        [ 61],\n",
       "        [ 63],\n",
       "        [ 67],\n",
       "        [ 92],\n",
       "        [ 98],\n",
       "        [107]])"
      ]
     },
     "execution_count": 33,
     "metadata": {},
     "output_type": "execute_result"
    }
   ],
   "source": [
    "(yb==3).nonzero()"
   ]
  },
  {
   "cell_type": "code",
   "execution_count": 34,
   "metadata": {},
   "outputs": [
    {
     "data": {
      "image/png": "[encoded data removed]",
      "text/plain": [
       "<Figure size 1296x216 with 4 Axes>"
      ]
     },
     "metadata": {
      "needs_background": "light"
     },
     "output_type": "display_data"
    }
   ],
   "source": [
    "x = xb[23].cpu()\n",
    "fname = \"/exp-digit3.png\"\n",
    "model.explain(x, traversal_range=0.45,\n",
    "              gridsize=(1,6), col_span=3, figure_size=(18,3), show=True,\n",
    "              save_as=\"results/\"+config.exp_name+fname, use_cdf=True)"
   ]
  },
  {
   "cell_type": "code",
   "execution_count": 35,
   "metadata": {},
   "outputs": [
    {
     "data": {
      "image/png": "[encoded data removed]",
      "text/plain": [
       "<Figure size 1296x216 with 4 Axes>"
      ]
     },
     "metadata": {
      "needs_background": "light"
     },
     "output_type": "display_data"
    }
   ],
   "source": [
    "x = xb[27].cpu()\n",
    "fname = \"/exp-digit3b.png\"\n",
    "model.explain(x, traversal_range=0.45,\n",
    "              gridsize=(1,6), col_span=3, figure_size=(18,3), show=True,\n",
    "              save_as=\"results/\"+config.exp_name+fname, use_cdf=True)"
   ]
  }
 ],
 "metadata": {
  "kernelspec": {
   "display_name": "Python 3",
   "language": "python",
   "name": "python3"
  },
  "language_info": {
   "codemirror_mode": {
    "name": "ipython",
    "version": 3
   },
   "file_extension": ".py",
   "mimetype": "text/x-python",
   "name": "python",
   "nbconvert_exporter": "python",
   "pygments_lexer": "ipython3",
   "version": "3.7.5"
  }
 },
 "nbformat": 4,
 "nbformat_minor": 4
}
