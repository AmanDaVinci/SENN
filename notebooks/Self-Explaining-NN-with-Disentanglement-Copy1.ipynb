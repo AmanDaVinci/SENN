{
 "cells": [
  {
   "cell_type": "markdown",
   "metadata": {},
   "source": [
    "# Self-Explaining Neural Networks with Disentanglement\n",
    "---"
   ]
  },
  {
   "cell_type": "markdown",
   "metadata": {},
   "source": [
    "## Import libraries"
   ]
  },
  {
   "cell_type": "code",
   "execution_count": 1,
   "metadata": {},
   "outputs": [],
   "source": [
    "import sys\n",
    "sys.path.append('..')"
   ]
  },
  {
   "cell_type": "code",
   "execution_count": 2,
   "metadata": {},
   "outputs": [],
   "source": [
    "import torch\n",
    "import torch.nn as nn\n",
    "import numpy as np\n",
    "from pathlib import Path\n",
    "from types import SimpleNamespace\n",
    "import matplotlib.pyplot as plt\n",
    "\n",
    "%matplotlib inline"
   ]
  },
  {
   "cell_type": "code",
   "execution_count": 3,
   "metadata": {},
   "outputs": [],
   "source": [
    "from models.losses import *\n",
    "from models.parameterizer import ConvParameterizer\n",
    "from models.conceptizer import ConvConceptizer, VaeConceptizer\n",
    "from models.aggregator import SumAggregator"
   ]
  },
  {
   "cell_type": "markdown",
   "metadata": {},
   "source": [
    "## Configuration"
   ]
  },
  {
   "cell_type": "code",
   "execution_count": 4,
   "metadata": {},
   "outputs": [],
   "source": [
    "plt.style.use('seaborn-paper')"
   ]
  },
  {
   "cell_type": "code",
   "execution_count": 5,
   "metadata": {},
   "outputs": [],
   "source": [
    "config = {\n",
    "  \"model_class\": \"DiSENN\",\n",
    "  \"conceptizer\": \"VaeConceptizer\",\n",
    "  \"pretrain_epochs\": 5,\n",
    "  \"beta\": 4.0,\n",
    "  \"concept_loss\": \"BVAE_loss\",\n",
    "  \"robustness_loss\": \"mnist_robustness_loss\",\n",
    "  \"train\": True,\n",
    "  \"image_size\": 28,\n",
    "  \"concept_dim\": 1,\n",
    "  \"concept_visualization\": None,\n",
    "  \"parameterizer\": \"ConvParameterizer\",\n",
    "  \"cl_sizes\": [1, 10, 20],\n",
    "  \"hidden_sizes\": [320, 50],\n",
    "  \"num_concepts\": 5,\n",
    "  \"num_classes\": 10,\n",
    "  \"dropout\": 0.5,\n",
    "  \"aggregator\": \"SumAggregator\",\n",
    "  \"device\": \"cuda:0\",\n",
    "  \"lr\": 2e-3,\n",
    "  \"epochs\": 1,\n",
    "  \"robust_reg\": 1e-3,\n",
    "  \"concept_reg\": 1,\n",
    "  \"print_freq\": 50,\n",
    "  \"exp_name\": \"mnist_bvae_default\",\n",
    "  \"dataloader\": \"mnist\",\n",
    "  \"data_path\": \"datasets/data/mnist_data\",\n",
    "  \"batch_size\" : 128,\n",
    "  \"eval_freq\" : 100\n",
    "}\n",
    "config = SimpleNamespace(**config)"
   ]
  },
  {
   "cell_type": "markdown",
   "metadata": {},
   "source": [
    "# DiSENN\n",
    "DiSENN (Self-Explaining Neural Networks with Disentanglement) is an extension of the Self-Explaining Neural Network proposed by [1]  "
   ]
  },
  {
   "cell_type": "markdown",
   "metadata": {},
   "source": [
    "DiSENN incorporates a constrained variational inference framework on a \n",
    "SENN Concept Encoder to learn disentangled representations of the \n",
    "basis concepts as in [2]. The basis concepts are then independently\n",
    "sensitive to single generative factors leading to better interpretability \n",
    "and lesser overlap with other basis concepts. Such a strong constraint \n",
    "better fulfills the \"diversity\" desiderata for basis concepts\n",
    "in a Self-Explaining Neural Network.\n",
    "\n",
    "\n",
    "References  \n",
    "[1] Alvarez Melis, et al.\n",
    "\"Towards Robust Interpretability with Self-Explaining Neural Networks\" NIPS 2018  \n",
    "[2] Irina Higgins, et al. \n",
    "”β-VAE: Learning basic visual concepts with a constrained variational framework.” ICLR 2017. "
   ]
  },
  {
   "cell_type": "code",
   "execution_count": 6,
   "metadata": {},
   "outputs": [],
   "source": [
    "class DiSENN(nn.Module):\n",
    "    \"\"\"Self-Explaining Neural Network with Disentanglement \"\"\"\n",
    "    \n",
    "    def __init__(self, vae_conceptizer, parameterizer, aggregator):\n",
    "        \"\"\"Instantiates the SENDD with a variational conceptizer, parameterizer and aggregator\"\"\"\n",
    "        super().__init__()\n",
    "        self.vae_conceptizer = vae_conceptizer\n",
    "        self.parameterizer = parameterizer\n",
    "        self.aggregator = aggregator\n",
    "\n",
    "    def forward(self, x):\n",
    "        \"\"\"Forward pass of a DiSENN model\n",
    "        \n",
    "        The forward pass computes a distribution over basis concepts\n",
    "        and the corresponding relevance scores. The mean concepts \n",
    "        and relevance scores are aggregated to generate a prediction.\n",
    "        \"\"\"\n",
    "        concept_mean, concept_logvar, x_reconstruct = self.vae_conceptizer(x)\n",
    "        relevances = self.parameterizer(x)\n",
    "        predictions = self.aggregator(concept_mean, relevances)\n",
    "        explanations = ((concept_mean, concept_logvar), relevances)\n",
    "        return predictions, explanations, x_reconstruct"
   ]
  },
  {
   "cell_type": "markdown",
   "metadata": {},
   "source": [
    "## Load Data"
   ]
  },
  {
   "cell_type": "code",
   "execution_count": 7,
   "metadata": {},
   "outputs": [],
   "source": [
    "from datasets.dataloaders import get_dataloader\n",
    "train_dl, val_dl, _ = get_dataloader(config)"
   ]
  },
  {
   "cell_type": "markdown",
   "metadata": {},
   "source": [
    "## Training"
   ]
  },
  {
   "cell_type": "code",
   "execution_count": 10,
   "metadata": {},
   "outputs": [],
   "source": [
    "from trainer import Trainer"
   ]
  },
  {
   "cell_type": "code",
   "execution_count": 11,
   "metadata": {},
   "outputs": [
    {
     "name": "stdout",
     "output_type": "stream",
     "text": [
      "Using device cuda:0\n",
      "Loading data ...\n",
      "Pre-training the Conceptizer... \n",
      "EPOCH:0 STEP:0 \tConcept Loss: 1.258\n",
      "EPOCH:0 STEP:50 \tConcept Loss: 0.799\n",
      "EPOCH:0 STEP:100 \tConcept Loss: 0.824\n",
      "EPOCH:0 STEP:150 \tConcept Loss: 0.805\n",
      "EPOCH:0 STEP:200 \tConcept Loss: 0.817\n",
      "EPOCH:0 STEP:250 \tConcept Loss: 0.803\n",
      "EPOCH:0 STEP:300 \tConcept Loss: 0.824\n",
      "EPOCH:0 STEP:350 \tConcept Loss: 0.834\n",
      "EPOCH:0 STEP:400 \tConcept Loss: 0.817\n",
      "EPOCH:1 STEP:0 \tConcept Loss: 0.844\n",
      "EPOCH:1 STEP:50 \tConcept Loss: 0.812\n",
      "EPOCH:1 STEP:100 \tConcept Loss: 0.795\n",
      "EPOCH:1 STEP:150 \tConcept Loss: 0.824\n",
      "EPOCH:1 STEP:200 \tConcept Loss: 0.803\n",
      "EPOCH:1 STEP:250 \tConcept Loss: 0.806\n",
      "EPOCH:1 STEP:300 \tConcept Loss: 0.805\n",
      "EPOCH:1 STEP:350 \tConcept Loss: 0.786\n",
      "EPOCH:1 STEP:400 \tConcept Loss: 0.785\n",
      "EPOCH:2 STEP:0 \tConcept Loss: 0.753\n",
      "EPOCH:2 STEP:50 \tConcept Loss: 0.791\n",
      "EPOCH:2 STEP:100 \tConcept Loss: 0.780\n",
      "EPOCH:2 STEP:150 \tConcept Loss: 0.802\n",
      "EPOCH:2 STEP:200 \tConcept Loss: 0.823\n",
      "EPOCH:2 STEP:250 \tConcept Loss: 0.785\n",
      "EPOCH:2 STEP:300 \tConcept Loss: 0.807\n",
      "EPOCH:2 STEP:350 \tConcept Loss: 0.807\n",
      "EPOCH:2 STEP:400 \tConcept Loss: 0.803\n",
      "EPOCH:3 STEP:0 \tConcept Loss: 0.822\n",
      "EPOCH:3 STEP:50 \tConcept Loss: 0.780\n",
      "EPOCH:3 STEP:100 \tConcept Loss: 0.804\n",
      "EPOCH:3 STEP:150 \tConcept Loss: 0.790\n",
      "EPOCH:3 STEP:200 \tConcept Loss: 0.778\n",
      "EPOCH:3 STEP:250 \tConcept Loss: 0.788\n",
      "EPOCH:3 STEP:300 \tConcept Loss: 0.811\n",
      "EPOCH:3 STEP:350 \tConcept Loss: 0.806\n",
      "EPOCH:3 STEP:400 \tConcept Loss: 0.798\n",
      "EPOCH:4 STEP:0 \tConcept Loss: 0.830\n",
      "EPOCH:4 STEP:50 \tConcept Loss: 0.811\n",
      "EPOCH:4 STEP:100 \tConcept Loss: 0.807\n",
      "EPOCH:4 STEP:150 \tConcept Loss: 0.796\n",
      "EPOCH:4 STEP:200 \tConcept Loss: 0.819\n",
      "EPOCH:4 STEP:250 \tConcept Loss: 0.808\n",
      "EPOCH:4 STEP:300 \tConcept Loss: 0.797\n",
      "EPOCH:4 STEP:350 \tConcept Loss: 0.785\n",
      "EPOCH:4 STEP:400 \tConcept Loss: 0.812\n",
      "DiSENN(\n",
      "  (vae_conceptizer): VaeConceptizer(\n",
      "    (encoder): VaeEncoder(\n",
      "      (FC): Sequential(\n",
      "        (0): Flatten()\n",
      "        (1): Linear(in_features=784, out_features=512, bias=True)\n",
      "        (2): ReLU()\n",
      "        (3): Linear(in_features=512, out_features=256, bias=True)\n",
      "        (4): ReLU()\n",
      "        (5): Linear(in_features=256, out_features=100, bias=True)\n",
      "        (6): ReLU()\n",
      "      )\n",
      "      (mean_layer): Linear(in_features=100, out_features=5, bias=True)\n",
      "      (logvar_layer): Linear(in_features=100, out_features=5, bias=True)\n",
      "    )\n",
      "    (decoder): VaeDecoder(\n",
      "      (FC): Sequential(\n",
      "        (0): Linear(in_features=5, out_features=100, bias=True)\n",
      "        (1): ReLU()\n",
      "        (2): Linear(in_features=100, out_features=256, bias=True)\n",
      "        (3): ReLU()\n",
      "        (4): Linear(in_features=256, out_features=512, bias=True)\n",
      "        (5): ReLU()\n",
      "        (6): Linear(in_features=512, out_features=784, bias=True)\n",
      "      )\n",
      "    )\n",
      "  )\n",
      "  (parameterizer): ConvParameterizer(\n",
      "    (cl_layers): Sequential(\n",
      "      (0): Conv2d(1, 10, kernel_size=(5, 5), stride=(1, 1))\n",
      "      (1): MaxPool2d(kernel_size=2, stride=2, padding=0, dilation=1, ceil_mode=False)\n",
      "      (2): ReLU()\n",
      "      (3): Conv2d(10, 20, kernel_size=(5, 5), stride=(1, 1))\n",
      "      (4): Dropout2d(p=0.5, inplace=False)\n",
      "      (5): MaxPool2d(kernel_size=2, stride=2, padding=0, dilation=1, ceil_mode=False)\n",
      "      (6): ReLU()\n",
      "    )\n",
      "    (fc_layers): Sequential(\n",
      "      (0): Linear(in_features=320, out_features=50, bias=True)\n",
      "      (1): Dropout(p=0.5, inplace=False)\n",
      "      (2): Tanh()\n",
      "    )\n",
      "  )\n",
      "  (aggregator): SumAggregator()\n",
      ")\n",
      "Trainable Parameters: 1141520\n",
      "\n",
      "Training begins...\n",
      "EPOCH:0 STEP:0\n",
      "Total Loss:3.118 \tClassification Loss:2.303 \tRobustness Loss:0.037 \tConcept Loss:0.816 \tAccuracy:0.070 \t\n",
      "EPOCH:0 STEP:50\n",
      "Total Loss:2.983 \tClassification Loss:2.096 \tRobustness Loss:0.982 \tConcept Loss:0.886 \tAccuracy:0.398 \t\n",
      "\n",
      "\u001b[93m-------- Validation --------\n",
      "Total Loss:2.602 \tClassification Loss:1.644 \tRobustness Loss:0.000 \tConcept Loss:0.958 \tAccuracy:0.798 \t\n",
      "----------------------------\u001b[0m\n",
      "\u001b[92mCongratulations! Saving a new best model...\u001b[00m\n",
      "Checkpoint saved @ results/mnist_bvae_default/checkpoints/best_model.pt\n",
      "\n",
      "EPOCH:0 STEP:100\n",
      "Total Loss:2.569 \tClassification Loss:1.636 \tRobustness Loss:1.654 \tConcept Loss:0.931 \tAccuracy:0.812 \t\n",
      "EPOCH:0 STEP:150\n",
      "Total Loss:2.337 \tClassification Loss:1.161 \tRobustness Loss:3.629 \tConcept Loss:1.173 \tAccuracy:0.852 \t\n",
      "\n",
      "\u001b[93m-------- Validation --------\n",
      "Total Loss:2.263 \tClassification Loss:1.061 \tRobustness Loss:0.000 \tConcept Loss:1.202 \tAccuracy:0.859 \t\n",
      "----------------------------\u001b[0m\n",
      "\u001b[92mCongratulations! Saving a new best model...\u001b[00m\n",
      "Checkpoint saved @ results/mnist_bvae_default/checkpoints/best_model.pt\n",
      "\n",
      "EPOCH:0 STEP:200\n",
      "Total Loss:2.272 \tClassification Loss:1.075 \tRobustness Loss:3.327 \tConcept Loss:1.194 \tAccuracy:0.914 \t\n",
      "EPOCH:0 STEP:250\n",
      "Total Loss:2.209 \tClassification Loss:1.004 \tRobustness Loss:3.105 \tConcept Loss:1.201 \tAccuracy:0.914 \t\n",
      "\n",
      "\u001b[93m-------- Validation --------\n",
      "Total Loss:2.215 \tClassification Loss:0.992 \tRobustness Loss:0.000 \tConcept Loss:1.222 \tAccuracy:0.926 \t\n",
      "----------------------------\u001b[0m\n",
      "\u001b[92mCongratulations! Saving a new best model...\u001b[00m\n",
      "Checkpoint saved @ results/mnist_bvae_default/checkpoints/best_model.pt\n",
      "\n",
      "EPOCH:0 STEP:300\n",
      "Total Loss:2.204 \tClassification Loss:0.956 \tRobustness Loss:3.375 \tConcept Loss:1.245 \tAccuracy:0.922 \t\n",
      "EPOCH:0 STEP:350\n",
      "Total Loss:2.241 \tClassification Loss:1.034 \tRobustness Loss:3.944 \tConcept Loss:1.204 \tAccuracy:0.898 \t\n",
      "\n",
      "\u001b[93m-------- Validation --------\n",
      "Total Loss:2.178 \tClassification Loss:0.966 \tRobustness Loss:0.000 \tConcept Loss:1.213 \tAccuracy:0.966 \t\n",
      "----------------------------\u001b[0m\n",
      "\u001b[92mCongratulations! Saving a new best model...\u001b[00m\n",
      "Checkpoint saved @ results/mnist_bvae_default/checkpoints/best_model.pt\n",
      "\n",
      "EPOCH:0 STEP:400\n",
      "Total Loss:2.151 \tClassification Loss:0.951 \tRobustness Loss:3.757 \tConcept Loss:1.196 \tAccuracy:0.969 \t\n",
      "Checkpoint saved @ results/mnist_bvae_default/checkpoints/Epoch[0]-Step[421].pt\n",
      "\n",
      "Please wait while we finalize...\n",
      "Checkpoint saved @ results/mnist_bvae_default/checkpoints/Epoch[0]-Step[421].pt\n",
      "\n"
     ]
    },
    {
     "data": {
      "text/plain": [
       "<Figure size 748.8x514.8 with 0 Axes>"
      ]
     },
     "metadata": {},
     "output_type": "display_data"
    },
    {
     "data": {
      "text/plain": [
       "<Figure size 640x480 with 0 Axes>"
      ]
     },
     "metadata": {},
     "output_type": "display_data"
    },
    {
     "data": {
      "text/plain": [
       "<Figure size 640x480 with 0 Axes>"
      ]
     },
     "metadata": {},
     "output_type": "display_data"
    },
    {
     "data": {
      "text/plain": [
       "<Figure size 640x480 with 0 Axes>"
      ]
     },
     "metadata": {},
     "output_type": "display_data"
    },
    {
     "data": {
      "text/plain": [
       "<Figure size 640x480 with 0 Axes>"
      ]
     },
     "metadata": {},
     "output_type": "display_data"
    },
    {
     "data": {
      "text/plain": [
       "<Figure size 640x480 with 0 Axes>"
      ]
     },
     "metadata": {},
     "output_type": "display_data"
    },
    {
     "data": {
      "text/plain": [
       "<Figure size 640x480 with 0 Axes>"
      ]
     },
     "metadata": {},
     "output_type": "display_data"
    },
    {
     "data": {
      "text/plain": [
       "<Figure size 640x480 with 0 Axes>"
      ]
     },
     "metadata": {},
     "output_type": "display_data"
    },
    {
     "data": {
      "text/plain": [
       "<Figure size 640x480 with 0 Axes>"
      ]
     },
     "metadata": {},
     "output_type": "display_data"
    },
    {
     "data": {
      "text/plain": [
       "<Figure size 640x480 with 0 Axes>"
      ]
     },
     "metadata": {},
     "output_type": "display_data"
    },
    {
     "data": {
      "text/plain": [
       "<Figure size 640x480 with 0 Axes>"
      ]
     },
     "metadata": {},
     "output_type": "display_data"
    }
   ],
   "source": [
    "trainer = Trainer(config)\n",
    "trainer.run()\n",
    "trainer.finalize()"
   ]
  },
  {
   "cell_type": "markdown",
   "metadata": {},
   "source": [
    "## Load Trained Model"
   ]
  },
  {
   "cell_type": "code",
   "execution_count": 12,
   "metadata": {},
   "outputs": [],
   "source": [
    "conceptizer = eval(config.conceptizer)(**config.__dict__)\n",
    "parameterizer = eval(config.parameterizer)(**config.__dict__)\n",
    "aggregator = eval(config.aggregator)(**config.__dict__)"
   ]
  },
  {
   "cell_type": "code",
   "execution_count": 13,
   "metadata": {},
   "outputs": [],
   "source": [
    "model = DiSENN(conceptizer, parameterizer, aggregator)"
   ]
  },
  {
   "cell_type": "code",
   "execution_count": 14,
   "metadata": {},
   "outputs": [
    {
     "name": "stdout",
     "output_type": "stream",
     "text": [
      "Loading trained model: results/mnist_bvae_default/checkpoints/best_model.pt\n"
     ]
    }
   ],
   "source": [
    "checkpoint_path = Path('results')\n",
    "model_file = checkpoint_path / config.exp_name / \"checkpoints\" / \"best_model.pt\" \n",
    "checkpoint = torch.load(model_file, config.device)\n",
    "print(f\"Loading trained model: {model_file}\")"
   ]
  },
  {
   "cell_type": "code",
   "execution_count": 15,
   "metadata": {},
   "outputs": [
    {
     "data": {
      "text/plain": [
       "<All keys matched successfully>"
      ]
     },
     "execution_count": 15,
     "metadata": {},
     "output_type": "execute_result"
    }
   ],
   "source": [
    "model.load_state_dict(checkpoint['model_state'])"
   ]
  },
  {
   "cell_type": "markdown",
   "metadata": {},
   "source": [
    "# Classification"
   ]
  },
  {
   "cell_type": "code",
   "execution_count": 16,
   "metadata": {},
   "outputs": [],
   "source": [
    "xb, yb = next(iter(val_dl))\n",
    "y_pred, explanations, x_reconstruct = model(xb)"
   ]
  },
  {
   "cell_type": "code",
   "execution_count": 17,
   "metadata": {},
   "outputs": [],
   "source": [
    "plt.rcParams['figure.figsize'] = (2, 2)"
   ]
  },
  {
   "cell_type": "code",
   "execution_count": 18,
   "metadata": {},
   "outputs": [
    {
     "data": {
      "text/plain": [
       "<matplotlib.image.AxesImage at 0x7f6201c4e090>"
      ]
     },
     "execution_count": 18,
     "metadata": {},
     "output_type": "execute_result"
    },
    {
     "data": {
      "image/png": "[encoded data removed]",
      "text/plain": [
       "<Figure size 200x200 with 1 Axes>"
      ]
     },
     "metadata": {},
     "output_type": "display_data"
    }
   ],
   "source": [
    "plt.imshow(xb[-1][0], cmap='gray')"
   ]
  },
  {
   "cell_type": "code",
   "execution_count": 19,
   "metadata": {},
   "outputs": [
    {
     "data": {
      "text/plain": [
       "(tensor([3, 1, 0, 9, 2, 8, 2, 9, 3, 5, 6, 6, 7, 7, 7, 1, 6, 0, 0, 0, 8, 4, 4, 0,\n",
       "         3, 4, 6, 9, 6, 0, 7, 7, 7, 3, 6, 5, 1, 2, 2, 9, 3, 2, 9, 1, 6, 2, 7, 4,\n",
       "         3, 3, 8, 4, 9, 8, 5, 2, 8, 2, 0, 6, 1, 3, 1, 7, 9, 2, 9, 7, 9, 1, 1, 4,\n",
       "         4, 0, 0, 2, 8, 5, 2, 6, 7, 9, 3, 5, 6, 5, 6, 7, 5, 8, 6, 7, 9, 2, 2, 7,\n",
       "         1, 6, 1, 5, 4, 7, 5, 1, 3, 7, 0, 8, 2, 3, 9, 1, 1, 9, 2, 3, 4, 8, 0, 9,\n",
       "         0, 9, 0, 3, 4, 2, 8, 4]),\n",
       " tensor([3, 1, 0, 9, 2, 8, 9, 9, 3, 5, 6, 0, 7, 7, 7, 1, 6, 0, 0, 0, 8, 9, 4, 6,\n",
       "         3, 4, 6, 9, 6, 9, 7, 7, 7, 3, 6, 5, 1, 2, 2, 9, 3, 2, 9, 1, 6, 2, 7, 4,\n",
       "         3, 3, 8, 4, 4, 8, 5, 0, 8, 2, 0, 6, 1, 3, 8, 7, 9, 2, 4, 7, 9, 1, 1, 4,\n",
       "         4, 0, 0, 2, 8, 6, 2, 6, 7, 9, 5, 5, 5, 5, 6, 7, 5, 8, 6, 9, 9, 2, 2, 7,\n",
       "         1, 6, 1, 5, 4, 7, 8, 1, 3, 7, 0, 8, 2, 3, 9, 1, 0, 9, 0, 3, 4, 2, 2, 9,\n",
       "         0, 9, 0, 3, 4, 4, 8, 9]))"
      ]
     },
     "execution_count": 19,
     "metadata": {},
     "output_type": "execute_result"
    }
   ],
   "source": [
    "y_pred.argmax(1), yb"
   ]
  },
  {
   "cell_type": "code",
   "execution_count": 20,
   "metadata": {},
   "outputs": [
    {
     "data": {
      "text/plain": [
       "<matplotlib.image.AxesImage at 0x7f6201c81ad0>"
      ]
     },
     "execution_count": 20,
     "metadata": {},
     "output_type": "execute_result"
    },
    {
     "data": {
      "image/png": "[encoded data removed]",
      "text/plain": [
       "<Figure size 200x200 with 1 Axes>"
      ]
     },
     "metadata": {},
     "output_type": "display_data"
    }
   ],
   "source": [
    "plt.imshow(x_reconstruct[-1][0].detach().numpy(), cmap='gray')"
   ]
  },
  {
   "cell_type": "code",
   "execution_count": 21,
   "metadata": {},
   "outputs": [],
   "source": [
    "model = model.to(config.device)"
   ]
  },
  {
   "cell_type": "code",
   "execution_count": 22,
   "metadata": {},
   "outputs": [
    {
     "name": "stdout",
     "output_type": "stream",
     "text": [
      "Test Mean Accuracy: 98.750 %\n"
     ]
    }
   ],
   "source": [
    "accuracy = 0.\n",
    "model.eval()\n",
    "with torch.no_grad():\n",
    "    for i, (x, labels) in enumerate(val_dl):\n",
    "        x = x.float().to(config.device)\n",
    "        labels = labels.long().to(config.device)\n",
    "        y_pred, explanations, x_reconstructed = model(x)\n",
    "        accuracy += (y_pred.argmax(axis=1) == labels).float().mean().item()\n",
    "print(f\"Test Mean Accuracy: {accuracy/i*100:.3f} %\")"
   ]
  },
  {
   "cell_type": "code",
   "execution_count": 23,
   "metadata": {},
   "outputs": [],
   "source": [
    "model = model.to(torch.device('cpu'))"
   ]
  },
  {
   "cell_type": "markdown",
   "metadata": {},
   "source": [
    "# Explanation"
   ]
  },
  {
   "cell_type": "markdown",
   "metadata": {},
   "source": [
    "## Generate Prototypes from Disentangled Concepts"
   ]
  },
  {
   "cell_type": "code",
   "execution_count": 47,
   "metadata": {},
   "outputs": [],
   "source": [
    "num_prototypes = 20\n",
    "traversal_range = 2"
   ]
  },
  {
   "cell_type": "code",
   "execution_count": 48,
   "metadata": {},
   "outputs": [],
   "source": [
    "plt.rcParams['figure.figsize'] = (2, 2)"
   ]
  },
  {
   "cell_type": "code",
   "execution_count": 69,
   "metadata": {},
   "outputs": [
    {
     "data": {
      "text/plain": [
       "<matplotlib.image.AxesImage at 0x7f620019c6d0>"
      ]
     },
     "execution_count": 69,
     "metadata": {},
     "output_type": "execute_result"
    },
    {
     "data": {
      "image/png": "[encoded data removed]",
      "text/plain": [
       "<Figure size 200x200 with 1 Axes>"
      ]
     },
     "metadata": {},
     "output_type": "display_data"
    }
   ],
   "source": [
    "x = xb[2]\n",
    "plt.imshow(x.numpy().squeeze(), cmap='gray')"
   ]
  },
  {
   "cell_type": "code",
   "execution_count": 70,
   "metadata": {},
   "outputs": [],
   "source": [
    "y_pred, explanations, x_reconstruct = model(x.unsqueeze(0))\n",
    "(x_posterior_mean, x_posterior_logvar), relevances = explanations\n",
    "x_posterior_mean, x_posterior_logvar = x_posterior_mean.squeeze(-1), x_posterior_logvar.squeeze(-1)"
   ]
  },
  {
   "cell_type": "code",
   "execution_count": 71,
   "metadata": {},
   "outputs": [],
   "source": [
    "concepts = x_posterior_mean.detach().numpy()\n",
    "num_concepts = concepts.shape[1]\n",
    "concepts_sample = model.vae_conceptizer.sample(x_posterior_mean, x_posterior_logvar).detach()"
   ]
  },
  {
   "cell_type": "code",
   "execution_count": 72,
   "metadata": {},
   "outputs": [],
   "source": [
    "concepts_sample = concepts_sample.repeat(num_prototypes, 1)"
   ]
  },
  {
   "cell_type": "code",
   "execution_count": 73,
   "metadata": {},
   "outputs": [
    {
     "data": {
      "text/plain": [
       "tensor([[ 0.2918, -0.1720, -0.2105, -0.3110,  0.2542],\n",
       "        [ 0.2918, -0.1720, -0.2105, -0.3110,  0.2542],\n",
       "        [ 0.2918, -0.1720, -0.2105, -0.3110,  0.2542],\n",
       "        [ 0.2918, -0.1720, -0.2105, -0.3110,  0.2542],\n",
       "        [ 0.2918, -0.1720, -0.2105, -0.3110,  0.2542],\n",
       "        [ 0.2918, -0.1720, -0.2105, -0.3110,  0.2542],\n",
       "        [ 0.2918, -0.1720, -0.2105, -0.3110,  0.2542],\n",
       "        [ 0.2918, -0.1720, -0.2105, -0.3110,  0.2542],\n",
       "        [ 0.2918, -0.1720, -0.2105, -0.3110,  0.2542],\n",
       "        [ 0.2918, -0.1720, -0.2105, -0.3110,  0.2542],\n",
       "        [ 0.2918, -0.1720, -0.2105, -0.3110,  0.2542],\n",
       "        [ 0.2918, -0.1720, -0.2105, -0.3110,  0.2542],\n",
       "        [ 0.2918, -0.1720, -0.2105, -0.3110,  0.2542],\n",
       "        [ 0.2918, -0.1720, -0.2105, -0.3110,  0.2542],\n",
       "        [ 0.2918, -0.1720, -0.2105, -0.3110,  0.2542],\n",
       "        [ 0.2918, -0.1720, -0.2105, -0.3110,  0.2542],\n",
       "        [ 0.2918, -0.1720, -0.2105, -0.3110,  0.2542],\n",
       "        [ 0.2918, -0.1720, -0.2105, -0.3110,  0.2542],\n",
       "        [ 0.2918, -0.1720, -0.2105, -0.3110,  0.2542],\n",
       "        [ 0.2918, -0.1720, -0.2105, -0.3110,  0.2542]])"
      ]
     },
     "execution_count": 73,
     "metadata": {},
     "output_type": "execute_result"
    }
   ],
   "source": [
    "concepts_sample"
   ]
  },
  {
   "cell_type": "code",
   "execution_count": 74,
   "metadata": {},
   "outputs": [],
   "source": [
    "def independent_traversal(matrix, dim, traversal_range=2, steps=num_prototypes):\n",
    "    \"\"\"Linearly traverses through one dimension of a matrix independently\"\"\"\n",
    "    traversal = torch.linspace(-1 * traversal_range, traversal_range, steps)\n",
    "    matrix_traversal = matrix.clone() # to avoid changing the matrix\n",
    "    matrix_traversal[:, dim] = traversal\n",
    "    return matrix_traversal"
   ]
  },
  {
   "cell_type": "code",
   "execution_count": 75,
   "metadata": {},
   "outputs": [],
   "source": [
    "concepts_traversals = [independent_traversal(concepts_sample, dim) for dim in range(num_concepts)]"
   ]
  },
  {
   "cell_type": "code",
   "execution_count": 76,
   "metadata": {},
   "outputs": [
    {
     "data": {
      "text/plain": [
       "tensor([[ 0.2918, -0.1720, -2.0000, -0.3110,  0.2542],\n",
       "        [ 0.2918, -0.1720, -1.7895, -0.3110,  0.2542],\n",
       "        [ 0.2918, -0.1720, -1.5789, -0.3110,  0.2542],\n",
       "        [ 0.2918, -0.1720, -1.3684, -0.3110,  0.2542],\n",
       "        [ 0.2918, -0.1720, -1.1579, -0.3110,  0.2542],\n",
       "        [ 0.2918, -0.1720, -0.9474, -0.3110,  0.2542],\n",
       "        [ 0.2918, -0.1720, -0.7368, -0.3110,  0.2542],\n",
       "        [ 0.2918, -0.1720, -0.5263, -0.3110,  0.2542],\n",
       "        [ 0.2918, -0.1720, -0.3158, -0.3110,  0.2542],\n",
       "        [ 0.2918, -0.1720, -0.1053, -0.3110,  0.2542],\n",
       "        [ 0.2918, -0.1720,  0.1053, -0.3110,  0.2542],\n",
       "        [ 0.2918, -0.1720,  0.3158, -0.3110,  0.2542],\n",
       "        [ 0.2918, -0.1720,  0.5263, -0.3110,  0.2542],\n",
       "        [ 0.2918, -0.1720,  0.7368, -0.3110,  0.2542],\n",
       "        [ 0.2918, -0.1720,  0.9474, -0.3110,  0.2542],\n",
       "        [ 0.2918, -0.1720,  1.1579, -0.3110,  0.2542],\n",
       "        [ 0.2918, -0.1720,  1.3684, -0.3110,  0.2542],\n",
       "        [ 0.2918, -0.1720,  1.5789, -0.3110,  0.2542],\n",
       "        [ 0.2918, -0.1720,  1.7895, -0.3110,  0.2542],\n",
       "        [ 0.2918, -0.1720,  2.0000, -0.3110,  0.2542]])"
      ]
     },
     "execution_count": 76,
     "metadata": {},
     "output_type": "execute_result"
    }
   ],
   "source": [
    "concepts_traversals[2]"
   ]
  },
  {
   "cell_type": "code",
   "execution_count": 77,
   "metadata": {},
   "outputs": [],
   "source": [
    "concepts_traversals = torch.cat(concepts_traversals, dim=0)"
   ]
  },
  {
   "cell_type": "code",
   "execution_count": 78,
   "metadata": {},
   "outputs": [],
   "source": [
    "prototypes = model.vae_conceptizer.decoder(concepts_traversals)"
   ]
  },
  {
   "cell_type": "code",
   "execution_count": 79,
   "metadata": {},
   "outputs": [
    {
     "data": {
      "text/plain": [
       "torch.Size([100, 784])"
      ]
     },
     "execution_count": 79,
     "metadata": {},
     "output_type": "execute_result"
    }
   ],
   "source": [
    "prototypes.shape"
   ]
  },
  {
   "cell_type": "code",
   "execution_count": 80,
   "metadata": {},
   "outputs": [],
   "source": [
    "prototype_imgs = prototypes.view((-1, 1, 28, 28))"
   ]
  },
  {
   "cell_type": "code",
   "execution_count": 81,
   "metadata": {},
   "outputs": [
    {
     "data": {
      "text/plain": [
       "torch.Size([100, 1, 28, 28])"
      ]
     },
     "execution_count": 81,
     "metadata": {},
     "output_type": "execute_result"
    }
   ],
   "source": [
    "prototype_imgs.shape"
   ]
  },
  {
   "cell_type": "code",
   "execution_count": 82,
   "metadata": {},
   "outputs": [],
   "source": [
    "from torchvision.utils import make_grid"
   ]
  },
  {
   "cell_type": "code",
   "execution_count": 83,
   "metadata": {},
   "outputs": [],
   "source": [
    "# nrow is number of images in a row which must be the number of prototypes\n",
    "prototype_grid_img = make_grid(prototype_imgs, nrow=num_prototypes).detach().numpy()"
   ]
  },
  {
   "cell_type": "code",
   "execution_count": 84,
   "metadata": {},
   "outputs": [
    {
     "data": {
      "text/plain": [
       "(3, 152, 602)"
      ]
     },
     "execution_count": 84,
     "metadata": {},
     "output_type": "execute_result"
    }
   ],
   "source": [
    "prototype_grid_img.shape"
   ]
  },
  {
   "cell_type": "code",
   "execution_count": 85,
   "metadata": {},
   "outputs": [
    {
     "data": {
      "text/plain": [
       "<BarContainer object of 5 artists>"
      ]
     },
     "execution_count": 85,
     "metadata": {},
     "output_type": "execute_result"
    },
    {
     "data": {
      "image/png": "[encoded data removed]",
      "text/plain": [
       "<Figure size 200x200 with 1 Axes>"
      ]
     },
     "metadata": {},
     "output_type": "display_data"
    }
   ],
   "source": [
    "plt.barh(range(num_concepts), concepts.squeeze())"
   ]
  },
  {
   "cell_type": "code",
   "execution_count": 86,
   "metadata": {},
   "outputs": [
    {
     "data": {
      "text/plain": [
       "<BarContainer object of 5 artists>"
      ]
     },
     "execution_count": 86,
     "metadata": {},
     "output_type": "execute_result"
    },
    {
     "data": {
      "image/png": "[encoded data removed]",
      "text/plain": [
       "<Figure size 200x200 with 1 Axes>"
      ]
     },
     "metadata": {},
     "output_type": "display_data"
    }
   ],
   "source": [
    "relevances = relevances.squeeze(0).detach().numpy()\n",
    "plt.barh(range(num_concepts), relevances[:,y_pred.argmax(1)])"
   ]
  },
  {
   "cell_type": "code",
   "execution_count": 87,
   "metadata": {},
   "outputs": [
    {
     "data": {
      "text/plain": [
       "<matplotlib.image.AxesImage at 0x7f62000b6f10>"
      ]
     },
     "execution_count": 87,
     "metadata": {},
     "output_type": "execute_result"
    },
    {
     "data": {
      "image/png": "[encoded data removed]",
      "text/plain": [
       "<Figure size 500x500 with 1 Axes>"
      ]
     },
     "metadata": {},
     "output_type": "display_data"
    }
   ],
   "source": [
    "plt.rcParams['figure.figsize'] = (5, 5)\n",
    "plt.imshow(prototype_grid_img.transpose(1,2,0))"
   ]
  },
  {
   "cell_type": "code",
   "execution_count": 88,
   "metadata": {},
   "outputs": [
    {
     "data": {
      "text/plain": [
       "<matplotlib.image.AxesImage at 0x7f6200023110>"
      ]
     },
     "execution_count": 88,
     "metadata": {},
     "output_type": "execute_result"
    },
    {
     "data": {
      "image/png": "[encoded data removed]",
      "text/plain": [
       "<Figure size 200x200 with 1 Axes>"
      ]
     },
     "metadata": {},
     "output_type": "display_data"
    }
   ],
   "source": [
    "plt.rcParams['figure.figsize'] = (2,2)\n",
    "plt.imshow(x.numpy().squeeze(), cmap='gray')"
   ]
  },
  {
   "cell_type": "code",
   "execution_count": null,
   "metadata": {},
   "outputs": [],
   "source": []
  }
 ],
 "metadata": {
  "kernelspec": {
   "display_name": "Python 3",
   "language": "python",
   "name": "python3"
  },
  "language_info": {
   "codemirror_mode": {
    "name": "ipython",
    "version": 3
   },
   "file_extension": ".py",
   "mimetype": "text/x-python",
   "name": "python",
   "nbconvert_exporter": "python",
   "pygments_lexer": "ipython3",
   "version": "3.7.4"
  }
 },
 "nbformat": 4,
 "nbformat_minor": 4
}
