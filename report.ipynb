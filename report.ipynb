{
 "cells": [
  {
   "cell_type": "markdown",
   "metadata": {},
   "source": [
    "# Self-Explaining Neural Networks\n",
    "---"
   ]
  },
  {
   "cell_type": "markdown",
   "metadata": {},
   "source": [
    "## Import libraries"
   ]
  },
  {
   "cell_type": "code",
   "execution_count": 31,
   "metadata": {},
   "outputs": [],
   "source": [
    "import torch\n",
    "import torch.nn as nn\n",
    "import numpy as np\n",
    "from pathlib import Path\n",
    "from types import SimpleNamespace\n",
    "from importlib import import_module\n",
    "import matplotlib.pyplot as plt\n",
    "\n",
    "%matplotlib inline"
   ]
  },
  {
   "cell_type": "code",
   "execution_count": 19,
   "metadata": {},
   "outputs": [],
   "source": [
    "from models.losses import mse_l1_sparsity\n",
    "from models.parameterizer import ConvParameterizer\n",
    "from models.conceptizer import ConvConceptizer\n",
    "from models.aggregator import SumAggregator\n",
    "from models.senn import SENN"
   ]
  },
  {
   "cell_type": "markdown",
   "metadata": {},
   "source": [
    "## Configuration"
   ]
  },
  {
   "cell_type": "code",
   "execution_count": 35,
   "metadata": {},
   "outputs": [],
   "source": [
    "plt.style.use('seaborn-talk')"
   ]
  },
  {
   "cell_type": "code",
   "execution_count": 20,
   "metadata": {},
   "outputs": [],
   "source": [
    "config = {\n",
    "    \"conceptizer\": \"ConvConceptizer\",\n",
    "    \"image_size\": 28,\n",
    "    \"concept_dim\": 1,\n",
    "    \"concept_visualization\": \"activation\",\n",
    "    \"parameterizer\": \"ConvParameterizer\",\n",
    "    \"cl_sizes\": [1, 10, 20],\n",
    "    \"hidden_sizes\": [320, 50],\n",
    "    \"num_concepts\": 5,\n",
    "    \"num_classes\": 10,\n",
    "    \"dropout\": 0.5,\n",
    "    \"aggregator\": \"SumAggregator\",\n",
    "    \"device\": \"cpu\",\n",
    "    \"robust_reg\": 1e-3,\n",
    "    \"concept_reg\": 1,\n",
    "    \"exp_name\": \"mnist_test\",\n",
    "    \"dataloader\": \"mnist\",\n",
    "    \"data_path\": \"datasets/data/mnist_data\",\n",
    "    \"batch_size\" : 64,\n",
    "    \"sparsity_reg\" : 2e-5,\n",
    "}\n",
    "config = SimpleNamespace(**config)"
   ]
  },
  {
   "cell_type": "markdown",
   "metadata": {},
   "source": [
    "## Load Test Data"
   ]
  },
  {
   "cell_type": "code",
   "execution_count": 21,
   "metadata": {},
   "outputs": [],
   "source": [
    "from datasets.dataloaders import get_dataloader\n",
    "_, _, test_dl = get_dataloader(config)"
   ]
  },
  {
   "cell_type": "markdown",
   "metadata": {},
   "source": [
    "## Load Trained Model"
   ]
  },
  {
   "cell_type": "code",
   "execution_count": null,
   "metadata": {},
   "outputs": [],
   "source": [
    "conceptizer =  ConvConceptizer()"
   ]
  },
  {
   "cell_type": "code",
   "execution_count": 22,
   "metadata": {},
   "outputs": [],
   "source": [
    "conceptizer = getattr(import_module(\"models.conceptizer\"), config.conceptizer)(**config.__dict__)\n",
    "parameterizer = getattr(import_module(\"models.parameterizer\"), config.parameterizer)(**config.__dict__)\n",
    "aggregator = getattr(import_module(\"models.aggregator\"), config.aggregator)(**config.__dict__)"
   ]
  },
  {
   "cell_type": "code",
   "execution_count": 23,
   "metadata": {},
   "outputs": [],
   "source": [
    "model = SENN(conceptizer, parameterizer, aggregator)"
   ]
  },
  {
   "cell_type": "code",
   "execution_count": 24,
   "metadata": {},
   "outputs": [
    {
     "name": "stdout",
     "output_type": "stream",
     "text": [
      "Loading trained model: results/mnist_test/checkpoints/best_model.pt\n"
     ]
    }
   ],
   "source": [
    "checkpoint_path = Path('results')\n",
    "model_file = checkpoint_path / config.exp_name / \"checkpoints\" / \"best_model.pt\" \n",
    "checkpoint = torch.load(model_file, config.device)\n",
    "print(f\"Loading trained model: {model_file}\")"
   ]
  },
  {
   "cell_type": "code",
   "execution_count": 25,
   "metadata": {},
   "outputs": [
    {
     "data": {
      "text/plain": [
       "<All keys matched successfully>"
      ]
     },
     "execution_count": 25,
     "metadata": {},
     "output_type": "execute_result"
    }
   ],
   "source": [
    "model.load_state_dict(checkpoint['model_state'])"
   ]
  },
  {
   "cell_type": "markdown",
   "metadata": {},
   "source": [
    "## Test Performance"
   ]
  },
  {
   "cell_type": "code",
   "execution_count": 26,
   "metadata": {},
   "outputs": [],
   "source": [
    "get_nll_Loss = nn.NLLLoss\n",
    "get_sparsity_loss = mse_l1_sparsity"
   ]
  },
  {
   "cell_type": "code",
   "execution_count": 27,
   "metadata": {},
   "outputs": [
    {
     "name": "stdout",
     "output_type": "stream",
     "text": [
      "Test Mean Accuracy: 99.042 %\n"
     ]
    }
   ],
   "source": [
    "accuracy = 0.\n",
    "model.eval()\n",
    "with torch.no_grad():\n",
    "    for i, (x, labels) in enumerate(test_dl):\n",
    "        x = x.float().to(config.device)\n",
    "        labels = labels.long().to(config.device)\n",
    "        y_pred, (concepts, relevances), x_reconstructed = model(x)\n",
    "        accuracy += (y_pred.argmax(axis=1) == labels).float().mean().item()\n",
    "print(f\"Test Mean Accuracy: {accuracy/i*100:.3f} %\")"
   ]
  },
  {
   "cell_type": "markdown",
   "metadata": {},
   "source": [
    "## Result Visualization"
   ]
  },
  {
   "cell_type": "code",
   "execution_count": 41,
   "metadata": {},
   "outputs": [],
   "source": [
    "def create_barplot(relevances, y_pred, concept_names=None):\n",
    "    \"\"\"Creates a bar plot of relevances.\n",
    "\n",
    "    Parameters\n",
    "    ----------\n",
    "    relevances: torch.tensor\n",
    "       The relevances for which the bar plot should be generated. shape: (1, NUM_CONCEPTS, NUM_CLASSES)\n",
    "    y_pred: torch.tensor (int)\n",
    "       The prediction of the model for the corresponding relevances. shape: scalar value\n",
    "    save_path: str\n",
    "        Path to the location where the bar plot should be saved.\n",
    "    \"\"\"\n",
    "    fig, ax = plt.subplots(figsize=(2,2))\n",
    "    \n",
    "    y_pred = y_pred.item()\n",
    "    relevances = relevances[0, :, y_pred].squeeze()\n",
    "    if concept_names is None:\n",
    "        concept_names = ['Concept {}'.format(i + 1) for i in range(len(relevances))]\n",
    "        concept_names.reverse()\n",
    "    y_pos = np.arange(len(concept_names))\n",
    "    colors = ['b' if r > 0 else 'r' for r in relevances]\n",
    "    colors.reverse()\n",
    "\n",
    "    ax.barh(y_pos, np.flip(relevances.detach().cpu().numpy()), align='center', color=colors)\n",
    "    ax.set_yticks(y_pos)\n",
    "    ax.set_yticklabels(concept_names)\n",
    "    ax.set_xlabel('Relevances (thetas)')\n",
    "    ax.set_title('Explanation for prediction: {}'.format(y_pred))\n",
    "    plt.show()"
   ]
  },
  {
   "cell_type": "code",
   "execution_count": 47,
   "metadata": {},
   "outputs": [
    {
     "data": {
      "image/png": "[encoded data removed]",
      "text/plain": [
       "<Figure size 640x480 with 1 Axes>"
      ]
     },
     "metadata": {},
     "output_type": "display_data"
    },
    {
     "data": {
      "image/png": "[encoded data removed]",
      "text/plain": [
       "<Figure size 200x200 with 1 Axes>"
      ]
     },
     "metadata": {},
     "output_type": "display_data"
    },
    {
     "data": {
      "image/png": "[encoded data removed]",
      "text/plain": [
       "<Figure size 640x480 with 1 Axes>"
      ]
     },
     "metadata": {},
     "output_type": "display_data"
    },
    {
     "data": {
      "image/png": "[encoded data removed]",
      "text/plain": [
       "<Figure size 200x200 with 1 Axes>"
      ]
     },
     "metadata": {},
     "output_type": "display_data"
    }
   ],
   "source": [
    "(test_batch, test_labels) = next(iter(test_dl))\n",
    "\n",
    "for i in range(2):\n",
    "    example = test_batch[i].float().to(config.device)\n",
    "    if config.dataloader == 'mnist':\n",
    "       plt.imshow(example[0], cmap='gray')\n",
    "    y_pred, (concepts, relevances), _ = model(example.unsqueeze(0))\n",
    "    if len(y_pred.size()) > 1:\n",
    "        y_pred = y_pred.argmax(1)\n",
    "    create_barplot(relevances, y_pred)"
   ]
  },
  {
   "cell_type": "code",
   "execution_count": null,
   "metadata": {},
   "outputs": [],
   "source": []
  }
 ],
 "metadata": {
  "kernelspec": {
   "display_name": "Python 3",
   "language": "python",
   "name": "python3"
  },
  "language_info": {
   "codemirror_mode": {
    "name": "ipython",
    "version": 3
   },
   "file_extension": ".py",
   "mimetype": "text/x-python",
   "name": "python",
   "nbconvert_exporter": "python",
   "pygments_lexer": "ipython3",
   "version": "3.7.5"
  }
 },
 "nbformat": 4,
 "nbformat_minor": 4
}
